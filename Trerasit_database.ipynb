{
    "metadata": {
        "kernelspec": {
            "name": "SQL",
            "display_name": "SQL",
            "language": "sql"
        },
        "language_info": {
            "name": "sql",
            "version": ""
        }
    },
    "nbformat_minor": 2,
    "nbformat": 4,
    "cells": [
        {
            "cell_type": "markdown",
            "source": [
                "Tanapol Buangam 6110545511"
            ],
            "metadata": {
                "azdata_cell_guid": "1d4ca904-855c-448b-ad00-8eb32d5febc5"
            }
        },
        {
            "cell_type": "code",
            "source": [
                "/* First create the data base */\n",
                "CREATE DATABASE Trerasit_database;"
            ],
            "metadata": {
                "azdata_cell_guid": "5a9881fe-0c50-4d01-9056-b8f6a223f97e",
                "tags": []
            },
            "outputs": [
                {
                    "output_type": "display_data",
                    "data": {
                        "text/html": "Commands completed successfully."
                    },
                    "metadata": {}
                },
                {
                    "output_type": "display_data",
                    "data": {
                        "text/html": "Total execution time: 00:00:03.283"
                    },
                    "metadata": {}
                }
            ],
            "execution_count": 52
        },
        {
            "cell_type": "code",
            "source": [
                "/* use that data base */\n",
                "USE Trerasit_database;"
            ],
            "metadata": {
                "azdata_cell_guid": "5bbf40dc-1cc6-4532-ac20-8908148a3542"
            },
            "outputs": [
                {
                    "output_type": "display_data",
                    "data": {
                        "text/html": "Commands completed successfully."
                    },
                    "metadata": {}
                },
                {
                    "output_type": "display_data",
                    "data": {
                        "text/html": "Total execution time: 00:00:00.009"
                    },
                    "metadata": {}
                }
            ],
            "execution_count": 53
        },
        {
            "cell_type": "code",
            "source": [
                "/* create the company table */\n",
                "CREATE TABLE Company\n",
                "(company_name VARCHAR(255),\n",
                "address VARCHAR(255),\n",
                "tel_num VARCHAR(255),\n",
                "fax_num VARCHAR(255),\n",
                "type VARCHAR(255),\n",
                "PRIMARY KEY(company_name));"
            ],
            "metadata": {
                "azdata_cell_guid": "25d3401c-64f8-4819-b0cb-8fb7ad43f509",
                "tags": []
            },
            "outputs": [
                {
                    "output_type": "display_data",
                    "data": {
                        "text/html": "Commands completed successfully."
                    },
                    "metadata": {}
                },
                {
                    "output_type": "display_data",
                    "data": {
                        "text/html": "Total execution time: 00:00:00.034"
                    },
                    "metadata": {}
                }
            ],
            "execution_count": 25
        },
        {
            "cell_type": "code",
            "source": [
                "/* create the contact table */\n",
                "CREATE TABLE Contact\n",
                "(company_name VARCHAR(255),\n",
                "contact_name VARCHAR(255),\n",
                "email VARCHAR(255),\n",
                "PRIMARY KEY(contact_name),\n",
                "FOREIGN KEY (company_name) REFERENCES Company(company_name));\n",
                ""
            ],
            "metadata": {
                "azdata_cell_guid": "3899c95e-5965-4983-9c1c-d03ca5e30cab"
            },
            "outputs": [
                {
                    "output_type": "display_data",
                    "data": {
                        "text/html": "Commands completed successfully."
                    },
                    "metadata": {}
                },
                {
                    "output_type": "display_data",
                    "data": {
                        "text/html": "Total execution time: 00:00:00.026"
                    },
                    "metadata": {}
                }
            ],
            "execution_count": 26
        },
        {
            "cell_type": "code",
            "source": [
                "/* create the product table */\n",
                "CREATE TABLE Product\n",
                "(part_num VARCHAR(255),\n",
                "product_name VARCHAR(255),\n",
                "description VARCHAR(255),\n",
                "PRIMARY KEY(part_num));"
            ],
            "metadata": {
                "azdata_cell_guid": "8d226eb8-06ad-45f5-93c8-d9b5d8d5ab03"
            },
            "outputs": [
                {
                    "output_type": "display_data",
                    "data": {
                        "text/html": "Commands completed successfully."
                    },
                    "metadata": {}
                },
                {
                    "output_type": "display_data",
                    "data": {
                        "text/html": "Total execution time: 00:00:00.019"
                    },
                    "metadata": {}
                }
            ],
            "execution_count": 27
        },
        {
            "cell_type": "code",
            "source": [
                "/* create the quotation request table */\n",
                "CREATE TABLE Quotation_request\n",
                "(qr_num VARCHAR(255),\n",
                "date DATE,\n",
                "company_name VARCHAR(255),\n",
                "contact_name VARCHAR(255),\n",
                "part_num VARCHAR(255),\n",
                "quantity int,\n",
                "description VARCHAR(255),\n",
                "PRIMARY KEY(qr_num),\n",
                "FOREIGN KEY (company_name) REFERENCES Company(company_name),\n",
                "FOREIGN KEY (contact_name) REFERENCES Contact(contact_name),\n",
                "FOREIGN KEY (part_num) REFERENCES Product(part_num));"
            ],
            "metadata": {
                "azdata_cell_guid": "1ee55cb7-2223-48af-b221-c1c5bc206705",
                "tags": []
            },
            "outputs": [
                {
                    "output_type": "display_data",
                    "data": {
                        "text/html": "Commands completed successfully."
                    },
                    "metadata": {}
                },
                {
                    "output_type": "display_data",
                    "data": {
                        "text/html": "Total execution time: 00:00:00.034"
                    },
                    "metadata": {}
                }
            ],
            "execution_count": 28
        },
        {
            "cell_type": "code",
            "source": [
                "/* create the quotation table */\n",
                "CREATE TABLE Quotation\n",
                "(q_num VARCHAR(255),\n",
                "date DATE,\n",
                "qr_num VARCHAR(255),\n",
                "sell_price DECIMAL(10,2),\n",
                "description VARCHAR(255),\n",
                "PRIMARY KEY(q_num),\n",
                "FOREIGN KEY (qr_num) REFERENCES Quotation_request(qr_num));\n",
                ""
            ],
            "metadata": {
                "azdata_cell_guid": "b88427cb-facb-4730-9252-4918c46abc63"
            },
            "outputs": [
                {
                    "output_type": "display_data",
                    "data": {
                        "text/html": "Commands completed successfully."
                    },
                    "metadata": {}
                },
                {
                    "output_type": "display_data",
                    "data": {
                        "text/html": "Total execution time: 00:00:00.010"
                    },
                    "metadata": {}
                }
            ],
            "execution_count": 29
        },
        {
            "cell_type": "code",
            "source": [
                "/* create the purchase order table */\n",
                "CREATE TABLE Purchase_order\n",
                "(po_num VARCHAR(255),\n",
                "date DATE,\n",
                "q_num VARCHAR(255),\n",
                "company_name VARCHAR(255),\n",
                "contact_name VARCHAR(255),\n",
                "buy_price DECIMAL(10,2),\n",
                "description VARCHAR(255),\n",
                "PRIMARY KEY(po_num),\n",
                "FOREIGN KEY (q_num) REFERENCES Quotation(q_num),\n",
                "FOREIGN KEY (company_name) REFERENCES Company(company_name),\n",
                "FOREIGN KEY (contact_name) REFERENCES Contact(contact_name));\n",
                ""
            ],
            "metadata": {
                "azdata_cell_guid": "b53dd85c-539c-411f-8098-ef6aef9509b8"
            },
            "outputs": [
                {
                    "output_type": "display_data",
                    "data": {
                        "text/html": "Commands completed successfully."
                    },
                    "metadata": {}
                },
                {
                    "output_type": "display_data",
                    "data": {
                        "text/html": "Total execution time: 00:00:00.029"
                    },
                    "metadata": {}
                }
            ],
            "execution_count": 30
        },
        {
            "cell_type": "code",
            "source": [
                "/* insert the customer in to company table */\n",
                "insert into Company\n",
                "values ('Michelin Siam Co., Ltd (Nongkhae)', '57 Moo 6, Nongplakradi, Nongpramor, Nongkhae, Saraburi 18140', '+6636373276', '+6636373291', 'Customer'),\n",
                "('Michelin Siam Co., Ltd (Pradaeng)', '32 Moo 2 Phuchao Saming Phray, Samrong Klang, Phra Pradaeng District, Samut Prakan 10130', '+6624916474', '+6620059733', 'Customer'),\n",
                "('Michelin Siam Co., Ltd (Hat Yai)', '69 Moo 4, Chalung, Hat Yai District, Songkhla 90110', '+663536999', '+6623536988', 'Customer'),\n",
                "('SIME DARBY OILS MORAKOT PUBLIC COMPANY LIMITED', '36/1 Moo 2 Phuchao Saming Phray, Phra Pradaeng District, Samut Prakan 10130', '+6627558122', '+6621834452', 'Customer'),\n",
                "('ACS Technology (Thailand) Co.,Ltd', '660/14 Sukhumvit Road, T.Saensuk, A.Mueng, Chonburi 20130 Thailand', '+66863256242', '+6638119797', 'Customer'), \n",
                "('Michelin Siam Co., Ltd (Laem Chabang)', '87/11 Laemchabang Industrial Estate, Moo 2, Sukhumvit Rd., Thung Su Khla,, Sri Racha, Chonburi, 20110 Thailand', '+6626193000', 'non', 'Customer'),\n",
                "('Retro Power Co.,Ltd', '1133/11 Thanon Nakhon Chaisi Rd, Bangkok,10300', '+6626686010', '+6626686006', 'Customer'),\n",
                "('Michelin Thailand (Bangkok Head Office)', '33/4 Rama IX Rd, Khwaeng Huai Khwang, Huai Khwang, Bangkok 10310', '+6627003993', 'non', 'Customer'),\n",
                "('Aditya Birla Chemicals (Thailand) Ltd.', '70 Moo4, Sudbantad Road, Taldiew, Kaengkhoi, Saraburi 18110', '+6638685233', '+6638683982', 'Customer'),\n",
                "('V2S Engineering Co Ltd', '31/7-8 Ratyindi Rd. Tumbol Hat Yai, Amphoe Hat Yai, Songkhla 90110', '+6674342335', '+6674342359', 'Customer'),\n",
                "('N.H.K. Supply LTD.Part.', '19/23 Thanon Charat Mueang, Bangkok,10330', '+6622159443', '+6622167699', 'Customer')\n",
                ""
            ],
            "metadata": {
                "azdata_cell_guid": "46ca28b9-197e-4e06-8fd3-3ac84438d80a"
            },
            "outputs": [
                {
                    "output_type": "display_data",
                    "data": {
                        "text/html": "(11 rows affected)"
                    },
                    "metadata": {}
                },
                {
                    "output_type": "display_data",
                    "data": {
                        "text/html": "Total execution time: 00:00:00.075"
                    },
                    "metadata": {}
                }
            ],
            "execution_count": 31
        },
        {
            "cell_type": "code",
            "source": [
                "/* insert the supplier in to company table */\n",
                "insert into Company\n",
                "values('Encoder Products Company', '464276 US-95, Sagle, ID 83860, United States', '+12082638541', '+12082630541', 'Supplier'),\n",
                "('WAM Bulk Handling Equipment Industry (Thailand) Co.,Ltd.', '162/1 Soi Pattanakarn 78 Pattanakarn Road, Bangkok, 10 250 Thailand', '+6627222301', '+6627222306', 'Supplier'),\n",
                "('Tang Kieng Nguan', '12 Soi Si Thammathirat, Pom Prap, Pom Prap Sattru Phai, Bangkok 10100', '+66222327424', '+6622253906', 'Supplier'),\n",
                "('RS Components Co. Ltd.', '50 GMM Grammy Place, 19th Floor, Unit 1901-1904, Sukhumvit 21 Rd (Asoke), Klongtoey Nua, Wattana Bangkok, 10110 Thailand', '+66222327424', '+6622584418', 'Supplier'),\n",
                "('ASIA KENDY CO., LTD', '1717/1 Onnut Road, Suanluang Bangkok 10250, Thailand', '+6623317301', '+6623317300', 'Supplier'),\n",
                "('Alibaba.com', 'China', 'non', 'non', 'Supplier'),\n",
                "('Hilti (Thailand) Ltd.', '1858/107-108 Interlink Tower, 24th Fl., Bangna-Trad Road Bangna Bangkok 10260', '+6620995300', '+6627500985', 'Supplier'),\n",
                "('Lohakarn Machinery Limited Partnership', '326 Charoen Krung Rd, Samphanthawong, Bangkok 10100', '+6622220776', '+6626225956', 'Supplier'),\n",
                "('YUH Machine Tools', '125/6-9 Charoen Krung Rd, Wang Burapha Phirom, Phra Nakhon, Bangkok 10200', '+6622232323', '+6622239518', 'Supplier'),\n",
                "('Borneo Technical (Thailand) Limited', '89/175 Vibhavadi Rangsit Rd, Talat Bang Khen, Lak Si, Bangkok 10210', '+6620814900', '+6625212273', 'Supplier'),\n",
                "('Tang Jib Seng Bakery Wares', '594, 596 Chakkraphet Rd, Wang Burapha Phirom, Phra Nakhon, Bangkok 10200', '+6622211213', '+662213809', 'Supplier'),\n",
                "('PSA Service and Supply Co.,Ltd', '999 31-32 Thepharak Rd, Tambon Thepharak, Mueang Samut Prakan District, Samut Prakan 10270', '+66864281618', 'non', 'Supplier'),\n",
                "('CST Supply Co.Ltd', '55/3 Nakhon In Rd, Bang Khun Kong, Bang Kruai District, Nonthaburi 11130', '+6624228435', '+6624228424', 'Supplier'),\n",
                "('King Care Group Co., Ltd.', '242 Phetkaserm Road, Lak Song, Bangkae, Bangkok 10160', '+66936564524', 'non', 'Supplier'),\n",
                "('Mullergroup (Thailand) Co.,Ltd', '60 Ma Charoen Road, Nong Khang Phlu, Nong Khaem, Bangkok 10600', '+668122021', '+668122338', 'Supplier'),\n",
                "('TANG NGUAN SENG co., Ltd.','388 Maha Chak Rd, Samphanthawong, Bangkok 10100', '+6622231993', '+6622248925', 'Supplier'),\n",
                "('Hafele (Thailand) Ltd.', '57 Soi Sukhumvit 64, Bang Chak, Phra Khanong, Bangkok 10260', '+6627687171', '+6627417272', 'Supplier'),\n",
                "('Mobile2you', '171 Rama I Rd, Wang Mai, Pathum Wan District, Bangkok 10330', '+66805591451', 'non', 'Supplier'),\n",
                "('Khin Nam Huat Co., Ltd.', '40 Soi Udomsuk 29, Sukhumvit Road, Bangjak, Prakanong, Bangkok, 10260,', '+6623993865', '+6623984378', 'Supplier'),\n",
                "('UNION CABLE CO., LTD.', '26/16 Suksawat 14, Suksawat Rd., Chomthong, Bangkok 10150', '+6624771069', '+6624773215', 'Supplier'),\n",
                "('Palawatr Co., Ltd.', '76 M.11, Buddhamonthon V Road, Raiking, Sampran, Nakhon Pathom, Thailand 73210', '+6620199100', '+6620199110', 'Supplier'),\n",
                "('MATANEEPAN CO.,LTD', '9/24 Moo 4 Sinpet Village, Tambol Bangrakphatthana, Amphur Bangbuatong,Nonthaburi 11110', '+6629205487', '+6629205497', 'Supplier'),\n",
                "('UNITIS CO., LTD.', 'Supalai Grand Tower ,Room No.1502 15th Fl.,1011 Rama 3 Rd., Chongnonsee, Yannawa, Bangkok 10120, Thailand', '+6626870499', '+6626870495', 'Supplier'),\n",
                "('Atom-mic power Co.,Ltd.', '50/596 Moo6 Pak Kret District, Nonthaburi 11120', '+6625033535', '+6625033519', 'Supplier'),\n",
                "('H.T.(Bangkok) Trading Co., Ltd.', '29 Wat Thepsirin, Pom Prap Sattru Phai, Bangkok 10100', '+6622243830', '+6622252905', 'Supplier'),\n",
                "('BOON CHAROEN PORN METAL IMPORT COMPANY LIMITED', '1173/13-15 Charoen Krung 45/1 Alley, Si Phraya, Bang Rak, Bangkok 10500', '+6622338484', '+6622371763', 'Supplier'),\n",
                "('Estel Company Limited', '79/5 Moo2, Tambon Mahasawat, Bangkruay, Nonthaburi 11130 Thailand', '+6629852081', '+6629852310', 'Supplier'),\n",
                "('Vanich Group', '32 Rama 2 Rd, Tha Kham, Bang Khun Thian, Bangkok 10150', '+6628983000', '+6628983336', 'Supplier'),\n",
                "('K.D.V. (THAILAND) CO.,LTD.', '1/31 Moo7, Omnoi, Samutsakhon 74130', '+66863301792', 'non', 'Supplier'),\n",
                "('Unite Industrial Co.,Ltd.', '29/169 Saimai, Saimai, Bangkok 10220', '+66864095130', '+6620068687', 'Supplier'),\n",
                "('Asia Kendy Co.,LTD.', '1717/1 On Nut Rd, Suan Luang, Bangkok 10250', '+6623317301', '+6623322001', 'Supplier'),\n",
                "('Sonic Automation Co.,Ltd', '99/9 20th Floor Central Chaeng Wattana Chaeng Wattana Rd, Pak Kret District, Nonthaburi 11120', '+6628353933', '+6628353935', 'Supplier'),\n",
                "('BananaIT Central Pinklao', '7/222 Borommaratchachonnani Rd, Arun Amarin, Bangkok Noi, Bangkok 10700', '+66839893627', 'non', 'Supplier'),\n",
                "('B.B.S. Supply and Service', '1/491 Moo17 Khu Khot, Lam Luk Ka District, Pathum Thani 12130', '+6629938812', '+6629938813', 'Supplier'),\n",
                "('Pakorn Bearing', '72/2-3 Thanon Mahajak Watt Thepsirin Pomprab Road, Bangkok 10100', '+6622262920', '+6622255455', 'Supplier'),\n",
                "('Factomart', '16 Sukhumvit 63 , 3th Floor, Unit 303 Soi Ekamai 4 Phra Khanong Nuea, Watthana, Bangkok 10110', '+6621050567', '+6621050568', 'Supplier'),\n",
                "('Abex Hydraulics & Engineering Co., Ltd', '100 Moo 4, Soi Wat Saothongklang, Bangna-Trad Road(Km.23),Bangsaothong,Bangsaothong,Samutprakarn 10540 Thailand', '+6623979200', '+6623979191', 'Supplier')\n",
                ""
            ],
            "metadata": {
                "azdata_cell_guid": "ba8f4a27-0d1f-4285-a96d-582ff93f069b"
            },
            "outputs": [
                {
                    "output_type": "display_data",
                    "data": {
                        "text/html": "(37 rows affected)"
                    },
                    "metadata": {}
                },
                {
                    "output_type": "display_data",
                    "data": {
                        "text/html": "Total execution time: 00:00:00.049"
                    },
                    "metadata": {}
                }
            ],
            "execution_count": 32
        },
        {
            "cell_type": "code",
            "source": [
                "/* show all data in the company table */\n",
                "SELECT * FROM Company;"
            ],
            "metadata": {
                "azdata_cell_guid": "718d7110-5faa-4a51-aefa-56ca3451872f",
                "tags": []
            },
            "outputs": [
                {
                    "output_type": "display_data",
                    "data": {
                        "text/html": "(48 rows affected)"
                    },
                    "metadata": {}
                },
                {
                    "output_type": "display_data",
                    "data": {
                        "text/html": "Total execution time: 00:00:00.048"
                    },
                    "metadata": {}
                },
                {
                    "output_type": "execute_result",
                    "metadata": {},
                    "execution_count": 33,
                    "data": {
                        "application/vnd.dataresource+json": {
                            "schema": {
                                "fields": [
                                    {
                                        "name": "company_name"
                                    },
                                    {
                                        "name": "address"
                                    },
                                    {
                                        "name": "tel_num"
                                    },
                                    {
                                        "name": "fax_num"
                                    },
                                    {
                                        "name": "type"
                                    }
                                ]
                            },
                            "data": [
                                {
                                    "0": "Abex Hydraulics & Engineering Co., Ltd",
                                    "1": "100 Moo 4, Soi Wat Saothongklang, Bangna-Trad Road(Km.23),Bangsaothong,Bangsaothong,Samutprakarn 10540 Thailand",
                                    "2": "+6623979200",
                                    "3": "+6623979191",
                                    "4": "Supplier"
                                },
                                {
                                    "0": "ACS Technology (Thailand) Co.,Ltd",
                                    "1": "660/14 Sukhumvit Road, T.Saensuk, A.Mueng, Chonburi 20130 Thailand",
                                    "2": "+66863256242",
                                    "3": "+6638119797",
                                    "4": "Customer"
                                },
                                {
                                    "0": "Aditya Birla Chemicals (Thailand) Ltd.",
                                    "1": "70 Moo4, Sudbantad Road, Taldiew, Kaengkhoi, Saraburi 18110",
                                    "2": "+6638685233",
                                    "3": "+6638683982",
                                    "4": "Customer"
                                },
                                {
                                    "0": "Alibaba.com",
                                    "1": "China",
                                    "2": "non",
                                    "3": "non",
                                    "4": "Supplier"
                                },
                                {
                                    "0": "ASIA KENDY CO., LTD",
                                    "1": "1717/1 Onnut Road, Suanluang Bangkok 10250, Thailand",
                                    "2": "+6623317301",
                                    "3": "+6623317300",
                                    "4": "Supplier"
                                },
                                {
                                    "0": "Asia Kendy Co.,LTD.",
                                    "1": "1717/1 On Nut Rd, Suan Luang, Bangkok 10250",
                                    "2": "+6623317301",
                                    "3": "+6623322001",
                                    "4": "Supplier"
                                },
                                {
                                    "0": "Atom-mic power Co.,Ltd.",
                                    "1": "50/596 Moo6 Pak Kret District, Nonthaburi 11120",
                                    "2": "+6625033535",
                                    "3": "+6625033519",
                                    "4": "Supplier"
                                },
                                {
                                    "0": "B.B.S. Supply and Service",
                                    "1": "1/491 Moo17 Khu Khot, Lam Luk Ka District, Pathum Thani 12130",
                                    "2": "+6629938812",
                                    "3": "+6629938813",
                                    "4": "Supplier"
                                },
                                {
                                    "0": "BananaIT Central Pinklao",
                                    "1": "7/222 Borommaratchachonnani Rd, Arun Amarin, Bangkok Noi, Bangkok 10700",
                                    "2": "+66839893627",
                                    "3": "non",
                                    "4": "Supplier"
                                },
                                {
                                    "0": "BOON CHAROEN PORN METAL IMPORT COMPANY LIMITED",
                                    "1": "1173/13-15 Charoen Krung 45/1 Alley, Si Phraya, Bang Rak, Bangkok 10500",
                                    "2": "+6622338484",
                                    "3": "+6622371763",
                                    "4": "Supplier"
                                },
                                {
                                    "0": "Borneo Technical (Thailand) Limited",
                                    "1": "89/175 Vibhavadi Rangsit Rd, Talat Bang Khen, Lak Si, Bangkok 10210",
                                    "2": "+6620814900",
                                    "3": "+6625212273",
                                    "4": "Supplier"
                                },
                                {
                                    "0": "CST Supply Co.Ltd",
                                    "1": "55/3 Nakhon In Rd, Bang Khun Kong, Bang Kruai District, Nonthaburi 11130",
                                    "2": "+6624228435",
                                    "3": "+6624228424",
                                    "4": "Supplier"
                                },
                                {
                                    "0": "Encoder Products Company",
                                    "1": "464276 US-95, Sagle, ID 83860, United States",
                                    "2": "+12082638541",
                                    "3": "+12082630541",
                                    "4": "Supplier"
                                },
                                {
                                    "0": "Estel Company Limited",
                                    "1": "79/5 Moo2, Tambon Mahasawat, Bangkruay, Nonthaburi 11130 Thailand",
                                    "2": "+6629852081",
                                    "3": "+6629852310",
                                    "4": "Supplier"
                                },
                                {
                                    "0": "Factomart",
                                    "1": "16 Sukhumvit 63 , 3th Floor, Unit 303 Soi Ekamai 4 Phra Khanong Nuea, Watthana, Bangkok 10110",
                                    "2": "+6621050567",
                                    "3": "+6621050568",
                                    "4": "Supplier"
                                },
                                {
                                    "0": "H.T.(Bangkok) Trading Co., Ltd.",
                                    "1": "29 Wat Thepsirin, Pom Prap Sattru Phai, Bangkok 10100",
                                    "2": "+6622243830",
                                    "3": "+6622252905",
                                    "4": "Supplier"
                                },
                                {
                                    "0": "Hafele (Thailand) Ltd.",
                                    "1": "57 Soi Sukhumvit 64, Bang Chak, Phra Khanong, Bangkok 10260",
                                    "2": "+6627687171",
                                    "3": "+6627417272",
                                    "4": "Supplier"
                                },
                                {
                                    "0": "Hilti (Thailand) Ltd.",
                                    "1": "1858/107-108 Interlink Tower, 24th Fl., Bangna-Trad Road Bangna Bangkok 10260",
                                    "2": "+6620995300",
                                    "3": "+6627500985",
                                    "4": "Supplier"
                                },
                                {
                                    "0": "K.D.V. (THAILAND) CO.,LTD.",
                                    "1": "1/31 Moo7, Omnoi, Samutsakhon 74130",
                                    "2": "+66863301792",
                                    "3": "non",
                                    "4": "Supplier"
                                },
                                {
                                    "0": "Khin Nam Huat Co., Ltd.",
                                    "1": "40 Soi Udomsuk 29, Sukhumvit Road, Bangjak, Prakanong, Bangkok, 10260,",
                                    "2": "+6623993865",
                                    "3": "+6623984378",
                                    "4": "Supplier"
                                },
                                {
                                    "0": "King Care Group Co., Ltd.",
                                    "1": "242 Phetkaserm Road, Lak Song, Bangkae, Bangkok 10160",
                                    "2": "+66936564524",
                                    "3": "non",
                                    "4": "Supplier"
                                },
                                {
                                    "0": "Lohakarn Machinery Limited Partnership",
                                    "1": "326 Charoen Krung Rd, Samphanthawong, Bangkok 10100",
                                    "2": "+6622220776",
                                    "3": "+6626225956",
                                    "4": "Supplier"
                                },
                                {
                                    "0": "MATANEEPAN CO.,LTD",
                                    "1": "9/24 Moo 4 Sinpet Village, Tambol Bangrakphatthana, Amphur Bangbuatong,Nonthaburi 11110",
                                    "2": "+6629205487",
                                    "3": "+6629205497",
                                    "4": "Supplier"
                                },
                                {
                                    "0": "Michelin Siam Co., Ltd (Hat Yai)",
                                    "1": "69 Moo 4, Chalung, Hat Yai District, Songkhla 90110",
                                    "2": "+663536999",
                                    "3": "+6623536988",
                                    "4": "Customer"
                                },
                                {
                                    "0": "Michelin Siam Co., Ltd (Laem Chabang)",
                                    "1": "87/11 Laemchabang Industrial Estate, Moo 2, Sukhumvit Rd., Thung Su Khla,, Sri Racha, Chonburi, 20110 Thailand",
                                    "2": "+6626193000",
                                    "3": "non",
                                    "4": "Customer"
                                },
                                {
                                    "0": "Michelin Siam Co., Ltd (Nongkhae)",
                                    "1": "57 Moo 6, Nongplakradi, Nongpramor, Nongkhae, Saraburi 18140",
                                    "2": "+6636373276",
                                    "3": "+6636373291",
                                    "4": "Customer"
                                },
                                {
                                    "0": "Michelin Siam Co., Ltd (Pradaeng)",
                                    "1": "32 Moo 2 Phuchao Saming Phray, Samrong Klang, Phra Pradaeng District, Samut Prakan 10130",
                                    "2": "+6624916474",
                                    "3": "+6620059733",
                                    "4": "Customer"
                                },
                                {
                                    "0": "Michelin Thailand (Bangkok Head Office)",
                                    "1": "33/4 Rama IX Rd, Khwaeng Huai Khwang, Huai Khwang, Bangkok 10310",
                                    "2": "+6627003993",
                                    "3": "non",
                                    "4": "Customer"
                                },
                                {
                                    "0": "Mobile2you",
                                    "1": "171 Rama I Rd, Wang Mai, Pathum Wan District, Bangkok 10330",
                                    "2": "+66805591451",
                                    "3": "non",
                                    "4": "Supplier"
                                },
                                {
                                    "0": "Mullergroup (Thailand) Co.,Ltd",
                                    "1": "60 Ma Charoen Road, Nong Khang Phlu, Nong Khaem, Bangkok 10600",
                                    "2": "+668122021",
                                    "3": "+668122338",
                                    "4": "Supplier"
                                },
                                {
                                    "0": "N.H.K. Supply LTD.Part.",
                                    "1": "19/23 Thanon Charat Mueang, Bangkok,10330",
                                    "2": "+6622159443",
                                    "3": "+6622167699",
                                    "4": "Customer"
                                },
                                {
                                    "0": "Pakorn Bearing",
                                    "1": "72/2-3 Thanon Mahajak Watt Thepsirin Pomprab Road, Bangkok 10100",
                                    "2": "+6622262920",
                                    "3": "+6622255455",
                                    "4": "Supplier"
                                },
                                {
                                    "0": "Palawatr Co., Ltd.",
                                    "1": "76 M.11, Buddhamonthon V Road, Raiking, Sampran, Nakhon Pathom, Thailand 73210",
                                    "2": "+6620199100",
                                    "3": "+6620199110",
                                    "4": "Supplier"
                                },
                                {
                                    "0": "PSA Service and Supply Co.,Ltd",
                                    "1": "999 31-32 Thepharak Rd, Tambon Thepharak, Mueang Samut Prakan District, Samut Prakan 10270",
                                    "2": "+66864281618",
                                    "3": "non",
                                    "4": "Supplier"
                                },
                                {
                                    "0": "Retro Power Co.,Ltd",
                                    "1": "1133/11 Thanon Nakhon Chaisi Rd, Bangkok,10300",
                                    "2": "+6626686010",
                                    "3": "+6626686006",
                                    "4": "Customer"
                                },
                                {
                                    "0": "RS Components Co. Ltd.",
                                    "1": "50 GMM Grammy Place, 19th Floor, Unit 1901-1904, Sukhumvit 21 Rd (Asoke), Klongtoey Nua, Wattana Bangkok, 10110 Thailand",
                                    "2": "+66222327424",
                                    "3": "+6622584418",
                                    "4": "Supplier"
                                },
                                {
                                    "0": "SIME DARBY OILS MORAKOT PUBLIC COMPANY LIMITED",
                                    "1": "36/1 Moo 2 Phuchao Saming Phray, Phra Pradaeng District, Samut Prakan 10130",
                                    "2": "+6627558122",
                                    "3": "+6621834452",
                                    "4": "Customer"
                                },
                                {
                                    "0": "Sonic Automation Co.,Ltd",
                                    "1": "99/9 20th Floor Central Chaeng Wattana Chaeng Wattana Rd, Pak Kret District, Nonthaburi 11120",
                                    "2": "+6628353933",
                                    "3": "+6628353935",
                                    "4": "Supplier"
                                },
                                {
                                    "0": "Tang Jib Seng Bakery Wares",
                                    "1": "594, 596 Chakkraphet Rd, Wang Burapha Phirom, Phra Nakhon, Bangkok 10200",
                                    "2": "+6622211213",
                                    "3": "+662213809",
                                    "4": "Supplier"
                                },
                                {
                                    "0": "Tang Kieng Nguan",
                                    "1": "12 Soi Si Thammathirat, Pom Prap, Pom Prap Sattru Phai, Bangkok 10100",
                                    "2": "+66222327424",
                                    "3": "+6622253906",
                                    "4": "Supplier"
                                },
                                {
                                    "0": "TANG NGUAN SENG co., Ltd.",
                                    "1": "388 Maha Chak Rd, Samphanthawong, Bangkok 10100",
                                    "2": "+6622231993",
                                    "3": "+6622248925",
                                    "4": "Supplier"
                                },
                                {
                                    "0": "UNION CABLE CO., LTD.",
                                    "1": "26/16 Suksawat 14, Suksawat Rd., Chomthong, Bangkok 10150",
                                    "2": "+6624771069",
                                    "3": "+6624773215",
                                    "4": "Supplier"
                                },
                                {
                                    "0": "Unite Industrial Co.,Ltd.",
                                    "1": "29/169 Saimai, Saimai, Bangkok 10220",
                                    "2": "+66864095130",
                                    "3": "+6620068687",
                                    "4": "Supplier"
                                },
                                {
                                    "0": "UNITIS CO., LTD.",
                                    "1": "Supalai Grand Tower ,Room No.1502 15th Fl.,1011 Rama 3 Rd., Chongnonsee, Yannawa, Bangkok 10120, Thailand",
                                    "2": "+6626870499",
                                    "3": "+6626870495",
                                    "4": "Supplier"
                                },
                                {
                                    "0": "V2S Engineering Co Ltd",
                                    "1": "31/7-8 Ratyindi Rd. Tumbol Hat Yai, Amphoe Hat Yai, Songkhla 90110",
                                    "2": "+6674342335",
                                    "3": "+6674342359",
                                    "4": "Customer"
                                },
                                {
                                    "0": "Vanich Group",
                                    "1": "32 Rama 2 Rd, Tha Kham, Bang Khun Thian, Bangkok 10150",
                                    "2": "+6628983000",
                                    "3": "+6628983336",
                                    "4": "Supplier"
                                },
                                {
                                    "0": "WAM Bulk Handling Equipment Industry (Thailand) Co.,Ltd.",
                                    "1": "162/1 Soi Pattanakarn 78 Pattanakarn Road, Bangkok, 10 250 Thailand",
                                    "2": "+6627222301",
                                    "3": "+6627222306",
                                    "4": "Supplier"
                                },
                                {
                                    "0": "YUH Machine Tools",
                                    "1": "125/6-9 Charoen Krung Rd, Wang Burapha Phirom, Phra Nakhon, Bangkok 10200",
                                    "2": "+6622232323",
                                    "3": "+6622239518",
                                    "4": "Supplier"
                                }
                            ]
                        },
                        "text/html": [
                            "<table>",
                            "<tr><th>company_name</th><th>address</th><th>tel_num</th><th>fax_num</th><th>type</th></tr>",
                            "<tr><td>Abex Hydraulics &amp; Engineering Co., Ltd</td><td>100 Moo 4, Soi Wat Saothongklang, Bangna-Trad Road(Km.23),Bangsaothong,Bangsaothong,Samutprakarn 10540 Thailand</td><td>+6623979200</td><td>+6623979191</td><td>Supplier</td></tr>",
                            "<tr><td>ACS Technology (Thailand) Co.,Ltd</td><td>660/14 Sukhumvit Road, T.Saensuk, A.Mueng, Chonburi 20130 Thailand</td><td>+66863256242</td><td>+6638119797</td><td>Customer</td></tr>",
                            "<tr><td>Aditya Birla Chemicals (Thailand) Ltd.</td><td>70 Moo4, Sudbantad Road, Taldiew, Kaengkhoi, Saraburi 18110</td><td>+6638685233</td><td>+6638683982</td><td>Customer</td></tr>",
                            "<tr><td>Alibaba.com</td><td>China</td><td>non</td><td>non</td><td>Supplier</td></tr>",
                            "<tr><td>ASIA KENDY CO., LTD</td><td>1717/1 Onnut Road, Suanluang Bangkok 10250, Thailand</td><td>+6623317301</td><td>+6623317300</td><td>Supplier</td></tr>",
                            "<tr><td>Asia Kendy Co.,LTD.</td><td>1717/1 On Nut Rd, Suan Luang, Bangkok 10250</td><td>+6623317301</td><td>+6623322001</td><td>Supplier</td></tr>",
                            "<tr><td>Atom-mic power Co.,Ltd.</td><td>50/596 Moo6 Pak Kret District, Nonthaburi 11120</td><td>+6625033535</td><td>+6625033519</td><td>Supplier</td></tr>",
                            "<tr><td>B.B.S. Supply and Service</td><td>1/491 Moo17 Khu Khot, Lam Luk Ka District, Pathum Thani 12130</td><td>+6629938812</td><td>+6629938813</td><td>Supplier</td></tr>",
                            "<tr><td>BananaIT Central Pinklao</td><td>7/222 Borommaratchachonnani Rd, Arun Amarin, Bangkok Noi, Bangkok 10700</td><td>+66839893627</td><td>non</td><td>Supplier</td></tr>",
                            "<tr><td>BOON CHAROEN PORN METAL IMPORT COMPANY LIMITED</td><td>1173/13-15 Charoen Krung 45/1 Alley, Si Phraya, Bang Rak, Bangkok 10500</td><td>+6622338484</td><td>+6622371763</td><td>Supplier</td></tr>",
                            "<tr><td>Borneo Technical (Thailand) Limited</td><td>89/175 Vibhavadi Rangsit Rd, Talat Bang Khen, Lak Si, Bangkok 10210</td><td>+6620814900</td><td>+6625212273</td><td>Supplier</td></tr>",
                            "<tr><td>CST Supply Co.Ltd</td><td>55/3 Nakhon In Rd, Bang Khun Kong, Bang Kruai District, Nonthaburi 11130</td><td>+6624228435</td><td>+6624228424</td><td>Supplier</td></tr>",
                            "<tr><td>Encoder Products Company</td><td>464276 US-95, Sagle, ID 83860, United States</td><td>+12082638541</td><td>+12082630541</td><td>Supplier</td></tr>",
                            "<tr><td>Estel Company Limited</td><td>79/5 Moo2, Tambon Mahasawat, Bangkruay, Nonthaburi 11130 Thailand</td><td>+6629852081</td><td>+6629852310</td><td>Supplier</td></tr>",
                            "<tr><td>Factomart</td><td>16 Sukhumvit 63 , 3th Floor, Unit 303 Soi Ekamai 4 Phra Khanong Nuea, Watthana, Bangkok 10110</td><td>+6621050567</td><td>+6621050568</td><td>Supplier</td></tr>",
                            "<tr><td>H.T.(Bangkok) Trading Co., Ltd.</td><td>29 Wat Thepsirin, Pom Prap Sattru Phai, Bangkok 10100</td><td>+6622243830</td><td>+6622252905</td><td>Supplier</td></tr>",
                            "<tr><td>Hafele (Thailand) Ltd.</td><td>57 Soi Sukhumvit 64, Bang Chak, Phra Khanong, Bangkok 10260</td><td>+6627687171</td><td>+6627417272</td><td>Supplier</td></tr>",
                            "<tr><td>Hilti (Thailand) Ltd.</td><td>1858/107-108 Interlink Tower, 24th Fl., Bangna-Trad Road Bangna Bangkok 10260</td><td>+6620995300</td><td>+6627500985</td><td>Supplier</td></tr>",
                            "<tr><td>K.D.V. (THAILAND) CO.,LTD.</td><td>1/31 Moo7, Omnoi, Samutsakhon 74130</td><td>+66863301792</td><td>non</td><td>Supplier</td></tr>",
                            "<tr><td>Khin Nam Huat Co., Ltd.</td><td>40 Soi Udomsuk 29, Sukhumvit Road, Bangjak, Prakanong, Bangkok, 10260,</td><td>+6623993865</td><td>+6623984378</td><td>Supplier</td></tr>",
                            "<tr><td>King Care Group Co., Ltd.</td><td>242 Phetkaserm Road, Lak Song, Bangkae, Bangkok 10160</td><td>+66936564524</td><td>non</td><td>Supplier</td></tr>",
                            "<tr><td>Lohakarn Machinery Limited Partnership</td><td>326 Charoen Krung Rd, Samphanthawong, Bangkok 10100</td><td>+6622220776</td><td>+6626225956</td><td>Supplier</td></tr>",
                            "<tr><td>MATANEEPAN CO.,LTD</td><td>9/24 Moo 4 Sinpet Village, Tambol Bangrakphatthana, Amphur Bangbuatong,Nonthaburi 11110</td><td>+6629205487</td><td>+6629205497</td><td>Supplier</td></tr>",
                            "<tr><td>Michelin Siam Co., Ltd (Hat Yai)</td><td>69 Moo 4, Chalung, Hat Yai District, Songkhla 90110</td><td>+663536999</td><td>+6623536988</td><td>Customer</td></tr>",
                            "<tr><td>Michelin Siam Co., Ltd (Laem Chabang)</td><td>87/11 Laemchabang Industrial Estate, Moo 2, Sukhumvit Rd., Thung Su Khla,, Sri Racha, Chonburi, 20110 Thailand</td><td>+6626193000</td><td>non</td><td>Customer</td></tr>",
                            "<tr><td>Michelin Siam Co., Ltd (Nongkhae)</td><td>57 Moo 6, Nongplakradi, Nongpramor, Nongkhae, Saraburi 18140</td><td>+6636373276</td><td>+6636373291</td><td>Customer</td></tr>",
                            "<tr><td>Michelin Siam Co., Ltd (Pradaeng)</td><td>32 Moo 2 Phuchao Saming Phray, Samrong Klang, Phra Pradaeng District, Samut Prakan 10130</td><td>+6624916474</td><td>+6620059733</td><td>Customer</td></tr>",
                            "<tr><td>Michelin Thailand (Bangkok Head Office)</td><td>33/4 Rama IX Rd, Khwaeng Huai Khwang, Huai Khwang, Bangkok 10310</td><td>+6627003993</td><td>non</td><td>Customer</td></tr>",
                            "<tr><td>Mobile2you</td><td>171 Rama I Rd, Wang Mai, Pathum Wan District, Bangkok 10330</td><td>+66805591451</td><td>non</td><td>Supplier</td></tr>",
                            "<tr><td>Mullergroup (Thailand) Co.,Ltd</td><td>60 Ma Charoen Road, Nong Khang Phlu, Nong Khaem, Bangkok 10600</td><td>+668122021</td><td>+668122338</td><td>Supplier</td></tr>",
                            "<tr><td>N.H.K. Supply LTD.Part.</td><td>19/23 Thanon Charat Mueang, Bangkok,10330</td><td>+6622159443</td><td>+6622167699</td><td>Customer</td></tr>",
                            "<tr><td>Pakorn Bearing</td><td>72/2-3 Thanon Mahajak Watt Thepsirin Pomprab Road, Bangkok 10100</td><td>+6622262920</td><td>+6622255455</td><td>Supplier</td></tr>",
                            "<tr><td>Palawatr Co., Ltd.</td><td>76 M.11, Buddhamonthon V Road, Raiking, Sampran, Nakhon Pathom, Thailand 73210</td><td>+6620199100</td><td>+6620199110</td><td>Supplier</td></tr>",
                            "<tr><td>PSA Service and Supply Co.,Ltd</td><td>999 31-32 Thepharak Rd, Tambon Thepharak, Mueang Samut Prakan District, Samut Prakan 10270</td><td>+66864281618</td><td>non</td><td>Supplier</td></tr>",
                            "<tr><td>Retro Power Co.,Ltd</td><td>1133/11 Thanon Nakhon Chaisi Rd, Bangkok,10300</td><td>+6626686010</td><td>+6626686006</td><td>Customer</td></tr>",
                            "<tr><td>RS Components Co. Ltd.</td><td>50 GMM Grammy Place, 19th Floor, Unit 1901-1904, Sukhumvit 21 Rd (Asoke), Klongtoey Nua, Wattana Bangkok, 10110 Thailand</td><td>+66222327424</td><td>+6622584418</td><td>Supplier</td></tr>",
                            "<tr><td>SIME DARBY OILS MORAKOT PUBLIC COMPANY LIMITED</td><td>36/1 Moo 2 Phuchao Saming Phray, Phra Pradaeng District, Samut Prakan 10130</td><td>+6627558122</td><td>+6621834452</td><td>Customer</td></tr>",
                            "<tr><td>Sonic Automation Co.,Ltd</td><td>99/9 20th Floor Central Chaeng Wattana Chaeng Wattana Rd, Pak Kret District, Nonthaburi 11120</td><td>+6628353933</td><td>+6628353935</td><td>Supplier</td></tr>",
                            "<tr><td>Tang Jib Seng Bakery Wares</td><td>594, 596 Chakkraphet Rd, Wang Burapha Phirom, Phra Nakhon, Bangkok 10200</td><td>+6622211213</td><td>+662213809</td><td>Supplier</td></tr>",
                            "<tr><td>Tang Kieng Nguan</td><td>12 Soi Si Thammathirat, Pom Prap, Pom Prap Sattru Phai, Bangkok 10100</td><td>+66222327424</td><td>+6622253906</td><td>Supplier</td></tr>",
                            "<tr><td>TANG NGUAN SENG co., Ltd.</td><td>388 Maha Chak Rd, Samphanthawong, Bangkok 10100</td><td>+6622231993</td><td>+6622248925</td><td>Supplier</td></tr>",
                            "<tr><td>UNION CABLE CO., LTD.</td><td>26/16 Suksawat 14, Suksawat Rd., Chomthong, Bangkok 10150</td><td>+6624771069</td><td>+6624773215</td><td>Supplier</td></tr>",
                            "<tr><td>Unite Industrial Co.,Ltd.</td><td>29/169 Saimai, Saimai, Bangkok 10220</td><td>+66864095130</td><td>+6620068687</td><td>Supplier</td></tr>",
                            "<tr><td>UNITIS CO., LTD.</td><td>Supalai Grand Tower ,Room No.1502 15th Fl.,1011 Rama 3 Rd., Chongnonsee, Yannawa, Bangkok 10120, Thailand</td><td>+6626870499</td><td>+6626870495</td><td>Supplier</td></tr>",
                            "<tr><td>V2S Engineering Co Ltd</td><td>31/7-8 Ratyindi Rd. Tumbol Hat Yai, Amphoe Hat Yai, Songkhla 90110</td><td>+6674342335</td><td>+6674342359</td><td>Customer</td></tr>",
                            "<tr><td>Vanich Group</td><td>32 Rama 2 Rd, Tha Kham, Bang Khun Thian, Bangkok 10150</td><td>+6628983000</td><td>+6628983336</td><td>Supplier</td></tr>",
                            "<tr><td>WAM Bulk Handling Equipment Industry (Thailand) Co.,Ltd.</td><td>162/1 Soi Pattanakarn 78 Pattanakarn Road, Bangkok, 10 250 Thailand</td><td>+6627222301</td><td>+6627222306</td><td>Supplier</td></tr>",
                            "<tr><td>YUH Machine Tools</td><td>125/6-9 Charoen Krung Rd, Wang Burapha Phirom, Phra Nakhon, Bangkok 10200</td><td>+6622232323</td><td>+6622239518</td><td>Supplier</td></tr>",
                            "</table>"
                        ]
                    }
                }
            ],
            "execution_count": 33
        },
        {
            "cell_type": "code",
            "source": [
                "/* insert the contact in to contact table */\n",
                "insert into Contact\n",
                "values ('Michelin Siam Co., Ltd (Nongkhae)', 'Kanya', 'choothum.kanya@michelin.com'),\n",
                "('Michelin Siam Co., Ltd (Nongkhae)', 'Sitthichai', 'arunlertsiri.sitthichai@michelin.com'),\n",
                "('Michelin Siam Co., Ltd (Pradaeng)', 'Wannaya', 'sukchit.wannaya@michelin.com'),\n",
                "('Michelin Siam Co., Ltd (Hat Yai)', 'Kuntida', 'bunplong.kuntida@michelin.com'),\n",
                "('Michelin Siam Co., Ltd (Nongkhae)', 'Tana', 'Tana.maladang@michelin.com'),\n",
                "('SIME DARBY OILS MORAKOT PUBLIC COMPANY LIMITED', 'Vekit', 'vekit.kuhavanta@simedarbyplantation.com'),\n",
                "('Michelin Siam Co., Ltd (Nongkhae)', 'Ekkasit', 'ekkasit.nongkhae@michelin.com'),\n",
                "('ACS Technology (Thailand) Co.,Ltd', 'Amporn', 'acs_amporn@yahoo.com'),\n",
                "('Michelin Siam Co., Ltd (Laem Chabang)', 'Samai', 'samai.laemchabang@michelin.com'),\n",
                "('Michelin Siam Co., Ltd (Laem Chabang)', 'Nara', 'nara.laemchabang@michelin.com'),\n",
                "('Michelin Siam Co., Ltd (Nongkhae)', 'Sanya', 'warakid.sanya@michelin.com'),\n",
                "('Michelin Siam Co., Ltd (Laem Chabang)', 'Kattariya', 'manok.kattariya@michelin.com'),\n",
                "('Retro Power Co.,Ltd', 'Rachata', 'opt@anet.net.th'),\n",
                "('Michelin Thailand (Bangkok Head Office)', 'Chatpol', 'chaiwong.chatpol@michelin.com'),\n",
                "('Aditya Birla Chemicals (Thailand) Ltd.', 'Panrattana', 'pathumrat.panrattana@adityabirla.com'),\n",
                "('Michelin Siam Co., Ltd (Nongkhae)', 'Surapong', 'surapong.nongkhae@michelin.com'),\n",
                "('Michelin Siam Co., Ltd (Nongkhae)', 'Supaporn', 'lainumngoen.supaporn@michelin.com'),\n",
                "('V2S Engineering Co Ltd', 'Wanna', 'wanna@v2sengineering.com'),\n",
                "('N.H.K. Supply LTD.Part.', 'K.Pink', 'nhksupply@yahoo.co.th'),\n",
                "('Michelin Siam Co., Ltd (Pradaeng)', 'Supphasit', 'noisap.supphasit@michelin.com'),\n",
                "\n",
                "('Encoder Products Company', 'Dawn', 'dawn@encoder.com'),\n",
                "('WAM Bulk Handling Equipment Industry (Thailand) Co.,Ltd.', 'Jirawadee', 'jirawadee@wamthai.com'),\n",
                "('Tang Kieng Nguan', 'Po', 'alltkn@tangbearing.com'),\n",
                "('RS Components Co. Ltd.', 'Wachira', 'orders.TH@rs-components.com'),\n",
                "('ASIA KENDY CO., LTD', 'Isara', 'sales@asiakendy.com'),\n",
                "('Alibaba.com', 'Shenzhen', 'Shenzhen@photoelectric.com'),\n",
                "('Hilti (Thailand) Ltd.', 'Parada', 'Parada.d@hilti.com'),\n",
                "('Lohakarn Machinery Limited Partnership', 'K.Tee', 'lhktools@hotmail.com'),\n",
                "('YUH Machine Tools', 'K.Aew', 'airwyuh.nantapat@gmail.com'),\n",
                "('Borneo Technical (Thailand) Limited', 'Chatcawan', 'operator@borneothai.com'),\n",
                "('Tang Jib Seng Bakery Wares', 'Natthased', 'natthased@hotmail.com'),\n",
                "('PSA Service and Supply Co.,Ltd', 'K.Tee(PSA)', 'info.psasupply@gmail.com'),\n",
                "('CST Supply Co.Ltd', 'K.Fon', 'cstgroup@cstsupply.co.th'),\n",
                "('King Care Group Co., Ltd.', 'K.Nueng', 'kingcaregroup@gmail.com'),\n",
                "('Mullergroup (Thailand) Co.,Ltd', 'K.Kwang', 'sales@muller.co.th'),\n",
                "('TANG NGUAN SENG co., Ltd.', 'K.Aek', 'tns_1984@hotmail.com'),\n",
                "('Hafele (Thailand) Ltd.', 'K.Kai', 'info@hafele.co.th'),\n",
                "('Mobile2you', 'K.boy', 'non'),\n",
                "('Khin Nam Huat Co., Ltd.', 'K.Kat', 'sale_front@knhgroup.com'),\n",
                "('UNION CABLE CO., LTD.', 'K.Ploy', 'non'),\n",
                "('Palawatr Co., Ltd.', 'K.Prae', 'marketing@palawatr.co.th'),\n",
                "('MATANEEPAN CO.,LTD', 'Pimprapai', 'mtp@mtppro.com'),\n",
                "('UNITIS CO., LTD.', 'Praepat', 'marketing@unitis.co.th'),\n",
                "('Atom-mic power Co.,Ltd.', 'K.Oab', ' info@atommicpower.com'),\n",
                "('H.T.(Bangkok) Trading Co., Ltd.', 'K.Yok', 'htbkk@htbangkok.com'),\n",
                "('BOON CHAROEN PORN METAL IMPORT COMPANY LIMITED', 'K.Bee', 'wintonbrand@yahoo.com'),\n",
                "('Estel Company Limited', 'K.Rut', 'sales@estel.co.th'),\n",
                "('Vanich Group', 'Naveekit', 'sales_bangkok@vanichgroup.com'),\n",
                "('K.D.V. (THAILAND) CO.,LTD.', 'Sanchai', 'sanchai@kdv.co.th'),\n",
                "('Unite Industrial Co.,Ltd.', 'K.Wut', 'unite.industrial@gmail.com'),\n",
                "('Asia Kendy Co.,LTD.', 'K.Ao', 'sales@asiakendy.com'),\n",
                "('Sonic Automation Co.,Ltd', 'Kelvin', 'kchong@prosoft-technology.com'),\n",
                "('BananaIT Central Pinklao', 'Wanwipa', 'non'),\n",
                "('B.B.S. Supply and Service', 'Worrapoj', 'non'),\n",
                "('Pakorn Bearing', 'K.Aom', 'pakorn_bearing@hotmail.com'),\n",
                "('Factomart', 'Natcharaporn', 'info@factomart.com'),\n",
                "('Abex Hydraulics & Engineering Co., Ltd', 'Apinya', 'info@abexhyd.com')"
            ],
            "metadata": {
                "azdata_cell_guid": "9d3dbc32-5a54-4ea6-861e-12327d15f61e",
                "tags": []
            },
            "outputs": [
                {
                    "output_type": "display_data",
                    "data": {
                        "text/html": "(57 rows affected)"
                    },
                    "metadata": {}
                },
                {
                    "output_type": "display_data",
                    "data": {
                        "text/html": "Total execution time: 00:00:00.111"
                    },
                    "metadata": {}
                }
            ],
            "execution_count": 34
        },
        {
            "cell_type": "code",
            "source": [
                "/* show all data in the contact table */\n",
                "SELECT * FROM Contact;"
            ],
            "metadata": {
                "azdata_cell_guid": "868a0de6-086d-4d08-9914-89cff610f58c"
            },
            "outputs": [
                {
                    "output_type": "display_data",
                    "data": {
                        "text/html": "(57 rows affected)"
                    },
                    "metadata": {}
                },
                {
                    "output_type": "display_data",
                    "data": {
                        "text/html": "Total execution time: 00:00:00.081"
                    },
                    "metadata": {}
                },
                {
                    "output_type": "execute_result",
                    "metadata": {},
                    "execution_count": 35,
                    "data": {
                        "application/vnd.dataresource+json": {
                            "schema": {
                                "fields": [
                                    {
                                        "name": "company_name"
                                    },
                                    {
                                        "name": "contact_name"
                                    },
                                    {
                                        "name": "email"
                                    }
                                ]
                            },
                            "data": [
                                {
                                    "0": "ACS Technology (Thailand) Co.,Ltd",
                                    "1": "Amporn",
                                    "2": "acs_amporn@yahoo.com"
                                },
                                {
                                    "0": "Abex Hydraulics & Engineering Co., Ltd",
                                    "1": "Apinya",
                                    "2": "info@abexhyd.com"
                                },
                                {
                                    "0": "Borneo Technical (Thailand) Limited",
                                    "1": "Chatcawan",
                                    "2": "operator@borneothai.com"
                                },
                                {
                                    "0": "Michelin Thailand (Bangkok Head Office)",
                                    "1": "Chatpol",
                                    "2": "chaiwong.chatpol@michelin.com"
                                },
                                {
                                    "0": "Encoder Products Company",
                                    "1": "Dawn",
                                    "2": "dawn@encoder.com"
                                },
                                {
                                    "0": "Michelin Siam Co., Ltd (Nongkhae)",
                                    "1": "Ekkasit",
                                    "2": "ekkasit.nongkhae@michelin.com"
                                },
                                {
                                    "0": "ASIA KENDY CO., LTD",
                                    "1": "Isara",
                                    "2": "sales@asiakendy.com"
                                },
                                {
                                    "0": "WAM Bulk Handling Equipment Industry (Thailand) Co.,Ltd.",
                                    "1": "Jirawadee",
                                    "2": "jirawadee@wamthai.com"
                                },
                                {
                                    "0": "TANG NGUAN SENG co., Ltd.",
                                    "1": "K.Aek",
                                    "2": "tns_1984@hotmail.com"
                                },
                                {
                                    "0": "YUH Machine Tools",
                                    "1": "K.Aew",
                                    "2": "airwyuh.nantapat@gmail.com"
                                },
                                {
                                    "0": "Asia Kendy Co.,LTD.",
                                    "1": "K.Ao",
                                    "2": "sales@asiakendy.com"
                                },
                                {
                                    "0": "Pakorn Bearing",
                                    "1": "K.Aom",
                                    "2": "pakorn_bearing@hotmail.com"
                                },
                                {
                                    "0": "BOON CHAROEN PORN METAL IMPORT COMPANY LIMITED",
                                    "1": "K.Bee",
                                    "2": "wintonbrand@yahoo.com"
                                },
                                {
                                    "0": "Mobile2you",
                                    "1": "K.boy",
                                    "2": "non"
                                },
                                {
                                    "0": "CST Supply Co.Ltd",
                                    "1": "K.Fon",
                                    "2": "cstgroup@cstsupply.co.th"
                                },
                                {
                                    "0": "Hafele (Thailand) Ltd.",
                                    "1": "K.Kai",
                                    "2": "info@hafele.co.th"
                                },
                                {
                                    "0": "Khin Nam Huat Co., Ltd.",
                                    "1": "K.Kat",
                                    "2": "sale_front@knhgroup.com"
                                },
                                {
                                    "0": "Mullergroup (Thailand) Co.,Ltd",
                                    "1": "K.Kwang",
                                    "2": "sales@muller.co.th"
                                },
                                {
                                    "0": "King Care Group Co., Ltd.",
                                    "1": "K.Nueng",
                                    "2": "kingcaregroup@gmail.com"
                                },
                                {
                                    "0": "Atom-mic power Co.,Ltd.",
                                    "1": "K.Oab",
                                    "2": " info@atommicpower.com"
                                },
                                {
                                    "0": "N.H.K. Supply LTD.Part.",
                                    "1": "K.Pink",
                                    "2": "nhksupply@yahoo.co.th"
                                },
                                {
                                    "0": "UNION CABLE CO., LTD.",
                                    "1": "K.Ploy",
                                    "2": "non"
                                },
                                {
                                    "0": "Palawatr Co., Ltd.",
                                    "1": "K.Prae",
                                    "2": "marketing@palawatr.co.th"
                                },
                                {
                                    "0": "Estel Company Limited",
                                    "1": "K.Rut",
                                    "2": "sales@estel.co.th"
                                },
                                {
                                    "0": "Lohakarn Machinery Limited Partnership",
                                    "1": "K.Tee",
                                    "2": "lhktools@hotmail.com"
                                },
                                {
                                    "0": "PSA Service and Supply Co.,Ltd",
                                    "1": "K.Tee(PSA)",
                                    "2": "info.psasupply@gmail.com"
                                },
                                {
                                    "0": "Unite Industrial Co.,Ltd.",
                                    "1": "K.Wut",
                                    "2": "unite.industrial@gmail.com"
                                },
                                {
                                    "0": "H.T.(Bangkok) Trading Co., Ltd.",
                                    "1": "K.Yok",
                                    "2": "htbkk@htbangkok.com"
                                },
                                {
                                    "0": "Michelin Siam Co., Ltd (Nongkhae)",
                                    "1": "Kanya",
                                    "2": "choothum.kanya@michelin.com"
                                },
                                {
                                    "0": "Michelin Siam Co., Ltd (Laem Chabang)",
                                    "1": "Kattariya",
                                    "2": "manok.kattariya@michelin.com"
                                },
                                {
                                    "0": "Sonic Automation Co.,Ltd",
                                    "1": "Kelvin",
                                    "2": "kchong@prosoft-technology.com"
                                },
                                {
                                    "0": "Michelin Siam Co., Ltd (Hat Yai)",
                                    "1": "Kuntida",
                                    "2": "bunplong.kuntida@michelin.com"
                                },
                                {
                                    "0": "Michelin Siam Co., Ltd (Laem Chabang)",
                                    "1": "Nara",
                                    "2": "nara.laemchabang@michelin.com"
                                },
                                {
                                    "0": "Factomart",
                                    "1": "Natcharaporn",
                                    "2": "info@factomart.com"
                                },
                                {
                                    "0": "Tang Jib Seng Bakery Wares",
                                    "1": "Natthased",
                                    "2": "natthased@hotmail.com"
                                },
                                {
                                    "0": "Vanich Group",
                                    "1": "Naveekit",
                                    "2": "sales_bangkok@vanichgroup.com"
                                },
                                {
                                    "0": "Aditya Birla Chemicals (Thailand) Ltd.",
                                    "1": "Panrattana",
                                    "2": "pathumrat.panrattana@adityabirla.com"
                                },
                                {
                                    "0": "Hilti (Thailand) Ltd.",
                                    "1": "Parada",
                                    "2": "Parada.d@hilti.com"
                                },
                                {
                                    "0": "MATANEEPAN CO.,LTD",
                                    "1": "Pimprapai",
                                    "2": "mtp@mtppro.com"
                                },
                                {
                                    "0": "Tang Kieng Nguan",
                                    "1": "Po",
                                    "2": "alltkn@tangbearing.com"
                                },
                                {
                                    "0": "UNITIS CO., LTD.",
                                    "1": "Praepat",
                                    "2": "marketing@unitis.co.th"
                                },
                                {
                                    "0": "Retro Power Co.,Ltd",
                                    "1": "Rachata",
                                    "2": "opt@anet.net.th"
                                },
                                {
                                    "0": "Michelin Siam Co., Ltd (Laem Chabang)",
                                    "1": "Samai",
                                    "2": "samai.laemchabang@michelin.com"
                                },
                                {
                                    "0": "K.D.V. (THAILAND) CO.,LTD.",
                                    "1": "Sanchai",
                                    "2": "sanchai@kdv.co.th"
                                },
                                {
                                    "0": "Michelin Siam Co., Ltd (Nongkhae)",
                                    "1": "Sanya",
                                    "2": "warakid.sanya@michelin.com"
                                },
                                {
                                    "0": "Alibaba.com",
                                    "1": "Shenzhen",
                                    "2": "Shenzhen@photoelectric.com"
                                },
                                {
                                    "0": "Michelin Siam Co., Ltd (Nongkhae)",
                                    "1": "Sitthichai",
                                    "2": "arunlertsiri.sitthichai@michelin.com"
                                },
                                {
                                    "0": "Michelin Siam Co., Ltd (Nongkhae)",
                                    "1": "Supaporn",
                                    "2": "lainumngoen.supaporn@michelin.com"
                                },
                                {
                                    "0": "Michelin Siam Co., Ltd (Pradaeng)",
                                    "1": "Supphasit",
                                    "2": "noisap.supphasit@michelin.com"
                                },
                                {
                                    "0": "Michelin Siam Co., Ltd (Nongkhae)",
                                    "1": "Surapong",
                                    "2": "surapong.nongkhae@michelin.com"
                                },
                                {
                                    "0": "Michelin Siam Co., Ltd (Nongkhae)",
                                    "1": "Tana",
                                    "2": "Tana.maladang@michelin.com"
                                },
                                {
                                    "0": "SIME DARBY OILS MORAKOT PUBLIC COMPANY LIMITED",
                                    "1": "Vekit",
                                    "2": "vekit.kuhavanta@simedarbyplantation.com"
                                },
                                {
                                    "0": "RS Components Co. Ltd.",
                                    "1": "Wachira",
                                    "2": "orders.TH@rs-components.com"
                                },
                                {
                                    "0": "V2S Engineering Co Ltd",
                                    "1": "Wanna",
                                    "2": "wanna@v2sengineering.com"
                                },
                                {
                                    "0": "Michelin Siam Co., Ltd (Pradaeng)",
                                    "1": "Wannaya",
                                    "2": "sukchit.wannaya@michelin.com"
                                },
                                {
                                    "0": "BananaIT Central Pinklao",
                                    "1": "Wanwipa",
                                    "2": "non"
                                },
                                {
                                    "0": "B.B.S. Supply and Service",
                                    "1": "Worrapoj",
                                    "2": "non"
                                }
                            ]
                        },
                        "text/html": [
                            "<table>",
                            "<tr><th>company_name</th><th>contact_name</th><th>email</th></tr>",
                            "<tr><td>ACS Technology (Thailand) Co.,Ltd</td><td>Amporn</td><td>acs_amporn@yahoo.com</td></tr>",
                            "<tr><td>Abex Hydraulics &amp; Engineering Co., Ltd</td><td>Apinya</td><td>info@abexhyd.com</td></tr>",
                            "<tr><td>Borneo Technical (Thailand) Limited</td><td>Chatcawan</td><td>operator@borneothai.com</td></tr>",
                            "<tr><td>Michelin Thailand (Bangkok Head Office)</td><td>Chatpol</td><td>chaiwong.chatpol@michelin.com</td></tr>",
                            "<tr><td>Encoder Products Company</td><td>Dawn</td><td>dawn@encoder.com</td></tr>",
                            "<tr><td>Michelin Siam Co., Ltd (Nongkhae)</td><td>Ekkasit</td><td>ekkasit.nongkhae@michelin.com</td></tr>",
                            "<tr><td>ASIA KENDY CO., LTD</td><td>Isara</td><td>sales@asiakendy.com</td></tr>",
                            "<tr><td>WAM Bulk Handling Equipment Industry (Thailand) Co.,Ltd.</td><td>Jirawadee</td><td>jirawadee@wamthai.com</td></tr>",
                            "<tr><td>TANG NGUAN SENG co., Ltd.</td><td>K.Aek</td><td>tns_1984@hotmail.com</td></tr>",
                            "<tr><td>YUH Machine Tools</td><td>K.Aew</td><td>airwyuh.nantapat@gmail.com</td></tr>",
                            "<tr><td>Asia Kendy Co.,LTD.</td><td>K.Ao</td><td>sales@asiakendy.com</td></tr>",
                            "<tr><td>Pakorn Bearing</td><td>K.Aom</td><td>pakorn_bearing@hotmail.com</td></tr>",
                            "<tr><td>BOON CHAROEN PORN METAL IMPORT COMPANY LIMITED</td><td>K.Bee</td><td>wintonbrand@yahoo.com</td></tr>",
                            "<tr><td>Mobile2you</td><td>K.boy</td><td>non</td></tr>",
                            "<tr><td>CST Supply Co.Ltd</td><td>K.Fon</td><td>cstgroup@cstsupply.co.th</td></tr>",
                            "<tr><td>Hafele (Thailand) Ltd.</td><td>K.Kai</td><td>info@hafele.co.th</td></tr>",
                            "<tr><td>Khin Nam Huat Co., Ltd.</td><td>K.Kat</td><td>sale_front@knhgroup.com</td></tr>",
                            "<tr><td>Mullergroup (Thailand) Co.,Ltd</td><td>K.Kwang</td><td>sales@muller.co.th</td></tr>",
                            "<tr><td>King Care Group Co., Ltd.</td><td>K.Nueng</td><td>kingcaregroup@gmail.com</td></tr>",
                            "<tr><td>Atom-mic power Co.,Ltd.</td><td>K.Oab</td><td> info@atommicpower.com</td></tr>",
                            "<tr><td>N.H.K. Supply LTD.Part.</td><td>K.Pink</td><td>nhksupply@yahoo.co.th</td></tr>",
                            "<tr><td>UNION CABLE CO., LTD.</td><td>K.Ploy</td><td>non</td></tr>",
                            "<tr><td>Palawatr Co., Ltd.</td><td>K.Prae</td><td>marketing@palawatr.co.th</td></tr>",
                            "<tr><td>Estel Company Limited</td><td>K.Rut</td><td>sales@estel.co.th</td></tr>",
                            "<tr><td>Lohakarn Machinery Limited Partnership</td><td>K.Tee</td><td>lhktools@hotmail.com</td></tr>",
                            "<tr><td>PSA Service and Supply Co.,Ltd</td><td>K.Tee(PSA)</td><td>info.psasupply@gmail.com</td></tr>",
                            "<tr><td>Unite Industrial Co.,Ltd.</td><td>K.Wut</td><td>unite.industrial@gmail.com</td></tr>",
                            "<tr><td>H.T.(Bangkok) Trading Co., Ltd.</td><td>K.Yok</td><td>htbkk@htbangkok.com</td></tr>",
                            "<tr><td>Michelin Siam Co., Ltd (Nongkhae)</td><td>Kanya</td><td>choothum.kanya@michelin.com</td></tr>",
                            "<tr><td>Michelin Siam Co., Ltd (Laem Chabang)</td><td>Kattariya</td><td>manok.kattariya@michelin.com</td></tr>",
                            "<tr><td>Sonic Automation Co.,Ltd</td><td>Kelvin</td><td>kchong@prosoft-technology.com</td></tr>",
                            "<tr><td>Michelin Siam Co., Ltd (Hat Yai)</td><td>Kuntida</td><td>bunplong.kuntida@michelin.com</td></tr>",
                            "<tr><td>Michelin Siam Co., Ltd (Laem Chabang)</td><td>Nara</td><td>nara.laemchabang@michelin.com</td></tr>",
                            "<tr><td>Factomart</td><td>Natcharaporn</td><td>info@factomart.com</td></tr>",
                            "<tr><td>Tang Jib Seng Bakery Wares</td><td>Natthased</td><td>natthased@hotmail.com</td></tr>",
                            "<tr><td>Vanich Group</td><td>Naveekit</td><td>sales_bangkok@vanichgroup.com</td></tr>",
                            "<tr><td>Aditya Birla Chemicals (Thailand) Ltd.</td><td>Panrattana</td><td>pathumrat.panrattana@adityabirla.com</td></tr>",
                            "<tr><td>Hilti (Thailand) Ltd.</td><td>Parada</td><td>Parada.d@hilti.com</td></tr>",
                            "<tr><td>MATANEEPAN CO.,LTD</td><td>Pimprapai</td><td>mtp@mtppro.com</td></tr>",
                            "<tr><td>Tang Kieng Nguan</td><td>Po</td><td>alltkn@tangbearing.com</td></tr>",
                            "<tr><td>UNITIS CO., LTD.</td><td>Praepat</td><td>marketing@unitis.co.th</td></tr>",
                            "<tr><td>Retro Power Co.,Ltd</td><td>Rachata</td><td>opt@anet.net.th</td></tr>",
                            "<tr><td>Michelin Siam Co., Ltd (Laem Chabang)</td><td>Samai</td><td>samai.laemchabang@michelin.com</td></tr>",
                            "<tr><td>K.D.V. (THAILAND) CO.,LTD.</td><td>Sanchai</td><td>sanchai@kdv.co.th</td></tr>",
                            "<tr><td>Michelin Siam Co., Ltd (Nongkhae)</td><td>Sanya</td><td>warakid.sanya@michelin.com</td></tr>",
                            "<tr><td>Alibaba.com</td><td>Shenzhen</td><td>Shenzhen@photoelectric.com</td></tr>",
                            "<tr><td>Michelin Siam Co., Ltd (Nongkhae)</td><td>Sitthichai</td><td>arunlertsiri.sitthichai@michelin.com</td></tr>",
                            "<tr><td>Michelin Siam Co., Ltd (Nongkhae)</td><td>Supaporn</td><td>lainumngoen.supaporn@michelin.com</td></tr>",
                            "<tr><td>Michelin Siam Co., Ltd (Pradaeng)</td><td>Supphasit</td><td>noisap.supphasit@michelin.com</td></tr>",
                            "<tr><td>Michelin Siam Co., Ltd (Nongkhae)</td><td>Surapong</td><td>surapong.nongkhae@michelin.com</td></tr>",
                            "<tr><td>Michelin Siam Co., Ltd (Nongkhae)</td><td>Tana</td><td>Tana.maladang@michelin.com</td></tr>",
                            "<tr><td>SIME DARBY OILS MORAKOT PUBLIC COMPANY LIMITED</td><td>Vekit</td><td>vekit.kuhavanta@simedarbyplantation.com</td></tr>",
                            "<tr><td>RS Components Co. Ltd.</td><td>Wachira</td><td>orders.TH@rs-components.com</td></tr>",
                            "<tr><td>V2S Engineering Co Ltd</td><td>Wanna</td><td>wanna@v2sengineering.com</td></tr>",
                            "<tr><td>Michelin Siam Co., Ltd (Pradaeng)</td><td>Wannaya</td><td>sukchit.wannaya@michelin.com</td></tr>",
                            "<tr><td>BananaIT Central Pinklao</td><td>Wanwipa</td><td>non</td></tr>",
                            "<tr><td>B.B.S. Supply and Service</td><td>Worrapoj</td><td>non</td></tr>",
                            "</table>"
                        ]
                    }
                }
            ],
            "execution_count": 35
        },
        {
            "cell_type": "code",
            "source": [
                "/* insert the product in to product table */\n",
                "insert into Product \n",
                "values ('PN410338823', 'ACCU-CODER', 'INCREMENTAL ENCODER MOODEL:725N-S-S-1000-Q-PP-I-F-1-EG-N-N'),\n",
                "('PN4510338069', 'SOLENOID', 'VALVE 5/2 BRAND:WAM MODEL:MONOSTABLE V5V80 6-1/8IN OF ZAC FOR BANBURY4 AT MIXING'),\n",
                "('BCU12374', 'NTN-SNR FLANGE BLOCK', 'MODEL: UCFH207D1 BEARING FONT METAL, DIA=35.0 MM, HOLE_SCG=10.0 MM'),\n",
                "('PN421043212', 'REGULATED SWITCH', '24VDC ABL8MEM24012'),\n",
                "('BMA2009034', 'INGERSOLL RAND PD10A-ASS-AAA ,DAP SOLUTION', 'FEED PUMP PUMP, DIAPHRAM, INLETSIZ= 1 INCH,OUT_SZ= 1 INCH, OUT_FLW= 197.0 L/MIN'),\n",
                "('PN231332', 'Solar Marine', '360 IP67 Battery 12V/6.6Ah w1.5'),\n",
                "('PN2061409', 'Laser distance meter', 'MODEL: PD-E'),\n",
                "('GN84137120', 'Crouzet', 'SOLID STATE RELAY'),\n",
                "('PR4510341152', 'Pressure Transmitter', '0-25 BARS GE DRUCK'),\n",
                "('PN3278154', 'Control cabinet fan', '220V, 2800RPM, 21W'),\n",
                "('PN1742782', 'Hight pressure water', '140 BAR'),\n",
                "('PRG21000038', 'Tsurumi submersible', 'LPS1.4S 400W/230V'),\n",
                "('PRG21000022', 'Filterer air cleaning filter', 'SIZE: W15”xL42'),\n",
                "('PN2981564', 'Crisco regular all-vegetable shortening', '453GRAMS'),\n",
                "('PRG21000015', 'Heat gun', 'MAKITA 2000W'),\n",
                "('PRG21000035', 'CCTV Spitter', 'VIDEO DISTRIBUTOR DC12V INPUT WITH ADAPTER'),\n",
                "('PN7492390', 'Foil Tape', '3M 25MM.x55MM. THICK=0.1'),\n",
                "('PN6398100', 'Latex powder free glove', 'SIZE S & SIZE L'),\n",
                "('PN4510342642', 'Crayon white marking', 'NEOCOLOR I WAX OIL, WATER RESISTANT'),\n",
                "('PRG21000051', 'Muller motor', 'MODEL: M2.2-40 MF22030318'),\n",
                "('PRG21000078', 'Belt', 'MODEL: SPA-1220'),\n",
                "('PRG21000065', 'Stainless handle set', 'HAFALE PREMIUM RANGE'),\n",
                "('PN1865093', 'Kennedy screwdriver set', 'MODEL: KEN-572-5870K'),\n",
                "('PN0817498', 'Crouzet', 'TYPE: 83731, 5A250V, CABLE OUTPUT 1M'),\n",
                "('PN1735491', 'Samsung Galaxy S20+', '128GB COSMIC BLACK'),\n",
                "('PRG16391620', 'Murphy vibration switch model', 'MODEL: VS2 RATIO 5A'),\n",
                "('PN6491616', 'Diesel fuel flow meter', '20-120 LITRES/MINS'),\n",
                "('PN6492701', 'Cable NYY', '1x240, 1x35, 4x25'),\n",
                "('FBH4542', 'Safety hardness', 'FULL BODY'),\n",
                "('PRG21000098', 'Pheonix contact ethernal switch', 'MODEL: 2891929'),\n",
                "('PN8351680', 'Industion motor', 'SIEMENS 15KW 4P 3PHASE'),\n",
                "('A4900', 'Vibration analyzer', 'WITH SOFTWARE'),\n",
                "('67120063', 'Industrial fuses 63A', 'BRAND: SOCOMEC'),\n",
                "('PN5281075', 'Katko safety controls', 'MODEL: KER316'),\n",
                "('PN2619037', 'Flow meter', 'ASAHI, MODEL: WVM-100'),\n",
                "('PRG210001423', 'Cable for cutter machine', 'IEC 60332-3 CATEGORY A'),\n",
                "('PN1603721', 'Simens pump', 'MODEL: 1LE0102-1DB43-4AA4'),\n",
                "('PN1025994', 'SICK photoelectric switch', 'WTB27-3P2411'),\n",
                "('PN6291748', 'Copper tube', 'SIZE1/4\"#18'),\n",
                "('BCU13438', 'Seperate winding transformer', '380V.,50HZ, POWER=500VA'),\n",
                "('PRG21000228', 'Gearmotor', 'SHAFT_D=24.0MM, SHAFT_H=41.0MM, NMRV-P090'),\n",
                "('BCU13359', 'Actuator rotary', 'MODEL: AS65, SHAFTSIZE=13.0MM'),\n",
                "('BCU14083', 'Actuator rotary', 'MODEL: A100, SHAFTSIZE=19.0MM'),\n",
                "('BCU18508', 'Switch', 'MCDONNELL&MILLER, U=230.0V'),\n",
                "('PN7251983', 'Diaphr pump', 'MODEL: PD10A-ASS-AAA, 1\"'),\n",
                "('PN6193626', 'Seal kit', 'MODEL: 637401-AA'),\n",
                "('PN2819472', 'Prosoft Ethernet', 'MODEL: PLX82-EIP-PNC'),\n",
                "('PN3718902', 'Mornitoring screen', '#C27R500'),\n",
                "('PRG21000292', 'Kate cool R407', '11.3KG.'),\n",
                "('PRG21000088', 'NSK Bearing', 'PILLOW-BLOCK&BALL'),\n",
                "('PN5281900', 'Safety switch', 'MODEL: FR-2096'),\n",
                "('PN6182609', 'AZ9999-99', 'S/N: G669014001F&G415874001D')"
            ],
            "metadata": {
                "azdata_cell_guid": "7ac29240-5607-40ae-9a22-005f6b5ecf71",
                "tags": []
            },
            "outputs": [
                {
                    "output_type": "display_data",
                    "data": {
                        "text/html": "(52 rows affected)"
                    },
                    "metadata": {}
                },
                {
                    "output_type": "display_data",
                    "data": {
                        "text/html": "Total execution time: 00:00:00.039"
                    },
                    "metadata": {}
                }
            ],
            "execution_count": 36
        },
        {
            "cell_type": "code",
            "source": [
                "/* show all data in the product table */\n",
                "SELECT * FROM Product;"
            ],
            "metadata": {
                "azdata_cell_guid": "882e3823-5e01-4d58-a453-117fdb257235"
            },
            "outputs": [
                {
                    "output_type": "display_data",
                    "data": {
                        "text/html": "(52 rows affected)"
                    },
                    "metadata": {}
                },
                {
                    "output_type": "display_data",
                    "data": {
                        "text/html": "Total execution time: 00:00:00.024"
                    },
                    "metadata": {}
                },
                {
                    "output_type": "execute_result",
                    "metadata": {},
                    "execution_count": 37,
                    "data": {
                        "application/vnd.dataresource+json": {
                            "schema": {
                                "fields": [
                                    {
                                        "name": "part_num"
                                    },
                                    {
                                        "name": "product_name"
                                    },
                                    {
                                        "name": "description"
                                    }
                                ]
                            },
                            "data": [
                                {
                                    "0": "67120063",
                                    "1": "Industrial fuses 63A",
                                    "2": "BRAND: SOCOMEC"
                                },
                                {
                                    "0": "A4900",
                                    "1": "Vibration analyzer",
                                    "2": "WITH SOFTWARE"
                                },
                                {
                                    "0": "BCU12374",
                                    "1": "NTN-SNR FLANGE BLOCK",
                                    "2": "MODEL: UCFH207D1 BEARING FONT METAL, DIA=35.0 MM, HOLE_SCG=10.0 MM"
                                },
                                {
                                    "0": "BCU13359",
                                    "1": "Actuator rotary",
                                    "2": "MODEL: AS65, SHAFTSIZE=13.0MM"
                                },
                                {
                                    "0": "BCU13438",
                                    "1": "Seperate winding transformer",
                                    "2": "380V.,50HZ, POWER=500VA"
                                },
                                {
                                    "0": "BCU14083",
                                    "1": "Actuator rotary",
                                    "2": "MODEL: A100, SHAFTSIZE=19.0MM"
                                },
                                {
                                    "0": "BCU18508",
                                    "1": "Switch",
                                    "2": "MCDONNELL&MILLER, U=230.0V"
                                },
                                {
                                    "0": "BMA2009034",
                                    "1": "INGERSOLL RAND PD10A-ASS-AAA ,DAP SOLUTION",
                                    "2": "FEED PUMP PUMP, DIAPHRAM, INLETSIZ= 1 INCH,OUT_SZ= 1 INCH, OUT_FLW= 197.0 L/MIN"
                                },
                                {
                                    "0": "FBH4542",
                                    "1": "Safety hardness",
                                    "2": "FULL BODY"
                                },
                                {
                                    "0": "GN84137120",
                                    "1": "Crouzet",
                                    "2": "SOLID STATE RELAY"
                                },
                                {
                                    "0": "PN0817498",
                                    "1": "Crouzet",
                                    "2": "TYPE: 83731, 5A250V, CABLE OUTPUT 1M"
                                },
                                {
                                    "0": "PN1025994",
                                    "1": "SICK photoelectric switch",
                                    "2": "WTB27-3P2411"
                                },
                                {
                                    "0": "PN1603721",
                                    "1": "Simens pump",
                                    "2": "MODEL: 1LE0102-1DB43-4AA4"
                                },
                                {
                                    "0": "PN1735491",
                                    "1": "Samsung Galaxy S20+",
                                    "2": "128GB COSMIC BLACK"
                                },
                                {
                                    "0": "PN1742782",
                                    "1": "Hight pressure water",
                                    "2": "140 BAR"
                                },
                                {
                                    "0": "PN1865093",
                                    "1": "Kennedy screwdriver set",
                                    "2": "MODEL: KEN-572-5870K"
                                },
                                {
                                    "0": "PN2061409",
                                    "1": "Laser distance meter",
                                    "2": "MODEL: PD-E"
                                },
                                {
                                    "0": "PN231332",
                                    "1": "Solar Marine",
                                    "2": "360 IP67 Battery 12V/6.6Ah w1.5"
                                },
                                {
                                    "0": "PN2619037",
                                    "1": "Flow meter",
                                    "2": "ASAHI, MODEL: WVM-100"
                                },
                                {
                                    "0": "PN2819472",
                                    "1": "Prosoft Ethernet",
                                    "2": "MODEL: PLX82-EIP-PNC"
                                },
                                {
                                    "0": "PN2981564",
                                    "1": "Crisco regular all-vegetable shortening",
                                    "2": "453GRAMS"
                                },
                                {
                                    "0": "PN3278154",
                                    "1": "Control cabinet fan",
                                    "2": "220V, 2800RPM, 21W"
                                },
                                {
                                    "0": "PN3718902",
                                    "1": "Mornitoring screen",
                                    "2": "#C27R500"
                                },
                                {
                                    "0": "PN410338823",
                                    "1": "ACCU-CODER",
                                    "2": "INCREMENTAL ENCODER MOODEL:725N-S-S-1000-Q-PP-I-F-1-EG-N-N"
                                },
                                {
                                    "0": "PN421043212",
                                    "1": "REGULATED SWITCH",
                                    "2": "24VDC ABL8MEM24012"
                                },
                                {
                                    "0": "PN4510338069",
                                    "1": "SOLENOID",
                                    "2": "VALVE 5/2 BRAND:WAM MODEL:MONOSTABLE V5V80 6-1/8IN OF ZAC FOR BANBURY4 AT MIXING"
                                },
                                {
                                    "0": "PN4510342642",
                                    "1": "Crayon white marking",
                                    "2": "NEOCOLOR I WAX OIL, WATER RESISTANT"
                                },
                                {
                                    "0": "PN5281075",
                                    "1": "Katko safety controls",
                                    "2": "MODEL: KER316"
                                },
                                {
                                    "0": "PN5281900",
                                    "1": "Safety switch",
                                    "2": "MODEL: FR-2096"
                                },
                                {
                                    "0": "PN6182609",
                                    "1": "AZ9999-99",
                                    "2": "S/N: G669014001F&G415874001D"
                                },
                                {
                                    "0": "PN6193626",
                                    "1": "Seal kit",
                                    "2": "MODEL: 637401-AA"
                                },
                                {
                                    "0": "PN6291748",
                                    "1": "Copper tube",
                                    "2": "SIZE1/4\"#18"
                                },
                                {
                                    "0": "PN6398100",
                                    "1": "Latex powder free glove",
                                    "2": "SIZE S & SIZE L"
                                },
                                {
                                    "0": "PN6491616",
                                    "1": "Diesel fuel flow meter",
                                    "2": "20-120 LITRES/MINS"
                                },
                                {
                                    "0": "PN6492701",
                                    "1": "Cable NYY",
                                    "2": "1x240, 1x35, 4x25"
                                },
                                {
                                    "0": "PN7251983",
                                    "1": "Diaphr pump",
                                    "2": "MODEL: PD10A-ASS-AAA, 1\""
                                },
                                {
                                    "0": "PN7492390",
                                    "1": "Foil Tape",
                                    "2": "3M 25MM.x55MM. THICK=0.1"
                                },
                                {
                                    "0": "PN8351680",
                                    "1": "Industion motor",
                                    "2": "SIEMENS 15KW 4P 3PHASE"
                                },
                                {
                                    "0": "PR4510341152",
                                    "1": "Pressure Transmitter",
                                    "2": "0-25 BARS GE DRUCK"
                                },
                                {
                                    "0": "PRG16391620",
                                    "1": "Murphy vibration switch model",
                                    "2": "MODEL: VS2 RATIO 5A"
                                },
                                {
                                    "0": "PRG21000015",
                                    "1": "Heat gun",
                                    "2": "MAKITA 2000W"
                                },
                                {
                                    "0": "PRG21000022",
                                    "1": "Filterer air cleaning filter",
                                    "2": "SIZE: W15”xL42"
                                },
                                {
                                    "0": "PRG21000035",
                                    "1": "CCTV Spitter",
                                    "2": "VIDEO DISTRIBUTOR DC12V INPUT WITH ADAPTER"
                                },
                                {
                                    "0": "PRG21000038",
                                    "1": "Tsurumi submersible",
                                    "2": "LPS1.4S 400W/230V"
                                },
                                {
                                    "0": "PRG21000051",
                                    "1": "Muller motor",
                                    "2": "MODEL: M2.2-40 MF22030318"
                                },
                                {
                                    "0": "PRG21000065",
                                    "1": "Stainless handle set",
                                    "2": "HAFALE PREMIUM RANGE"
                                },
                                {
                                    "0": "PRG21000078",
                                    "1": "Belt",
                                    "2": "MODEL: SPA-1220"
                                },
                                {
                                    "0": "PRG21000088",
                                    "1": "NSK Bearing",
                                    "2": "PILLOW-BLOCK&BALL"
                                },
                                {
                                    "0": "PRG21000098",
                                    "1": "Pheonix contact ethernal switch",
                                    "2": "MODEL: 2891929"
                                },
                                {
                                    "0": "PRG210001423",
                                    "1": "Cable for cutter machine",
                                    "2": "IEC 60332-3 CATEGORY A"
                                },
                                {
                                    "0": "PRG21000228",
                                    "1": "Gearmotor",
                                    "2": "SHAFT_D=24.0MM, SHAFT_H=41.0MM, NMRV-P090"
                                },
                                {
                                    "0": "PRG21000292",
                                    "1": "Kate cool R407",
                                    "2": "11.3KG."
                                }
                            ]
                        },
                        "text/html": [
                            "<table>",
                            "<tr><th>part_num</th><th>product_name</th><th>description</th></tr>",
                            "<tr><td>67120063</td><td>Industrial fuses 63A</td><td>BRAND: SOCOMEC</td></tr>",
                            "<tr><td>A4900</td><td>Vibration analyzer</td><td>WITH SOFTWARE</td></tr>",
                            "<tr><td>BCU12374</td><td>NTN-SNR FLANGE BLOCK</td><td>MODEL: UCFH207D1 BEARING FONT METAL, DIA=35.0 MM, HOLE_SCG=10.0 MM</td></tr>",
                            "<tr><td>BCU13359</td><td>Actuator rotary</td><td>MODEL: AS65, SHAFTSIZE=13.0MM</td></tr>",
                            "<tr><td>BCU13438</td><td>Seperate winding transformer</td><td>380V.,50HZ, POWER=500VA</td></tr>",
                            "<tr><td>BCU14083</td><td>Actuator rotary</td><td>MODEL: A100, SHAFTSIZE=19.0MM</td></tr>",
                            "<tr><td>BCU18508</td><td>Switch</td><td>MCDONNELL&amp;MILLER, U=230.0V</td></tr>",
                            "<tr><td>BMA2009034</td><td>INGERSOLL RAND PD10A-ASS-AAA ,DAP SOLUTION</td><td>FEED PUMP PUMP, DIAPHRAM, INLETSIZ= 1 INCH,OUT_SZ= 1 INCH, OUT_FLW= 197.0 L/MIN</td></tr>",
                            "<tr><td>FBH4542</td><td>Safety hardness</td><td>FULL BODY</td></tr>",
                            "<tr><td>GN84137120</td><td>Crouzet</td><td>SOLID STATE RELAY</td></tr>",
                            "<tr><td>PN0817498</td><td>Crouzet</td><td>TYPE: 83731, 5A250V, CABLE OUTPUT 1M</td></tr>",
                            "<tr><td>PN1025994</td><td>SICK photoelectric switch</td><td>WTB27-3P2411</td></tr>",
                            "<tr><td>PN1603721</td><td>Simens pump</td><td>MODEL: 1LE0102-1DB43-4AA4</td></tr>",
                            "<tr><td>PN1735491</td><td>Samsung Galaxy S20+</td><td>128GB COSMIC BLACK</td></tr>",
                            "<tr><td>PN1742782</td><td>Hight pressure water</td><td>140 BAR</td></tr>",
                            "<tr><td>PN1865093</td><td>Kennedy screwdriver set</td><td>MODEL: KEN-572-5870K</td></tr>",
                            "<tr><td>PN2061409</td><td>Laser distance meter</td><td>MODEL: PD-E</td></tr>",
                            "<tr><td>PN231332</td><td>Solar Marine</td><td>360 IP67 Battery 12V/6.6Ah w1.5</td></tr>",
                            "<tr><td>PN2619037</td><td>Flow meter</td><td>ASAHI, MODEL: WVM-100</td></tr>",
                            "<tr><td>PN2819472</td><td>Prosoft Ethernet</td><td>MODEL: PLX82-EIP-PNC</td></tr>",
                            "<tr><td>PN2981564</td><td>Crisco regular all-vegetable shortening</td><td>453GRAMS</td></tr>",
                            "<tr><td>PN3278154</td><td>Control cabinet fan</td><td>220V, 2800RPM, 21W</td></tr>",
                            "<tr><td>PN3718902</td><td>Mornitoring screen</td><td>#C27R500</td></tr>",
                            "<tr><td>PN410338823</td><td>ACCU-CODER</td><td>INCREMENTAL ENCODER MOODEL:725N-S-S-1000-Q-PP-I-F-1-EG-N-N</td></tr>",
                            "<tr><td>PN421043212</td><td>REGULATED SWITCH</td><td>24VDC ABL8MEM24012</td></tr>",
                            "<tr><td>PN4510338069</td><td>SOLENOID</td><td>VALVE 5/2 BRAND:WAM MODEL:MONOSTABLE V5V80 6-1/8IN OF ZAC FOR BANBURY4 AT MIXING</td></tr>",
                            "<tr><td>PN4510342642</td><td>Crayon white marking</td><td>NEOCOLOR I WAX OIL, WATER RESISTANT</td></tr>",
                            "<tr><td>PN5281075</td><td>Katko safety controls</td><td>MODEL: KER316</td></tr>",
                            "<tr><td>PN5281900</td><td>Safety switch</td><td>MODEL: FR-2096</td></tr>",
                            "<tr><td>PN6182609</td><td>AZ9999-99</td><td>S/N: G669014001F&amp;G415874001D</td></tr>",
                            "<tr><td>PN6193626</td><td>Seal kit</td><td>MODEL: 637401-AA</td></tr>",
                            "<tr><td>PN6291748</td><td>Copper tube</td><td>SIZE1/4&quot;#18</td></tr>",
                            "<tr><td>PN6398100</td><td>Latex powder free glove</td><td>SIZE S &amp; SIZE L</td></tr>",
                            "<tr><td>PN6491616</td><td>Diesel fuel flow meter</td><td>20-120 LITRES/MINS</td></tr>",
                            "<tr><td>PN6492701</td><td>Cable NYY</td><td>1x240, 1x35, 4x25</td></tr>",
                            "<tr><td>PN7251983</td><td>Diaphr pump</td><td>MODEL: PD10A-ASS-AAA, 1&quot;</td></tr>",
                            "<tr><td>PN7492390</td><td>Foil Tape</td><td>3M 25MM.x55MM. THICK=0.1</td></tr>",
                            "<tr><td>PN8351680</td><td>Industion motor</td><td>SIEMENS 15KW 4P 3PHASE</td></tr>",
                            "<tr><td>PR4510341152</td><td>Pressure Transmitter</td><td>0-25 BARS GE DRUCK</td></tr>",
                            "<tr><td>PRG16391620</td><td>Murphy vibration switch model</td><td>MODEL: VS2 RATIO 5A</td></tr>",
                            "<tr><td>PRG21000015</td><td>Heat gun</td><td>MAKITA 2000W</td></tr>",
                            "<tr><td>PRG21000022</td><td>Filterer air cleaning filter</td><td>SIZE: W15”xL42</td></tr>",
                            "<tr><td>PRG21000035</td><td>CCTV Spitter</td><td>VIDEO DISTRIBUTOR DC12V INPUT WITH ADAPTER</td></tr>",
                            "<tr><td>PRG21000038</td><td>Tsurumi submersible</td><td>LPS1.4S 400W/230V</td></tr>",
                            "<tr><td>PRG21000051</td><td>Muller motor</td><td>MODEL: M2.2-40 MF22030318</td></tr>",
                            "<tr><td>PRG21000065</td><td>Stainless handle set</td><td>HAFALE PREMIUM RANGE</td></tr>",
                            "<tr><td>PRG21000078</td><td>Belt</td><td>MODEL: SPA-1220</td></tr>",
                            "<tr><td>PRG21000088</td><td>NSK Bearing</td><td>PILLOW-BLOCK&amp;BALL</td></tr>",
                            "<tr><td>PRG21000098</td><td>Pheonix contact ethernal switch</td><td>MODEL: 2891929</td></tr>",
                            "<tr><td>PRG210001423</td><td>Cable for cutter machine</td><td>IEC 60332-3 CATEGORY A</td></tr>",
                            "<tr><td>PRG21000228</td><td>Gearmotor</td><td>SHAFT_D=24.0MM, SHAFT_H=41.0MM, NMRV-P090</td></tr>",
                            "<tr><td>PRG21000292</td><td>Kate cool R407</td><td>11.3KG.</td></tr>",
                            "</table>"
                        ]
                    }
                }
            ],
            "execution_count": 37
        },
        {
            "cell_type": "code",
            "source": [
                "/* insert the quotation requset in to quatation_requset table */\n",
                "insert into Quotation_request \n",
                "values ('QR00001', '2564-01-02', 'Michelin Siam Co., Ltd (Nongkhae)', 'Kanya', 'PN410338823', 1, 'non'),\n",
                "('QR00002', '2564-01-02', 'Michelin Siam Co., Ltd (Pradaeng)', 'Wannaya', 'PN4510338069', 1, 'non'),\n",
                "('QR00003', '2564-01-02', 'Michelin Siam Co., Ltd (Hat Yai)', 'Kuntida', 'BCU12374', 2, 'non'),\n",
                "('QR00004', '2564-01-03', 'Michelin Siam Co., Ltd (Nongkhae)', 'Tana', 'PN421043212', 6, 'non'),\n",
                "('QR00005', '2564-01-03', 'Michelin Siam Co., Ltd (Hat Yai)', 'Kuntida', 'BMA2009034', 1, 'non'),\n",
                "('QR00006', '2564-01-05', 'SIME DARBY OILS MORAKOT PUBLIC COMPANY LIMITED', 'Vekit', 'PN231332', 2, 'non'),\n",
                "('QR00007', '2564-01-06', 'Michelin Siam Co., Ltd (Nongkhae)', 'Ekkasit', 'PN2061409', 2, 'non'),\n",
                "('QR00008', '2564-01-06', 'ACS Technology (Thailand) Co.,Ltd', 'Amporn', 'GN84137120', 2, 'non'),\n",
                "('QR00009', '2564-01-07', 'Michelin Siam Co., Ltd (Laem Chabang)', 'Samai', 'PR4510341152', 6, 'non'),\n",
                "('QR00010', '2564-01-11', 'Michelin Siam Co., Ltd (Laem Chabang)', 'Nara', 'PN3278154', 36, 'non'),\n",
                "('QR00011', '2564-01-12', 'Michelin Siam Co., Ltd (Nongkhae)', 'Sanya', 'PN1742782', 1, 'non'),\n",
                "('QR00012', '2564-01-12', 'Michelin Siam Co., Ltd (Hat Yai)', 'Kuntida', 'PRG21000038', 1, 'non'),\n",
                "('QR00013', '2564-01-12', 'Michelin Siam Co., Ltd (Nongkhae)', 'Kanya', 'PRG21000022', 180, 'non'),\n",
                "('QR00014', '2564-01-12', 'Michelin Siam Co., Ltd (Laem Chabang)', 'Kattariya', 'PN2981564', 576, '48PCS./MONTH'),\n",
                "('QR00015', '2564-01-13', 'Michelin Siam Co., Ltd (Nongkhae)', 'Sitthichai', 'PRG21000015', 1, 'non'),\n",
                "('QR00016', '2564-01-13', 'Michelin Siam Co., Ltd (Hat Yai)', 'Kuntida', 'PRG21000035', 37, 'non'),\n",
                "('QR00017', '2564-01-13', 'Michelin Siam Co., Ltd (Laem Chabang)', 'Kattariya', 'PN7492390', 50, 'non'),\n",
                "('QR00018', '2564-01-13', 'Michelin Siam Co., Ltd (Hat Yai)', 'Kuntida', 'PN6398100', 120, '20BOXES/CRATE'),\n",
                "('QR00019', '2564-01-13', 'Michelin Siam Co., Ltd (Pradaeng)', 'Wannaya', 'PN4510342642', 200, 'non'),\n",
                "('QR00020', '2564-01-15', 'Michelin Siam Co., Ltd (Hat Yai)', 'Kuntida', 'PRG21000051', 1, 'non'),\n",
                "('QR00021', '2564-01-15', 'Michelin Siam Co., Ltd (Hat Yai)', 'Kuntida', 'PRG21000078', 2, 'non'),\n",
                "('QR00022', '2564-01-15', 'Michelin Siam Co., Ltd (Hat Yai)', 'Kuntida', 'PRG21000065', 10, 'non'),\n",
                "('QR00023', '2564-01-19', 'Michelin Siam Co., Ltd (Nongkhae)', 'Sitthichai', 'PN1865093', 1, '10PCS./SET'),\n",
                "('QR00024', '2564-01-19', 'Retro Power Co.,Ltd', 'Rachata', 'PN0817498', 1, 'non'),\n",
                "('QR00025', '2564-01-19', 'Michelin Thailand (Bangkok Head Office)', 'Chatpol', 'PN1735491', 1, 'non'),\n",
                "('QR00026', '2564-01-19', 'Michelin Siam Co., Ltd (Hat Yai)', 'Kuntida', 'PRG16391620', 4, 'non'),\n",
                "('QR00027', '2564-01-19', 'Michelin Siam Co., Ltd (Nongkhae)', 'Sitthichai', 'PN6491616', 2, 'non'),\n",
                "('QR00028', '2564-01-19', 'Aditya Birla Chemicals (Thailand) Ltd.', 'Panrattana', 'PN6492701', 750, 'METER'),\n",
                "('QR00029', '2564-01-20', 'Michelin Siam Co., Ltd (Hat Yai)', 'Kuntida', 'FBH4542', 4, 'non'),\n",
                "('QR00030', '2564-01-21', 'Michelin Siam Co., Ltd (Hat Yai)', 'Kuntida', 'PRG21000098', 2, 'non'),\n",
                "('QR00031', '2564-01-21', 'Michelin Siam Co., Ltd (Nongkhae)', 'Tana', 'PN8351680', 1, 'non'),\n",
                "('QR00032', '2564-01-22', 'Michelin Siam Co., Ltd (Nongkhae)', 'Surapong', 'A4900', 1, 'non'),\n",
                "('QR00033', '2564-01-25', 'Michelin Siam Co., Ltd (Nongkhae)', 'Supaporn', '67120063', 3, 'non'),\n",
                "('QR00034', '2564-01-27', 'Michelin Siam Co., Ltd (Hat Yai)', 'Kuntida', 'PN5281075', 1, 'non'),\n",
                "('QR00035', '2564-01-29', 'Michelin Siam Co., Ltd (Hat Yai)', 'Kuntida', 'PN2619037', 1, 'non'),\n",
                "('QR00036', '2564-02-04', 'V2S Engineering Co Ltd', 'Wanna', 'PRG210001423', 200, 'non'),\n",
                "('QR00037', '2564-02-09', 'Michelin Siam Co., Ltd (Hat Yai)', 'Kuntida', 'PN1603721', 1, 'non'),\n",
                "('QR00038', '2564-02-09', 'N.H.K. Supply LTD.Part.', 'K.Pink','PN1025994', 8, '50% DEPOSIT'), \n",
                "('QR00039', '2564-02-10', 'Michelin Siam Co., Ltd (Pradaeng)', 'Supphasit', 'PN6291748', 5, 'non'),\n",
                "('QR00040', '2564-02-10', 'Michelin Siam Co., Ltd (Hat Yai)', 'Kuntida', 'BCU13438', 1, 'non'),\n",
                "('QR00041', '2564-02-10', 'Michelin Siam Co., Ltd (Hat Yai)', 'Kuntida', 'PRG21000228', 1, 'non'),\n",
                "('QR00042', '2564-02-11', 'Michelin Siam Co., Ltd (Hat Yai)', 'Kuntida', 'BCU13359', 1, 'non'),\n",
                "('QR00043', '2564-02-11', 'Michelin Siam Co., Ltd (Hat Yai)', 'Kuntida', 'BCU14083', 1, 'non'),\n",
                "('QR00044', '2564-02-16', 'Michelin Siam Co., Ltd (Hat Yai)', 'Kuntida', 'BCU18508', 1, 'non'),\n",
                "('QR00045', '2564-02-16', 'Michelin Siam Co., Ltd (Hat Yai)', 'Kuntida', 'PN7251983', 1, 'non'),\n",
                "('QR00046', '2564-02-16', 'Michelin Siam Co., Ltd (Hat Yai)', 'Kuntida', 'PN6193626', 1, 'non'),\n",
                "('QR00047', '2564-02-17', 'Michelin Siam Co., Ltd (Hat Yai)', 'Kuntida', 'PN2819472', 1, 'non'),\n",
                "('QR00048', '2564-02-17', 'Michelin Siam Co., Ltd (Hat Yai)', 'Kuntida', 'PN3718902', 1, 'non'),\n",
                "('QR00049', '2564-02-18', 'Michelin Siam Co., Ltd (Hat Yai)', 'Kuntida', 'PRG21000292', 2, 'non'),\n",
                "('QR00050', '2564-02-23', 'Michelin Siam Co., Ltd (Hat Yai)', 'Kuntida', 'PRG21000088', 4, 'non'),\n",
                "('QR00051', '2564-02-23', 'Michelin Siam Co., Ltd (Hat Yai)', 'Kuntida', 'PN5281900', 2, 'SPECIAL PRICE'),\n",
                "('QR00052', '2564-02-25', 'Michelin Siam Co., Ltd (Hat Yai)', 'Kuntida', 'PN6182609', 2, 'non')\n",
                ""
            ],
            "metadata": {
                "azdata_cell_guid": "b243ff47-e533-47f6-9376-b57a2c9ca3b1",
                "tags": []
            },
            "outputs": [
                {
                    "output_type": "display_data",
                    "data": {
                        "text/html": "(52 rows affected)"
                    },
                    "metadata": {}
                },
                {
                    "output_type": "display_data",
                    "data": {
                        "text/html": "Total execution time: 00:00:00.077"
                    },
                    "metadata": {}
                }
            ],
            "execution_count": 38
        },
        {
            "cell_type": "code",
            "source": [
                "/* show all data in the quotation requset table */\n",
                "SELECT * FROM Quotation_request;"
            ],
            "metadata": {
                "azdata_cell_guid": "180c614f-85b6-44dc-82eb-41405d663e7c"
            },
            "outputs": [
                {
                    "output_type": "display_data",
                    "data": {
                        "text/html": "(52 rows affected)"
                    },
                    "metadata": {}
                },
                {
                    "output_type": "display_data",
                    "data": {
                        "text/html": "Total execution time: 00:00:00.037"
                    },
                    "metadata": {}
                },
                {
                    "output_type": "execute_result",
                    "metadata": {},
                    "execution_count": 39,
                    "data": {
                        "application/vnd.dataresource+json": {
                            "schema": {
                                "fields": [
                                    {
                                        "name": "qr_num"
                                    },
                                    {
                                        "name": "date"
                                    },
                                    {
                                        "name": "company_name"
                                    },
                                    {
                                        "name": "contact_name"
                                    },
                                    {
                                        "name": "part_num"
                                    },
                                    {
                                        "name": "quantity"
                                    },
                                    {
                                        "name": "description"
                                    }
                                ]
                            },
                            "data": [
                                {
                                    "0": "QR00001",
                                    "1": "2564-01-02",
                                    "2": "Michelin Siam Co., Ltd (Nongkhae)",
                                    "3": "Kanya",
                                    "4": "PN410338823",
                                    "5": "1",
                                    "6": "non"
                                },
                                {
                                    "0": "QR00002",
                                    "1": "2564-01-02",
                                    "2": "Michelin Siam Co., Ltd (Pradaeng)",
                                    "3": "Wannaya",
                                    "4": "PN4510338069",
                                    "5": "1",
                                    "6": "non"
                                },
                                {
                                    "0": "QR00003",
                                    "1": "2564-01-02",
                                    "2": "Michelin Siam Co., Ltd (Hat Yai)",
                                    "3": "Kuntida",
                                    "4": "BCU12374",
                                    "5": "2",
                                    "6": "non"
                                },
                                {
                                    "0": "QR00004",
                                    "1": "2564-01-03",
                                    "2": "Michelin Siam Co., Ltd (Nongkhae)",
                                    "3": "Tana",
                                    "4": "PN421043212",
                                    "5": "6",
                                    "6": "non"
                                },
                                {
                                    "0": "QR00005",
                                    "1": "2564-01-03",
                                    "2": "Michelin Siam Co., Ltd (Hat Yai)",
                                    "3": "Kuntida",
                                    "4": "BMA2009034",
                                    "5": "1",
                                    "6": "non"
                                },
                                {
                                    "0": "QR00006",
                                    "1": "2564-01-05",
                                    "2": "SIME DARBY OILS MORAKOT PUBLIC COMPANY LIMITED",
                                    "3": "Vekit",
                                    "4": "PN231332",
                                    "5": "2",
                                    "6": "non"
                                },
                                {
                                    "0": "QR00007",
                                    "1": "2564-01-06",
                                    "2": "Michelin Siam Co., Ltd (Nongkhae)",
                                    "3": "Ekkasit",
                                    "4": "PN2061409",
                                    "5": "2",
                                    "6": "non"
                                },
                                {
                                    "0": "QR00008",
                                    "1": "2564-01-06",
                                    "2": "ACS Technology (Thailand) Co.,Ltd",
                                    "3": "Amporn",
                                    "4": "GN84137120",
                                    "5": "2",
                                    "6": "non"
                                },
                                {
                                    "0": "QR00009",
                                    "1": "2564-01-07",
                                    "2": "Michelin Siam Co., Ltd (Laem Chabang)",
                                    "3": "Samai",
                                    "4": "PR4510341152",
                                    "5": "6",
                                    "6": "non"
                                },
                                {
                                    "0": "QR00010",
                                    "1": "2564-01-11",
                                    "2": "Michelin Siam Co., Ltd (Laem Chabang)",
                                    "3": "Nara",
                                    "4": "PN3278154",
                                    "5": "36",
                                    "6": "non"
                                },
                                {
                                    "0": "QR00011",
                                    "1": "2564-01-12",
                                    "2": "Michelin Siam Co., Ltd (Nongkhae)",
                                    "3": "Sanya",
                                    "4": "PN1742782",
                                    "5": "1",
                                    "6": "non"
                                },
                                {
                                    "0": "QR00012",
                                    "1": "2564-01-12",
                                    "2": "Michelin Siam Co., Ltd (Hat Yai)",
                                    "3": "Kuntida",
                                    "4": "PRG21000038",
                                    "5": "1",
                                    "6": "non"
                                },
                                {
                                    "0": "QR00013",
                                    "1": "2564-01-12",
                                    "2": "Michelin Siam Co., Ltd (Nongkhae)",
                                    "3": "Kanya",
                                    "4": "PRG21000022",
                                    "5": "180",
                                    "6": "non"
                                },
                                {
                                    "0": "QR00014",
                                    "1": "2564-01-12",
                                    "2": "Michelin Siam Co., Ltd (Laem Chabang)",
                                    "3": "Kattariya",
                                    "4": "PN2981564",
                                    "5": "576",
                                    "6": "48PCS./MONTH"
                                },
                                {
                                    "0": "QR00015",
                                    "1": "2564-01-13",
                                    "2": "Michelin Siam Co., Ltd (Nongkhae)",
                                    "3": "Sitthichai",
                                    "4": "PRG21000015",
                                    "5": "1",
                                    "6": "non"
                                },
                                {
                                    "0": "QR00016",
                                    "1": "2564-01-13",
                                    "2": "Michelin Siam Co., Ltd (Hat Yai)",
                                    "3": "Kuntida",
                                    "4": "PRG21000035",
                                    "5": "37",
                                    "6": "non"
                                },
                                {
                                    "0": "QR00017",
                                    "1": "2564-01-13",
                                    "2": "Michelin Siam Co., Ltd (Laem Chabang)",
                                    "3": "Kattariya",
                                    "4": "PN7492390",
                                    "5": "50",
                                    "6": "non"
                                },
                                {
                                    "0": "QR00018",
                                    "1": "2564-01-13",
                                    "2": "Michelin Siam Co., Ltd (Hat Yai)",
                                    "3": "Kuntida",
                                    "4": "PN6398100",
                                    "5": "120",
                                    "6": "20BOXES/CRATE"
                                },
                                {
                                    "0": "QR00019",
                                    "1": "2564-01-13",
                                    "2": "Michelin Siam Co., Ltd (Pradaeng)",
                                    "3": "Wannaya",
                                    "4": "PN4510342642",
                                    "5": "200",
                                    "6": "non"
                                },
                                {
                                    "0": "QR00020",
                                    "1": "2564-01-15",
                                    "2": "Michelin Siam Co., Ltd (Hat Yai)",
                                    "3": "Kuntida",
                                    "4": "PRG21000051",
                                    "5": "1",
                                    "6": "non"
                                },
                                {
                                    "0": "QR00021",
                                    "1": "2564-01-15",
                                    "2": "Michelin Siam Co., Ltd (Hat Yai)",
                                    "3": "Kuntida",
                                    "4": "PRG21000078",
                                    "5": "2",
                                    "6": "non"
                                },
                                {
                                    "0": "QR00022",
                                    "1": "2564-01-15",
                                    "2": "Michelin Siam Co., Ltd (Hat Yai)",
                                    "3": "Kuntida",
                                    "4": "PRG21000065",
                                    "5": "10",
                                    "6": "non"
                                },
                                {
                                    "0": "QR00023",
                                    "1": "2564-01-19",
                                    "2": "Michelin Siam Co., Ltd (Nongkhae)",
                                    "3": "Sitthichai",
                                    "4": "PN1865093",
                                    "5": "1",
                                    "6": "10PCS./SET"
                                },
                                {
                                    "0": "QR00024",
                                    "1": "2564-01-19",
                                    "2": "Retro Power Co.,Ltd",
                                    "3": "Rachata",
                                    "4": "PN0817498",
                                    "5": "1",
                                    "6": "non"
                                },
                                {
                                    "0": "QR00025",
                                    "1": "2564-01-19",
                                    "2": "Michelin Thailand (Bangkok Head Office)",
                                    "3": "Chatpol",
                                    "4": "PN1735491",
                                    "5": "1",
                                    "6": "non"
                                },
                                {
                                    "0": "QR00026",
                                    "1": "2564-01-19",
                                    "2": "Michelin Siam Co., Ltd (Hat Yai)",
                                    "3": "Kuntida",
                                    "4": "PRG16391620",
                                    "5": "4",
                                    "6": "non"
                                },
                                {
                                    "0": "QR00027",
                                    "1": "2564-01-19",
                                    "2": "Michelin Siam Co., Ltd (Nongkhae)",
                                    "3": "Sitthichai",
                                    "4": "PN6491616",
                                    "5": "2",
                                    "6": "non"
                                },
                                {
                                    "0": "QR00028",
                                    "1": "2564-01-19",
                                    "2": "Aditya Birla Chemicals (Thailand) Ltd.",
                                    "3": "Panrattana",
                                    "4": "PN6492701",
                                    "5": "750",
                                    "6": "METER"
                                },
                                {
                                    "0": "QR00029",
                                    "1": "2564-01-20",
                                    "2": "Michelin Siam Co., Ltd (Hat Yai)",
                                    "3": "Kuntida",
                                    "4": "FBH4542",
                                    "5": "4",
                                    "6": "non"
                                },
                                {
                                    "0": "QR00030",
                                    "1": "2564-01-21",
                                    "2": "Michelin Siam Co., Ltd (Hat Yai)",
                                    "3": "Kuntida",
                                    "4": "PRG21000098",
                                    "5": "2",
                                    "6": "non"
                                },
                                {
                                    "0": "QR00031",
                                    "1": "2564-01-21",
                                    "2": "Michelin Siam Co., Ltd (Nongkhae)",
                                    "3": "Tana",
                                    "4": "PN8351680",
                                    "5": "1",
                                    "6": "non"
                                },
                                {
                                    "0": "QR00032",
                                    "1": "2564-01-22",
                                    "2": "Michelin Siam Co., Ltd (Nongkhae)",
                                    "3": "Surapong",
                                    "4": "A4900",
                                    "5": "1",
                                    "6": "non"
                                },
                                {
                                    "0": "QR00033",
                                    "1": "2564-01-25",
                                    "2": "Michelin Siam Co., Ltd (Nongkhae)",
                                    "3": "Supaporn",
                                    "4": "67120063",
                                    "5": "3",
                                    "6": "non"
                                },
                                {
                                    "0": "QR00034",
                                    "1": "2564-01-27",
                                    "2": "Michelin Siam Co., Ltd (Hat Yai)",
                                    "3": "Kuntida",
                                    "4": "PN5281075",
                                    "5": "1",
                                    "6": "non"
                                },
                                {
                                    "0": "QR00035",
                                    "1": "2564-01-29",
                                    "2": "Michelin Siam Co., Ltd (Hat Yai)",
                                    "3": "Kuntida",
                                    "4": "PN2619037",
                                    "5": "1",
                                    "6": "non"
                                },
                                {
                                    "0": "QR00036",
                                    "1": "2564-02-04",
                                    "2": "V2S Engineering Co Ltd",
                                    "3": "Wanna",
                                    "4": "PRG210001423",
                                    "5": "200",
                                    "6": "non"
                                },
                                {
                                    "0": "QR00037",
                                    "1": "2564-02-09",
                                    "2": "Michelin Siam Co., Ltd (Hat Yai)",
                                    "3": "Kuntida",
                                    "4": "PN1603721",
                                    "5": "1",
                                    "6": "non"
                                },
                                {
                                    "0": "QR00038",
                                    "1": "2564-02-09",
                                    "2": "N.H.K. Supply LTD.Part.",
                                    "3": "K.Pink",
                                    "4": "PN1025994",
                                    "5": "8",
                                    "6": "50% DEPOSIT"
                                },
                                {
                                    "0": "QR00039",
                                    "1": "2564-02-10",
                                    "2": "Michelin Siam Co., Ltd (Pradaeng)",
                                    "3": "Supphasit",
                                    "4": "PN6291748",
                                    "5": "5",
                                    "6": "non"
                                },
                                {
                                    "0": "QR00040",
                                    "1": "2564-02-10",
                                    "2": "Michelin Siam Co., Ltd (Hat Yai)",
                                    "3": "Kuntida",
                                    "4": "BCU13438",
                                    "5": "1",
                                    "6": "non"
                                },
                                {
                                    "0": "QR00041",
                                    "1": "2564-02-10",
                                    "2": "Michelin Siam Co., Ltd (Hat Yai)",
                                    "3": "Kuntida",
                                    "4": "PRG21000228",
                                    "5": "1",
                                    "6": "non"
                                },
                                {
                                    "0": "QR00042",
                                    "1": "2564-02-11",
                                    "2": "Michelin Siam Co., Ltd (Hat Yai)",
                                    "3": "Kuntida",
                                    "4": "BCU13359",
                                    "5": "1",
                                    "6": "non"
                                },
                                {
                                    "0": "QR00043",
                                    "1": "2564-02-11",
                                    "2": "Michelin Siam Co., Ltd (Hat Yai)",
                                    "3": "Kuntida",
                                    "4": "BCU14083",
                                    "5": "1",
                                    "6": "non"
                                },
                                {
                                    "0": "QR00044",
                                    "1": "2564-02-16",
                                    "2": "Michelin Siam Co., Ltd (Hat Yai)",
                                    "3": "Kuntida",
                                    "4": "BCU18508",
                                    "5": "1",
                                    "6": "non"
                                },
                                {
                                    "0": "QR00045",
                                    "1": "2564-02-16",
                                    "2": "Michelin Siam Co., Ltd (Hat Yai)",
                                    "3": "Kuntida",
                                    "4": "PN7251983",
                                    "5": "1",
                                    "6": "non"
                                },
                                {
                                    "0": "QR00046",
                                    "1": "2564-02-16",
                                    "2": "Michelin Siam Co., Ltd (Hat Yai)",
                                    "3": "Kuntida",
                                    "4": "PN6193626",
                                    "5": "1",
                                    "6": "non"
                                },
                                {
                                    "0": "QR00047",
                                    "1": "2564-02-17",
                                    "2": "Michelin Siam Co., Ltd (Hat Yai)",
                                    "3": "Kuntida",
                                    "4": "PN2819472",
                                    "5": "1",
                                    "6": "non"
                                },
                                {
                                    "0": "QR00048",
                                    "1": "2564-02-17",
                                    "2": "Michelin Siam Co., Ltd (Hat Yai)",
                                    "3": "Kuntida",
                                    "4": "PN3718902",
                                    "5": "1",
                                    "6": "non"
                                },
                                {
                                    "0": "QR00049",
                                    "1": "2564-02-18",
                                    "2": "Michelin Siam Co., Ltd (Hat Yai)",
                                    "3": "Kuntida",
                                    "4": "PRG21000292",
                                    "5": "2",
                                    "6": "non"
                                },
                                {
                                    "0": "QR00050",
                                    "1": "2564-02-23",
                                    "2": "Michelin Siam Co., Ltd (Hat Yai)",
                                    "3": "Kuntida",
                                    "4": "PRG21000088",
                                    "5": "4",
                                    "6": "non"
                                },
                                {
                                    "0": "QR00051",
                                    "1": "2564-02-23",
                                    "2": "Michelin Siam Co., Ltd (Hat Yai)",
                                    "3": "Kuntida",
                                    "4": "PN5281900",
                                    "5": "2",
                                    "6": "SPECIAL PRICE"
                                },
                                {
                                    "0": "QR00052",
                                    "1": "2564-02-25",
                                    "2": "Michelin Siam Co., Ltd (Hat Yai)",
                                    "3": "Kuntida",
                                    "4": "PN6182609",
                                    "5": "2",
                                    "6": "non"
                                }
                            ]
                        },
                        "text/html": [
                            "<table>",
                            "<tr><th>qr_num</th><th>date</th><th>company_name</th><th>contact_name</th><th>part_num</th><th>quantity</th><th>description</th></tr>",
                            "<tr><td>QR00001</td><td>2564-01-02</td><td>Michelin Siam Co., Ltd (Nongkhae)</td><td>Kanya</td><td>PN410338823</td><td>1</td><td>non</td></tr>",
                            "<tr><td>QR00002</td><td>2564-01-02</td><td>Michelin Siam Co., Ltd (Pradaeng)</td><td>Wannaya</td><td>PN4510338069</td><td>1</td><td>non</td></tr>",
                            "<tr><td>QR00003</td><td>2564-01-02</td><td>Michelin Siam Co., Ltd (Hat Yai)</td><td>Kuntida</td><td>BCU12374</td><td>2</td><td>non</td></tr>",
                            "<tr><td>QR00004</td><td>2564-01-03</td><td>Michelin Siam Co., Ltd (Nongkhae)</td><td>Tana</td><td>PN421043212</td><td>6</td><td>non</td></tr>",
                            "<tr><td>QR00005</td><td>2564-01-03</td><td>Michelin Siam Co., Ltd (Hat Yai)</td><td>Kuntida</td><td>BMA2009034</td><td>1</td><td>non</td></tr>",
                            "<tr><td>QR00006</td><td>2564-01-05</td><td>SIME DARBY OILS MORAKOT PUBLIC COMPANY LIMITED</td><td>Vekit</td><td>PN231332</td><td>2</td><td>non</td></tr>",
                            "<tr><td>QR00007</td><td>2564-01-06</td><td>Michelin Siam Co., Ltd (Nongkhae)</td><td>Ekkasit</td><td>PN2061409</td><td>2</td><td>non</td></tr>",
                            "<tr><td>QR00008</td><td>2564-01-06</td><td>ACS Technology (Thailand) Co.,Ltd</td><td>Amporn</td><td>GN84137120</td><td>2</td><td>non</td></tr>",
                            "<tr><td>QR00009</td><td>2564-01-07</td><td>Michelin Siam Co., Ltd (Laem Chabang)</td><td>Samai</td><td>PR4510341152</td><td>6</td><td>non</td></tr>",
                            "<tr><td>QR00010</td><td>2564-01-11</td><td>Michelin Siam Co., Ltd (Laem Chabang)</td><td>Nara</td><td>PN3278154</td><td>36</td><td>non</td></tr>",
                            "<tr><td>QR00011</td><td>2564-01-12</td><td>Michelin Siam Co., Ltd (Nongkhae)</td><td>Sanya</td><td>PN1742782</td><td>1</td><td>non</td></tr>",
                            "<tr><td>QR00012</td><td>2564-01-12</td><td>Michelin Siam Co., Ltd (Hat Yai)</td><td>Kuntida</td><td>PRG21000038</td><td>1</td><td>non</td></tr>",
                            "<tr><td>QR00013</td><td>2564-01-12</td><td>Michelin Siam Co., Ltd (Nongkhae)</td><td>Kanya</td><td>PRG21000022</td><td>180</td><td>non</td></tr>",
                            "<tr><td>QR00014</td><td>2564-01-12</td><td>Michelin Siam Co., Ltd (Laem Chabang)</td><td>Kattariya</td><td>PN2981564</td><td>576</td><td>48PCS./MONTH</td></tr>",
                            "<tr><td>QR00015</td><td>2564-01-13</td><td>Michelin Siam Co., Ltd (Nongkhae)</td><td>Sitthichai</td><td>PRG21000015</td><td>1</td><td>non</td></tr>",
                            "<tr><td>QR00016</td><td>2564-01-13</td><td>Michelin Siam Co., Ltd (Hat Yai)</td><td>Kuntida</td><td>PRG21000035</td><td>37</td><td>non</td></tr>",
                            "<tr><td>QR00017</td><td>2564-01-13</td><td>Michelin Siam Co., Ltd (Laem Chabang)</td><td>Kattariya</td><td>PN7492390</td><td>50</td><td>non</td></tr>",
                            "<tr><td>QR00018</td><td>2564-01-13</td><td>Michelin Siam Co., Ltd (Hat Yai)</td><td>Kuntida</td><td>PN6398100</td><td>120</td><td>20BOXES/CRATE</td></tr>",
                            "<tr><td>QR00019</td><td>2564-01-13</td><td>Michelin Siam Co., Ltd (Pradaeng)</td><td>Wannaya</td><td>PN4510342642</td><td>200</td><td>non</td></tr>",
                            "<tr><td>QR00020</td><td>2564-01-15</td><td>Michelin Siam Co., Ltd (Hat Yai)</td><td>Kuntida</td><td>PRG21000051</td><td>1</td><td>non</td></tr>",
                            "<tr><td>QR00021</td><td>2564-01-15</td><td>Michelin Siam Co., Ltd (Hat Yai)</td><td>Kuntida</td><td>PRG21000078</td><td>2</td><td>non</td></tr>",
                            "<tr><td>QR00022</td><td>2564-01-15</td><td>Michelin Siam Co., Ltd (Hat Yai)</td><td>Kuntida</td><td>PRG21000065</td><td>10</td><td>non</td></tr>",
                            "<tr><td>QR00023</td><td>2564-01-19</td><td>Michelin Siam Co., Ltd (Nongkhae)</td><td>Sitthichai</td><td>PN1865093</td><td>1</td><td>10PCS./SET</td></tr>",
                            "<tr><td>QR00024</td><td>2564-01-19</td><td>Retro Power Co.,Ltd</td><td>Rachata</td><td>PN0817498</td><td>1</td><td>non</td></tr>",
                            "<tr><td>QR00025</td><td>2564-01-19</td><td>Michelin Thailand (Bangkok Head Office)</td><td>Chatpol</td><td>PN1735491</td><td>1</td><td>non</td></tr>",
                            "<tr><td>QR00026</td><td>2564-01-19</td><td>Michelin Siam Co., Ltd (Hat Yai)</td><td>Kuntida</td><td>PRG16391620</td><td>4</td><td>non</td></tr>",
                            "<tr><td>QR00027</td><td>2564-01-19</td><td>Michelin Siam Co., Ltd (Nongkhae)</td><td>Sitthichai</td><td>PN6491616</td><td>2</td><td>non</td></tr>",
                            "<tr><td>QR00028</td><td>2564-01-19</td><td>Aditya Birla Chemicals (Thailand) Ltd.</td><td>Panrattana</td><td>PN6492701</td><td>750</td><td>METER</td></tr>",
                            "<tr><td>QR00029</td><td>2564-01-20</td><td>Michelin Siam Co., Ltd (Hat Yai)</td><td>Kuntida</td><td>FBH4542</td><td>4</td><td>non</td></tr>",
                            "<tr><td>QR00030</td><td>2564-01-21</td><td>Michelin Siam Co., Ltd (Hat Yai)</td><td>Kuntida</td><td>PRG21000098</td><td>2</td><td>non</td></tr>",
                            "<tr><td>QR00031</td><td>2564-01-21</td><td>Michelin Siam Co., Ltd (Nongkhae)</td><td>Tana</td><td>PN8351680</td><td>1</td><td>non</td></tr>",
                            "<tr><td>QR00032</td><td>2564-01-22</td><td>Michelin Siam Co., Ltd (Nongkhae)</td><td>Surapong</td><td>A4900</td><td>1</td><td>non</td></tr>",
                            "<tr><td>QR00033</td><td>2564-01-25</td><td>Michelin Siam Co., Ltd (Nongkhae)</td><td>Supaporn</td><td>67120063</td><td>3</td><td>non</td></tr>",
                            "<tr><td>QR00034</td><td>2564-01-27</td><td>Michelin Siam Co., Ltd (Hat Yai)</td><td>Kuntida</td><td>PN5281075</td><td>1</td><td>non</td></tr>",
                            "<tr><td>QR00035</td><td>2564-01-29</td><td>Michelin Siam Co., Ltd (Hat Yai)</td><td>Kuntida</td><td>PN2619037</td><td>1</td><td>non</td></tr>",
                            "<tr><td>QR00036</td><td>2564-02-04</td><td>V2S Engineering Co Ltd</td><td>Wanna</td><td>PRG210001423</td><td>200</td><td>non</td></tr>",
                            "<tr><td>QR00037</td><td>2564-02-09</td><td>Michelin Siam Co., Ltd (Hat Yai)</td><td>Kuntida</td><td>PN1603721</td><td>1</td><td>non</td></tr>",
                            "<tr><td>QR00038</td><td>2564-02-09</td><td>N.H.K. Supply LTD.Part.</td><td>K.Pink</td><td>PN1025994</td><td>8</td><td>50% DEPOSIT</td></tr>",
                            "<tr><td>QR00039</td><td>2564-02-10</td><td>Michelin Siam Co., Ltd (Pradaeng)</td><td>Supphasit</td><td>PN6291748</td><td>5</td><td>non</td></tr>",
                            "<tr><td>QR00040</td><td>2564-02-10</td><td>Michelin Siam Co., Ltd (Hat Yai)</td><td>Kuntida</td><td>BCU13438</td><td>1</td><td>non</td></tr>",
                            "<tr><td>QR00041</td><td>2564-02-10</td><td>Michelin Siam Co., Ltd (Hat Yai)</td><td>Kuntida</td><td>PRG21000228</td><td>1</td><td>non</td></tr>",
                            "<tr><td>QR00042</td><td>2564-02-11</td><td>Michelin Siam Co., Ltd (Hat Yai)</td><td>Kuntida</td><td>BCU13359</td><td>1</td><td>non</td></tr>",
                            "<tr><td>QR00043</td><td>2564-02-11</td><td>Michelin Siam Co., Ltd (Hat Yai)</td><td>Kuntida</td><td>BCU14083</td><td>1</td><td>non</td></tr>",
                            "<tr><td>QR00044</td><td>2564-02-16</td><td>Michelin Siam Co., Ltd (Hat Yai)</td><td>Kuntida</td><td>BCU18508</td><td>1</td><td>non</td></tr>",
                            "<tr><td>QR00045</td><td>2564-02-16</td><td>Michelin Siam Co., Ltd (Hat Yai)</td><td>Kuntida</td><td>PN7251983</td><td>1</td><td>non</td></tr>",
                            "<tr><td>QR00046</td><td>2564-02-16</td><td>Michelin Siam Co., Ltd (Hat Yai)</td><td>Kuntida</td><td>PN6193626</td><td>1</td><td>non</td></tr>",
                            "<tr><td>QR00047</td><td>2564-02-17</td><td>Michelin Siam Co., Ltd (Hat Yai)</td><td>Kuntida</td><td>PN2819472</td><td>1</td><td>non</td></tr>",
                            "<tr><td>QR00048</td><td>2564-02-17</td><td>Michelin Siam Co., Ltd (Hat Yai)</td><td>Kuntida</td><td>PN3718902</td><td>1</td><td>non</td></tr>",
                            "<tr><td>QR00049</td><td>2564-02-18</td><td>Michelin Siam Co., Ltd (Hat Yai)</td><td>Kuntida</td><td>PRG21000292</td><td>2</td><td>non</td></tr>",
                            "<tr><td>QR00050</td><td>2564-02-23</td><td>Michelin Siam Co., Ltd (Hat Yai)</td><td>Kuntida</td><td>PRG21000088</td><td>4</td><td>non</td></tr>",
                            "<tr><td>QR00051</td><td>2564-02-23</td><td>Michelin Siam Co., Ltd (Hat Yai)</td><td>Kuntida</td><td>PN5281900</td><td>2</td><td>SPECIAL PRICE</td></tr>",
                            "<tr><td>QR00052</td><td>2564-02-25</td><td>Michelin Siam Co., Ltd (Hat Yai)</td><td>Kuntida</td><td>PN6182609</td><td>2</td><td>non</td></tr>",
                            "</table>"
                        ]
                    }
                }
            ],
            "execution_count": 39
        },
        {
            "cell_type": "code",
            "source": [
                "/* insert the quotation in to quatation table */\n",
                "insert into quotation \n",
                "values ('640104-1', '2564-01-04', 'QR00001',32635.00, 'Included VAT'),\n",
                "('640104-4', '2564-01-04', 'QR00002',3905.50, 'Included VAT'),\n",
                "('640104-5', '2564-01-04', 'QR00003',2996.00, 'Included VAT'),\n",
                "('640104-6', '2564-01-04', 'QR00004',16627.80, 'Included VAT'),\n",
                "('640106-1', '2564-01-06', 'QR00005',116630.00, 'Included VAT'),\n",
                "('640106-3', '2564-01-06', 'QR00006',29960.00, 'Included VAT'),\n",
                "('640106-5', '2564-01-06', 'QR00007', 63986.00, 'Included VAT'),\n",
                "('640106-8', '2564-01-06', 'QR00008', 7704.00, 'Included VAT'),\n",
                "('640107-2', '2564-01-07', 'QR00009', 122515.00, 'Included VAT'),\n",
                "('640111-2', '2564-01-11', 'QR00010', 22726.80, 'Included VAT'),\n",
                "('640112-1', '2564-01-12', 'QR00011', 6955.00, 'Included VAT'),\n",
                "('640112-2', '2564-01-12', 'QR00012', 17655.00, 'Included VAT'),\n",
                "('640112-4', '2564-01-12', 'QR00013', 55854.00, 'Included VAT'),\n",
                "('640112-6', '2564-01-12', 'QR00014', 135590.40, 'Included VAT'),\n",
                "('640113-1', '2564-01-13', 'QR00015', 3531.00, 'Included VAT'),\n",
                "('640113-2', '2564-01-13', 'QR00016', 275151.05, 'Included VAT'),\n",
                "('640113-3', '2564-01-13', 'QR00017', 31565.00, 'Included VAT'),\n",
                "('640113-5', '2564-01-13', 'QR00018', 95016.00, 'Included VAT'),\n",
                "('640113-6', '2564-01-13', 'QR00019', 32100.00, 'Included VAT'),\n",
                "('640115-1', '2564-01-15', 'QR00020', 31993.00, 'Included VAT'),\n",
                "('640115-5', '2564-01-15', 'QR00021', 1177.00, 'Included VAT'),\n",
                "('640115-6', '2564-01-15', 'QR00022', 20223.00, 'Included VAT'),\n",
                "('640119-2', '2564-01-19', 'QR00023', 2782.00, 'Included VAT'),\n",
                "('640119-7', '2564-01-19', 'QR00024', 2996.00, 'Included VAT'),\n",
                "('640119-8', '2564-01-19', 'QR00025', 34775.00, 'Included VAT'),\n",
                "('640119-9', '2564-01-19', 'QR00026', 62488.00, 'Included VAT'),\n",
                "('640119-10', '2564-01-19', 'QR00027', 4922.00, 'Included VAT'),\n",
                "('640119-11', '2564-01-19', 'QR00028', 424817.82, 'Included VAT'),\n",
                "('640120-3', '2564-01-20', 'QR00029', 14980.00, 'Included VAT'),\n",
                "('640121-2', '2564-01-21', 'QR00030', 12412.00, 'Included VAT'),\n",
                "('640121-4', '2564-01-21', 'QR00031', 30816.00, 'Included VAT'),\n",
                "('640122-1', '2564-01-22', 'QR00032', 144450.00, 'Included VAT'),\n",
                "('640125-1', '2564-01-25', 'QR00033', 3531.00, 'Included VAT'),\n",
                "('640127-2', '2564-01-27', 'QR00034', 14873.00, 'Included VAT'),\n",
                "('640129-1', '2564-01-29', 'QR00035', 23005.00, 'Included VAT'),\n",
                "('640204-3', '2564-02-04', 'QR00036', 154080.00, 'Included VAT'),\n",
                "('640209-1', '2564-02-09', 'QR00037', 25573.00, 'Included VAT'),\n",
                "('640209-3', '2564-02-09', 'QR00038', 83888.00, 'Included VAT'),\n",
                "('640210-5', '2564-02-10', 'QR00039', 7490.00, 'Included VAT'),\n",
                "('640210-8', '2564-02-10', 'QR00040', 3638.00, 'Included VAT'),\n",
                "('640210-9', '2564-02-10', 'QR00041', 40660.00, 'Included VAT'),\n",
                "('640211-3', '2564-02-11', 'QR00042', 8025.00, 'Included VAT'),\n",
                "('640211-4', '2564-02-11', 'QR00043', 11235.00, 'Included VAT'),\n",
                "('640216-1', '2564-02-16', 'QR00044', 26643.00, 'Included VAT'),\n",
                "('640216-2', '2564-02-16', 'QR00045', 117700.00, 'Included VAT'),\n",
                "('640216-3', '2564-02-16', 'QR00046', 5339.30, 'Included VAT'),\n",
                "('640217-1', '2564-02-17', 'QR00047', 83460.00, 'Included VAT'),\n",
                "('640217-2', '2564-02-17', 'QR00048', 6409.30, 'Included VAT'),\n",
                "('640218-1', '2564-02-18', 'QR00049', 5136.00, 'Included VAT'),\n",
                "('640223-7', '2564-02-23', 'QR00050', 1380.30, 'Included VAT'),\n",
                "('640223-8', '2564-02-23', 'QR00051', 3317.00, 'Included VAT'),\n",
                "('640225-2', '2564-02-25', 'QR00052', 417835.00, 'Included VAT')\n",
                ""
            ],
            "metadata": {
                "azdata_cell_guid": "505d1df3-51f8-4f70-a8b2-e83604a4f938"
            },
            "outputs": [
                {
                    "output_type": "display_data",
                    "data": {
                        "text/html": "(52 rows affected)"
                    },
                    "metadata": {}
                },
                {
                    "output_type": "display_data",
                    "data": {
                        "text/html": "Total execution time: 00:00:00.056"
                    },
                    "metadata": {}
                }
            ],
            "execution_count": 40
        },
        {
            "cell_type": "code",
            "source": [
                "/* show all data in the quotation table */\n",
                "SELECT * FROM quotation;"
            ],
            "metadata": {
                "azdata_cell_guid": "bc9749e1-a84c-4ce9-b0dd-42afc32aa11c"
            },
            "outputs": [
                {
                    "output_type": "display_data",
                    "data": {
                        "text/html": "(52 rows affected)"
                    },
                    "metadata": {}
                },
                {
                    "output_type": "display_data",
                    "data": {
                        "text/html": "Total execution time: 00:00:00.045"
                    },
                    "metadata": {}
                },
                {
                    "output_type": "execute_result",
                    "metadata": {},
                    "execution_count": 41,
                    "data": {
                        "application/vnd.dataresource+json": {
                            "schema": {
                                "fields": [
                                    {
                                        "name": "q_num"
                                    },
                                    {
                                        "name": "date"
                                    },
                                    {
                                        "name": "qr_num"
                                    },
                                    {
                                        "name": "sell_price"
                                    },
                                    {
                                        "name": "description"
                                    }
                                ]
                            },
                            "data": [
                                {
                                    "0": "640104-1",
                                    "1": "2564-01-04",
                                    "2": "QR00001",
                                    "3": "32635.00",
                                    "4": "Included VAT"
                                },
                                {
                                    "0": "640104-4",
                                    "1": "2564-01-04",
                                    "2": "QR00002",
                                    "3": "3905.50",
                                    "4": "Included VAT"
                                },
                                {
                                    "0": "640104-5",
                                    "1": "2564-01-04",
                                    "2": "QR00003",
                                    "3": "2996.00",
                                    "4": "Included VAT"
                                },
                                {
                                    "0": "640104-6",
                                    "1": "2564-01-04",
                                    "2": "QR00004",
                                    "3": "16627.80",
                                    "4": "Included VAT"
                                },
                                {
                                    "0": "640106-1",
                                    "1": "2564-01-06",
                                    "2": "QR00005",
                                    "3": "116630.00",
                                    "4": "Included VAT"
                                },
                                {
                                    "0": "640106-3",
                                    "1": "2564-01-06",
                                    "2": "QR00006",
                                    "3": "29960.00",
                                    "4": "Included VAT"
                                },
                                {
                                    "0": "640106-5",
                                    "1": "2564-01-06",
                                    "2": "QR00007",
                                    "3": "63986.00",
                                    "4": "Included VAT"
                                },
                                {
                                    "0": "640106-8",
                                    "1": "2564-01-06",
                                    "2": "QR00008",
                                    "3": "7704.00",
                                    "4": "Included VAT"
                                },
                                {
                                    "0": "640107-2",
                                    "1": "2564-01-07",
                                    "2": "QR00009",
                                    "3": "122515.00",
                                    "4": "Included VAT"
                                },
                                {
                                    "0": "640111-2",
                                    "1": "2564-01-11",
                                    "2": "QR00010",
                                    "3": "22726.80",
                                    "4": "Included VAT"
                                },
                                {
                                    "0": "640112-1",
                                    "1": "2564-01-12",
                                    "2": "QR00011",
                                    "3": "6955.00",
                                    "4": "Included VAT"
                                },
                                {
                                    "0": "640112-2",
                                    "1": "2564-01-12",
                                    "2": "QR00012",
                                    "3": "17655.00",
                                    "4": "Included VAT"
                                },
                                {
                                    "0": "640112-4",
                                    "1": "2564-01-12",
                                    "2": "QR00013",
                                    "3": "55854.00",
                                    "4": "Included VAT"
                                },
                                {
                                    "0": "640112-6",
                                    "1": "2564-01-12",
                                    "2": "QR00014",
                                    "3": "135590.40",
                                    "4": "Included VAT"
                                },
                                {
                                    "0": "640113-1",
                                    "1": "2564-01-13",
                                    "2": "QR00015",
                                    "3": "3531.00",
                                    "4": "Included VAT"
                                },
                                {
                                    "0": "640113-2",
                                    "1": "2564-01-13",
                                    "2": "QR00016",
                                    "3": "275151.05",
                                    "4": "Included VAT"
                                },
                                {
                                    "0": "640113-3",
                                    "1": "2564-01-13",
                                    "2": "QR00017",
                                    "3": "31565.00",
                                    "4": "Included VAT"
                                },
                                {
                                    "0": "640113-5",
                                    "1": "2564-01-13",
                                    "2": "QR00018",
                                    "3": "95016.00",
                                    "4": "Included VAT"
                                },
                                {
                                    "0": "640113-6",
                                    "1": "2564-01-13",
                                    "2": "QR00019",
                                    "3": "32100.00",
                                    "4": "Included VAT"
                                },
                                {
                                    "0": "640115-1",
                                    "1": "2564-01-15",
                                    "2": "QR00020",
                                    "3": "31993.00",
                                    "4": "Included VAT"
                                },
                                {
                                    "0": "640115-5",
                                    "1": "2564-01-15",
                                    "2": "QR00021",
                                    "3": "1177.00",
                                    "4": "Included VAT"
                                },
                                {
                                    "0": "640115-6",
                                    "1": "2564-01-15",
                                    "2": "QR00022",
                                    "3": "20223.00",
                                    "4": "Included VAT"
                                },
                                {
                                    "0": "640119-10",
                                    "1": "2564-01-19",
                                    "2": "QR00027",
                                    "3": "4922.00",
                                    "4": "Included VAT"
                                },
                                {
                                    "0": "640119-11",
                                    "1": "2564-01-19",
                                    "2": "QR00028",
                                    "3": "424817.82",
                                    "4": "Included VAT"
                                },
                                {
                                    "0": "640119-2",
                                    "1": "2564-01-19",
                                    "2": "QR00023",
                                    "3": "2782.00",
                                    "4": "Included VAT"
                                },
                                {
                                    "0": "640119-7",
                                    "1": "2564-01-19",
                                    "2": "QR00024",
                                    "3": "2996.00",
                                    "4": "Included VAT"
                                },
                                {
                                    "0": "640119-8",
                                    "1": "2564-01-19",
                                    "2": "QR00025",
                                    "3": "34775.00",
                                    "4": "Included VAT"
                                },
                                {
                                    "0": "640119-9",
                                    "1": "2564-01-19",
                                    "2": "QR00026",
                                    "3": "62488.00",
                                    "4": "Included VAT"
                                },
                                {
                                    "0": "640120-3",
                                    "1": "2564-01-20",
                                    "2": "QR00029",
                                    "3": "14980.00",
                                    "4": "Included VAT"
                                },
                                {
                                    "0": "640121-2",
                                    "1": "2564-01-21",
                                    "2": "QR00030",
                                    "3": "12412.00",
                                    "4": "Included VAT"
                                },
                                {
                                    "0": "640121-4",
                                    "1": "2564-01-21",
                                    "2": "QR00031",
                                    "3": "30816.00",
                                    "4": "Included VAT"
                                },
                                {
                                    "0": "640122-1",
                                    "1": "2564-01-22",
                                    "2": "QR00032",
                                    "3": "144450.00",
                                    "4": "Included VAT"
                                },
                                {
                                    "0": "640125-1",
                                    "1": "2564-01-25",
                                    "2": "QR00033",
                                    "3": "3531.00",
                                    "4": "Included VAT"
                                },
                                {
                                    "0": "640127-2",
                                    "1": "2564-01-27",
                                    "2": "QR00034",
                                    "3": "14873.00",
                                    "4": "Included VAT"
                                },
                                {
                                    "0": "640129-1",
                                    "1": "2564-01-29",
                                    "2": "QR00035",
                                    "3": "23005.00",
                                    "4": "Included VAT"
                                },
                                {
                                    "0": "640204-3",
                                    "1": "2564-02-04",
                                    "2": "QR00036",
                                    "3": "154080.00",
                                    "4": "Included VAT"
                                },
                                {
                                    "0": "640209-1",
                                    "1": "2564-02-09",
                                    "2": "QR00037",
                                    "3": "25573.00",
                                    "4": "Included VAT"
                                },
                                {
                                    "0": "640209-3",
                                    "1": "2564-02-09",
                                    "2": "QR00038",
                                    "3": "83888.00",
                                    "4": "Included VAT"
                                },
                                {
                                    "0": "640210-5",
                                    "1": "2564-02-10",
                                    "2": "QR00039",
                                    "3": "7490.00",
                                    "4": "Included VAT"
                                },
                                {
                                    "0": "640210-8",
                                    "1": "2564-02-10",
                                    "2": "QR00040",
                                    "3": "3638.00",
                                    "4": "Included VAT"
                                },
                                {
                                    "0": "640210-9",
                                    "1": "2564-02-10",
                                    "2": "QR00041",
                                    "3": "40660.00",
                                    "4": "Included VAT"
                                },
                                {
                                    "0": "640211-3",
                                    "1": "2564-02-11",
                                    "2": "QR00042",
                                    "3": "8025.00",
                                    "4": "Included VAT"
                                },
                                {
                                    "0": "640211-4",
                                    "1": "2564-02-11",
                                    "2": "QR00043",
                                    "3": "11235.00",
                                    "4": "Included VAT"
                                },
                                {
                                    "0": "640216-1",
                                    "1": "2564-02-16",
                                    "2": "QR00044",
                                    "3": "26643.00",
                                    "4": "Included VAT"
                                },
                                {
                                    "0": "640216-2",
                                    "1": "2564-02-16",
                                    "2": "QR00045",
                                    "3": "117700.00",
                                    "4": "Included VAT"
                                },
                                {
                                    "0": "640216-3",
                                    "1": "2564-02-16",
                                    "2": "QR00046",
                                    "3": "5339.30",
                                    "4": "Included VAT"
                                },
                                {
                                    "0": "640217-1",
                                    "1": "2564-02-17",
                                    "2": "QR00047",
                                    "3": "83460.00",
                                    "4": "Included VAT"
                                },
                                {
                                    "0": "640217-2",
                                    "1": "2564-02-17",
                                    "2": "QR00048",
                                    "3": "6409.30",
                                    "4": "Included VAT"
                                },
                                {
                                    "0": "640218-1",
                                    "1": "2564-02-18",
                                    "2": "QR00049",
                                    "3": "5136.00",
                                    "4": "Included VAT"
                                },
                                {
                                    "0": "640223-7",
                                    "1": "2564-02-23",
                                    "2": "QR00050",
                                    "3": "1380.30",
                                    "4": "Included VAT"
                                },
                                {
                                    "0": "640223-8",
                                    "1": "2564-02-23",
                                    "2": "QR00051",
                                    "3": "3317.00",
                                    "4": "Included VAT"
                                },
                                {
                                    "0": "640225-2",
                                    "1": "2564-02-25",
                                    "2": "QR00052",
                                    "3": "417835.00",
                                    "4": "Included VAT"
                                }
                            ]
                        },
                        "text/html": [
                            "<table>",
                            "<tr><th>q_num</th><th>date</th><th>qr_num</th><th>sell_price</th><th>description</th></tr>",
                            "<tr><td>640104-1</td><td>2564-01-04</td><td>QR00001</td><td>32635.00</td><td>Included VAT</td></tr>",
                            "<tr><td>640104-4</td><td>2564-01-04</td><td>QR00002</td><td>3905.50</td><td>Included VAT</td></tr>",
                            "<tr><td>640104-5</td><td>2564-01-04</td><td>QR00003</td><td>2996.00</td><td>Included VAT</td></tr>",
                            "<tr><td>640104-6</td><td>2564-01-04</td><td>QR00004</td><td>16627.80</td><td>Included VAT</td></tr>",
                            "<tr><td>640106-1</td><td>2564-01-06</td><td>QR00005</td><td>116630.00</td><td>Included VAT</td></tr>",
                            "<tr><td>640106-3</td><td>2564-01-06</td><td>QR00006</td><td>29960.00</td><td>Included VAT</td></tr>",
                            "<tr><td>640106-5</td><td>2564-01-06</td><td>QR00007</td><td>63986.00</td><td>Included VAT</td></tr>",
                            "<tr><td>640106-8</td><td>2564-01-06</td><td>QR00008</td><td>7704.00</td><td>Included VAT</td></tr>",
                            "<tr><td>640107-2</td><td>2564-01-07</td><td>QR00009</td><td>122515.00</td><td>Included VAT</td></tr>",
                            "<tr><td>640111-2</td><td>2564-01-11</td><td>QR00010</td><td>22726.80</td><td>Included VAT</td></tr>",
                            "<tr><td>640112-1</td><td>2564-01-12</td><td>QR00011</td><td>6955.00</td><td>Included VAT</td></tr>",
                            "<tr><td>640112-2</td><td>2564-01-12</td><td>QR00012</td><td>17655.00</td><td>Included VAT</td></tr>",
                            "<tr><td>640112-4</td><td>2564-01-12</td><td>QR00013</td><td>55854.00</td><td>Included VAT</td></tr>",
                            "<tr><td>640112-6</td><td>2564-01-12</td><td>QR00014</td><td>135590.40</td><td>Included VAT</td></tr>",
                            "<tr><td>640113-1</td><td>2564-01-13</td><td>QR00015</td><td>3531.00</td><td>Included VAT</td></tr>",
                            "<tr><td>640113-2</td><td>2564-01-13</td><td>QR00016</td><td>275151.05</td><td>Included VAT</td></tr>",
                            "<tr><td>640113-3</td><td>2564-01-13</td><td>QR00017</td><td>31565.00</td><td>Included VAT</td></tr>",
                            "<tr><td>640113-5</td><td>2564-01-13</td><td>QR00018</td><td>95016.00</td><td>Included VAT</td></tr>",
                            "<tr><td>640113-6</td><td>2564-01-13</td><td>QR00019</td><td>32100.00</td><td>Included VAT</td></tr>",
                            "<tr><td>640115-1</td><td>2564-01-15</td><td>QR00020</td><td>31993.00</td><td>Included VAT</td></tr>",
                            "<tr><td>640115-5</td><td>2564-01-15</td><td>QR00021</td><td>1177.00</td><td>Included VAT</td></tr>",
                            "<tr><td>640115-6</td><td>2564-01-15</td><td>QR00022</td><td>20223.00</td><td>Included VAT</td></tr>",
                            "<tr><td>640119-10</td><td>2564-01-19</td><td>QR00027</td><td>4922.00</td><td>Included VAT</td></tr>",
                            "<tr><td>640119-11</td><td>2564-01-19</td><td>QR00028</td><td>424817.82</td><td>Included VAT</td></tr>",
                            "<tr><td>640119-2</td><td>2564-01-19</td><td>QR00023</td><td>2782.00</td><td>Included VAT</td></tr>",
                            "<tr><td>640119-7</td><td>2564-01-19</td><td>QR00024</td><td>2996.00</td><td>Included VAT</td></tr>",
                            "<tr><td>640119-8</td><td>2564-01-19</td><td>QR00025</td><td>34775.00</td><td>Included VAT</td></tr>",
                            "<tr><td>640119-9</td><td>2564-01-19</td><td>QR00026</td><td>62488.00</td><td>Included VAT</td></tr>",
                            "<tr><td>640120-3</td><td>2564-01-20</td><td>QR00029</td><td>14980.00</td><td>Included VAT</td></tr>",
                            "<tr><td>640121-2</td><td>2564-01-21</td><td>QR00030</td><td>12412.00</td><td>Included VAT</td></tr>",
                            "<tr><td>640121-4</td><td>2564-01-21</td><td>QR00031</td><td>30816.00</td><td>Included VAT</td></tr>",
                            "<tr><td>640122-1</td><td>2564-01-22</td><td>QR00032</td><td>144450.00</td><td>Included VAT</td></tr>",
                            "<tr><td>640125-1</td><td>2564-01-25</td><td>QR00033</td><td>3531.00</td><td>Included VAT</td></tr>",
                            "<tr><td>640127-2</td><td>2564-01-27</td><td>QR00034</td><td>14873.00</td><td>Included VAT</td></tr>",
                            "<tr><td>640129-1</td><td>2564-01-29</td><td>QR00035</td><td>23005.00</td><td>Included VAT</td></tr>",
                            "<tr><td>640204-3</td><td>2564-02-04</td><td>QR00036</td><td>154080.00</td><td>Included VAT</td></tr>",
                            "<tr><td>640209-1</td><td>2564-02-09</td><td>QR00037</td><td>25573.00</td><td>Included VAT</td></tr>",
                            "<tr><td>640209-3</td><td>2564-02-09</td><td>QR00038</td><td>83888.00</td><td>Included VAT</td></tr>",
                            "<tr><td>640210-5</td><td>2564-02-10</td><td>QR00039</td><td>7490.00</td><td>Included VAT</td></tr>",
                            "<tr><td>640210-8</td><td>2564-02-10</td><td>QR00040</td><td>3638.00</td><td>Included VAT</td></tr>",
                            "<tr><td>640210-9</td><td>2564-02-10</td><td>QR00041</td><td>40660.00</td><td>Included VAT</td></tr>",
                            "<tr><td>640211-3</td><td>2564-02-11</td><td>QR00042</td><td>8025.00</td><td>Included VAT</td></tr>",
                            "<tr><td>640211-4</td><td>2564-02-11</td><td>QR00043</td><td>11235.00</td><td>Included VAT</td></tr>",
                            "<tr><td>640216-1</td><td>2564-02-16</td><td>QR00044</td><td>26643.00</td><td>Included VAT</td></tr>",
                            "<tr><td>640216-2</td><td>2564-02-16</td><td>QR00045</td><td>117700.00</td><td>Included VAT</td></tr>",
                            "<tr><td>640216-3</td><td>2564-02-16</td><td>QR00046</td><td>5339.30</td><td>Included VAT</td></tr>",
                            "<tr><td>640217-1</td><td>2564-02-17</td><td>QR00047</td><td>83460.00</td><td>Included VAT</td></tr>",
                            "<tr><td>640217-2</td><td>2564-02-17</td><td>QR00048</td><td>6409.30</td><td>Included VAT</td></tr>",
                            "<tr><td>640218-1</td><td>2564-02-18</td><td>QR00049</td><td>5136.00</td><td>Included VAT</td></tr>",
                            "<tr><td>640223-7</td><td>2564-02-23</td><td>QR00050</td><td>1380.30</td><td>Included VAT</td></tr>",
                            "<tr><td>640223-8</td><td>2564-02-23</td><td>QR00051</td><td>3317.00</td><td>Included VAT</td></tr>",
                            "<tr><td>640225-2</td><td>2564-02-25</td><td>QR00052</td><td>417835.00</td><td>Included VAT</td></tr>",
                            "</table>"
                        ]
                    }
                }
            ],
            "execution_count": 41
        },
        {
            "cell_type": "code",
            "source": [
                "/* insert the purchase order in to purchase order table */\n",
                "insert into purchase_order\n",
                "values ('PO6400001', '2564-01-04', '640104-1', 'Encoder Products Company', 'Dawn', 13485.00, 'Included VAT'),\n",
                "('PO6400002', '2564-01-04', '640104-4', 'WAM Bulk Handling Equipment Industry (Thailand) Co.,Ltd.', 'Jirawadee', 2354.00, 'Included VAT'),\n",
                "('PO6400003', '2564-01-04', '640104-5', 'Tang Kieng Nguan', 'Po', 1350.00, 'Included VAT'),\n",
                "('PO6400004', '2564-01-04', '640104-6', 'RS Components Co. Ltd.', 'Wachira', 5350.00, 'Included VAT'),\n",
                "('PO6400005', '2564-01-06', '640106-1', 'ASIA KENDY CO., LTD', 'Isara', 97370.00, 'Included VAT'),\n",
                "('PO6400006', '2564-01-06', '640106-3', 'Alibaba.com', 'Shenzhen', 467.00, 'Included VAT'),\n",
                "('PO6400007', '2564-01-06', '640106-5', 'Hilti (Thailand) Ltd.', 'Parada', 49814.49, 'Included VAT'),\n",
                "('PO6400008', '2564-01-06', '640106-8', 'RS Components Co. Ltd.', 'Wachira', 1952.75, 'Included VAT'),\n",
                "('PO6400009', '2564-01-07', '640107-2', 'RS Components Co. Ltd.', 'Wachira', 45043.255, 'Included VAT'),\n",
                "('PO6400010', '2564-01-11', '640111-2', 'RS Components Co. Ltd.', 'Wachira', 19022.35, 'Included VAT'),\n",
                "('PO6400011', '2564-01-12', '640112-1', 'Lohakarn Machinery Limited Partnership', 'K.Tee', 5300.00, 'Included VAT'),\n",
                "('PO6400012', '2564-01-12', '640112-2', 'YUH Machine Tools', 'K.Aew', 12000.00, 'Included VAT'),\n",
                "('PO6400013', '2564-01-12', '640112-4', 'Borneo Technical (Thailand) Limited', 'Chatcawan', 44298.00, 'Included VAT'),\n",
                "('PO6400014', '2564-01-12', '640112-6', 'Tang Jib Seng Bakery Wares', 'Natthased', 73958.40, 'Included VAT'),\n",
                "('PO6400015', '2564-01-13', '640113-1', 'Lohakarn Machinery Limited Partnership', 'K.Tee', 5299.99, 'Included VAT'),\n",
                "('PO6400016', '2564-01-13', '640113-2', 'PSA Service and Supply Co.,Ltd', 'K.Tee(PSA)', 15836.00, 'Included VAT'),\n",
                "('PO6400017', '2564-01-13', '640113-3', 'CST Supply Co.Ltd', 'K.Fon', 23486.50, 'Included VAT'),\n",
                "('PO6400018', '2564-01-13', '640113-5', 'King Care Group Co., Ltd.', 'K.Nueng', 37878.00, 'Included VAT'),\n",
                "('PO6400019', '2564-01-13', '640113-6', 'Lohakarn Machinery Limited Partnership', 'K.Tee', 5300.00, 'Included VAT'),\n",
                "('PO6400020', '2564-01-15', '640115-1', 'Mullergroup (Thailand) Co.,Ltd', 'K.Kwang', 19795.00, 'Included VAT'),\n",
                "('PO6400021', '2564-01-15', '640115-5', 'TANG NGUAN SENG co., Ltd.', 'K.Aek', 480.00, 'Included VAT'),\n",
                "('PO6400022', '2564-01-15', '640115-6', 'Hafele (Thailand) Ltd.', 'K.Kai', 15515.00, 'Included VAT'),\n",
                "('PO6400023', '2564-01-19', '640119-2', 'RS Components Co. Ltd.', 'Wachira', 2070.45, 'Included VAT'),\n",
                "('PO6400024', '2564-01-19', '640119-7', 'RS Components Co. Ltd.', 'Wachira', 2381.52, 'Included VAT'),\n",
                "('PO6400025', '2564-01-19', '640119-8', 'Mobile2you', 'K.boy', 19474.00, 'Included VAT'),\n",
                "('PO6400026', '2564-01-19', '640119-9', 'Khin Nam Huat Co., Ltd.', 'K.Kat', 38520, 'Included VAT'),\n",
                "('PO6400027', '2564-01-19', '640119-10', 'RS Components Co. Ltd.', 'Wachira', 4653.05, 'Included VAT'),\n",
                "('PO6400028', '2564-01-19', '640119-11', 'UNION CABLE CO., LTD.', 'K.Ploy', 375425.55, 'Included VAT'),\n",
                "('PO6400029', '2564-01-20', '640120-3', 'RS Components Co. Ltd.', 'Wachira', 9526.10, 'Included VAT'),\n",
                "('PO6400030', '2564-01-21', '640121-2', 'RS Components Co. Ltd.', 'Wachira', 4763.05, 'Included VAT'),\n",
                "('PO6400031', '2564-01-21', '640121-4', 'Palawatr Co., Ltd.', 'K.Prae', 24761.95, 'Included VAT'),\n",
                "('PO6400032', '2564-01-22', '640122-1', 'MATANEEPAN CO.,LTD', 'Pimprapai', 112350.00, 'Included VAT'),\n",
                "('PO6400033', '2564-01-25', '640125-1', 'UNITIS CO., LTD.', 'Praepat', 1530.00, 'Included VAT'),\n",
                "('PO6400034', '2564-01-27', '640127-2', 'Atom-mic power Co.,Ltd.', 'K.Oab', 10646.50, 'Included VAT'),\n",
                "('PO6400035', '2564-01-29', '640129-1', 'H.T.(Bangkok) Trading Co., Ltd.', 'K.Yok', 19608.10, 'Included VAT'),\n",
                "('PO6400036', '2564-02-04', '640204-3', 'BOON CHAROEN PORN METAL IMPORT COMPANY LIMITED', 'K.Bee', 50251.10, 'Included VAT'),\n",
                "('PO6400037', '2564-02-09', '640209-1', 'Palawatr Co., Ltd.', 'K.Prae', 20062.50, 'Included VAT'),\n",
                "('PO6400038', '2564-02-09', '640209-3', 'RS Components Co. Ltd.', 'Wachira', 81619.50, 'Included VAT'),\n",
                "('PO6400039', '2564-02-10', '640210-5', 'RS Components Co. Ltd.', 'Wachira', 4601.00, 'Included VAT'),\n",
                "('PO6400040', '2564-02-10', '640210-8', 'Estel Company Limited', 'K.Rut', 2000.00, 'Included VAT'),\n",
                "('PO6400041', '2564-02-10', '640210-9', 'Vanich Group', 'Naveekit', 16799.00, 'Included VAT'),\n",
                "('PO6400042', '2564-02-11', '640211-3', 'K.D.V. (THAILAND) CO.,LTD.', 'Sanchai', 3659.50, 'Included VAT'),\n",
                "('PO6400043', '2564-02-11', '640211-4', 'K.D.V. (THAILAND) CO.,LTD.', 'Sanchai', 8731.20, 'Included VAT'),\n",
                "('PO6400044', '2564-02-16', '640216-1', 'Unite Industrial Co.,Ltd.', 'K.Wut', 20865.00, 'Included VAT'),\n",
                "('PO6400045', '2564-02-16', '640216-2', 'Asia Kendy Co.,LTD.', 'K.Ao', 84500.00, 'Included VAT'),\n",
                "('PO6400046', '2564-02-16', '640216-3', 'Asia Kendy Co.,LTD.', 'K.Ao', 4167.00, 'Included VAT'),\n",
                "('PO6400047', '2564-02-17', '640217-1', 'Sonic Automation Co.,Ltd', 'Kelvin', 66732.69, 'Included VAT'),\n",
                "('PO6400048', '2564-02-17', '640217-2', 'BananaIT Central Pinklao', 'Wanwipa', 4708.54, 'Included VAT'),\n",
                "('PO6400049', '2564-02-18', '640218-1', 'B.B.S. Supply and Service', 'Worrapoj', 2878.30, 'Included VAT'),\n",
                "('PO6400050', '2564-02-23', '640223-7', 'Pakorn Bearing', 'K.Aom', 984.40, 'Included VAT'),\n",
                "('PO6400051', '2564-02-23', '640223-8', 'Factomart', 'Natcharaporn', 2413.92, 'Included VAT'),\n",
                "('PO6400052', '2564-02-25', '640225-2', 'Abex Hydraulics & Engineering Co., Ltd', 'Apinya', 334268.00, 'Included VAT')"
            ],
            "metadata": {
                "azdata_cell_guid": "0ed25e6c-64ae-4729-bd52-5fa315ccd897"
            },
            "outputs": [
                {
                    "output_type": "display_data",
                    "data": {
                        "text/html": "(52 rows affected)"
                    },
                    "metadata": {}
                },
                {
                    "output_type": "display_data",
                    "data": {
                        "text/html": "Total execution time: 00:00:00.085"
                    },
                    "metadata": {}
                }
            ],
            "execution_count": 42
        },
        {
            "cell_type": "code",
            "source": [
                "/* show all data in the purchase order table */\n",
                "SELECT * FROM purchase_order;"
            ],
            "metadata": {
                "azdata_cell_guid": "d2372055-9509-4d7d-826f-dc991cbd1641"
            },
            "outputs": [
                {
                    "output_type": "display_data",
                    "data": {
                        "text/html": "(52 rows affected)"
                    },
                    "metadata": {}
                },
                {
                    "output_type": "display_data",
                    "data": {
                        "text/html": "Total execution time: 00:00:00.020"
                    },
                    "metadata": {}
                },
                {
                    "output_type": "execute_result",
                    "metadata": {},
                    "execution_count": 43,
                    "data": {
                        "application/vnd.dataresource+json": {
                            "schema": {
                                "fields": [
                                    {
                                        "name": "po_num"
                                    },
                                    {
                                        "name": "date"
                                    },
                                    {
                                        "name": "q_num"
                                    },
                                    {
                                        "name": "company_name"
                                    },
                                    {
                                        "name": "contact_name"
                                    },
                                    {
                                        "name": "buy_price"
                                    },
                                    {
                                        "name": "description"
                                    }
                                ]
                            },
                            "data": [
                                {
                                    "0": "PO6400001",
                                    "1": "2564-01-04",
                                    "2": "640104-1",
                                    "3": "Encoder Products Company",
                                    "4": "Dawn",
                                    "5": "13485.00",
                                    "6": "Included VAT"
                                },
                                {
                                    "0": "PO6400002",
                                    "1": "2564-01-04",
                                    "2": "640104-4",
                                    "3": "WAM Bulk Handling Equipment Industry (Thailand) Co.,Ltd.",
                                    "4": "Jirawadee",
                                    "5": "2354.00",
                                    "6": "Included VAT"
                                },
                                {
                                    "0": "PO6400003",
                                    "1": "2564-01-04",
                                    "2": "640104-5",
                                    "3": "Tang Kieng Nguan",
                                    "4": "Po",
                                    "5": "1350.00",
                                    "6": "Included VAT"
                                },
                                {
                                    "0": "PO6400004",
                                    "1": "2564-01-04",
                                    "2": "640104-6",
                                    "3": "RS Components Co. Ltd.",
                                    "4": "Wachira",
                                    "5": "5350.00",
                                    "6": "Included VAT"
                                },
                                {
                                    "0": "PO6400005",
                                    "1": "2564-01-06",
                                    "2": "640106-1",
                                    "3": "ASIA KENDY CO., LTD",
                                    "4": "Isara",
                                    "5": "97370.00",
                                    "6": "Included VAT"
                                },
                                {
                                    "0": "PO6400006",
                                    "1": "2564-01-06",
                                    "2": "640106-3",
                                    "3": "Alibaba.com",
                                    "4": "Shenzhen",
                                    "5": "467.00",
                                    "6": "Included VAT"
                                },
                                {
                                    "0": "PO6400007",
                                    "1": "2564-01-06",
                                    "2": "640106-5",
                                    "3": "Hilti (Thailand) Ltd.",
                                    "4": "Parada",
                                    "5": "49814.49",
                                    "6": "Included VAT"
                                },
                                {
                                    "0": "PO6400008",
                                    "1": "2564-01-06",
                                    "2": "640106-8",
                                    "3": "RS Components Co. Ltd.",
                                    "4": "Wachira",
                                    "5": "1952.75",
                                    "6": "Included VAT"
                                },
                                {
                                    "0": "PO6400009",
                                    "1": "2564-01-07",
                                    "2": "640107-2",
                                    "3": "RS Components Co. Ltd.",
                                    "4": "Wachira",
                                    "5": "45043.26",
                                    "6": "Included VAT"
                                },
                                {
                                    "0": "PO6400010",
                                    "1": "2564-01-11",
                                    "2": "640111-2",
                                    "3": "RS Components Co. Ltd.",
                                    "4": "Wachira",
                                    "5": "19022.35",
                                    "6": "Included VAT"
                                },
                                {
                                    "0": "PO6400011",
                                    "1": "2564-01-12",
                                    "2": "640112-1",
                                    "3": "Lohakarn Machinery Limited Partnership",
                                    "4": "K.Tee",
                                    "5": "5300.00",
                                    "6": "Included VAT"
                                },
                                {
                                    "0": "PO6400012",
                                    "1": "2564-01-12",
                                    "2": "640112-2",
                                    "3": "YUH Machine Tools",
                                    "4": "K.Aew",
                                    "5": "12000.00",
                                    "6": "Included VAT"
                                },
                                {
                                    "0": "PO6400013",
                                    "1": "2564-01-12",
                                    "2": "640112-4",
                                    "3": "Borneo Technical (Thailand) Limited",
                                    "4": "Chatcawan",
                                    "5": "44298.00",
                                    "6": "Included VAT"
                                },
                                {
                                    "0": "PO6400014",
                                    "1": "2564-01-12",
                                    "2": "640112-6",
                                    "3": "Tang Jib Seng Bakery Wares",
                                    "4": "Natthased",
                                    "5": "73958.40",
                                    "6": "Included VAT"
                                },
                                {
                                    "0": "PO6400015",
                                    "1": "2564-01-13",
                                    "2": "640113-1",
                                    "3": "Lohakarn Machinery Limited Partnership",
                                    "4": "K.Tee",
                                    "5": "5299.99",
                                    "6": "Included VAT"
                                },
                                {
                                    "0": "PO6400016",
                                    "1": "2564-01-13",
                                    "2": "640113-2",
                                    "3": "PSA Service and Supply Co.,Ltd",
                                    "4": "K.Tee(PSA)",
                                    "5": "15836.00",
                                    "6": "Included VAT"
                                },
                                {
                                    "0": "PO6400017",
                                    "1": "2564-01-13",
                                    "2": "640113-3",
                                    "3": "CST Supply Co.Ltd",
                                    "4": "K.Fon",
                                    "5": "23486.50",
                                    "6": "Included VAT"
                                },
                                {
                                    "0": "PO6400018",
                                    "1": "2564-01-13",
                                    "2": "640113-5",
                                    "3": "King Care Group Co., Ltd.",
                                    "4": "K.Nueng",
                                    "5": "37878.00",
                                    "6": "Included VAT"
                                },
                                {
                                    "0": "PO6400019",
                                    "1": "2564-01-13",
                                    "2": "640113-6",
                                    "3": "Lohakarn Machinery Limited Partnership",
                                    "4": "K.Tee",
                                    "5": "5300.00",
                                    "6": "Included VAT"
                                },
                                {
                                    "0": "PO6400020",
                                    "1": "2564-01-15",
                                    "2": "640115-1",
                                    "3": "Mullergroup (Thailand) Co.,Ltd",
                                    "4": "K.Kwang",
                                    "5": "19795.00",
                                    "6": "Included VAT"
                                },
                                {
                                    "0": "PO6400021",
                                    "1": "2564-01-15",
                                    "2": "640115-5",
                                    "3": "TANG NGUAN SENG co., Ltd.",
                                    "4": "K.Aek",
                                    "5": "480.00",
                                    "6": "Included VAT"
                                },
                                {
                                    "0": "PO6400022",
                                    "1": "2564-01-15",
                                    "2": "640115-6",
                                    "3": "Hafele (Thailand) Ltd.",
                                    "4": "K.Kai",
                                    "5": "15515.00",
                                    "6": "Included VAT"
                                },
                                {
                                    "0": "PO6400023",
                                    "1": "2564-01-19",
                                    "2": "640119-2",
                                    "3": "RS Components Co. Ltd.",
                                    "4": "Wachira",
                                    "5": "2070.45",
                                    "6": "Included VAT"
                                },
                                {
                                    "0": "PO6400024",
                                    "1": "2564-01-19",
                                    "2": "640119-7",
                                    "3": "RS Components Co. Ltd.",
                                    "4": "Wachira",
                                    "5": "2381.52",
                                    "6": "Included VAT"
                                },
                                {
                                    "0": "PO6400025",
                                    "1": "2564-01-19",
                                    "2": "640119-8",
                                    "3": "Mobile2you",
                                    "4": "K.boy",
                                    "5": "19474.00",
                                    "6": "Included VAT"
                                },
                                {
                                    "0": "PO6400026",
                                    "1": "2564-01-19",
                                    "2": "640119-9",
                                    "3": "Khin Nam Huat Co., Ltd.",
                                    "4": "K.Kat",
                                    "5": "38520.00",
                                    "6": "Included VAT"
                                },
                                {
                                    "0": "PO6400027",
                                    "1": "2564-01-19",
                                    "2": "640119-10",
                                    "3": "RS Components Co. Ltd.",
                                    "4": "Wachira",
                                    "5": "4653.05",
                                    "6": "Included VAT"
                                },
                                {
                                    "0": "PO6400028",
                                    "1": "2564-01-19",
                                    "2": "640119-11",
                                    "3": "UNION CABLE CO., LTD.",
                                    "4": "K.Ploy",
                                    "5": "375425.55",
                                    "6": "Included VAT"
                                },
                                {
                                    "0": "PO6400029",
                                    "1": "2564-01-20",
                                    "2": "640120-3",
                                    "3": "RS Components Co. Ltd.",
                                    "4": "Wachira",
                                    "5": "9526.10",
                                    "6": "Included VAT"
                                },
                                {
                                    "0": "PO6400030",
                                    "1": "2564-01-21",
                                    "2": "640121-2",
                                    "3": "RS Components Co. Ltd.",
                                    "4": "Wachira",
                                    "5": "4763.05",
                                    "6": "Included VAT"
                                },
                                {
                                    "0": "PO6400031",
                                    "1": "2564-01-21",
                                    "2": "640121-4",
                                    "3": "Palawatr Co., Ltd.",
                                    "4": "K.Prae",
                                    "5": "24761.95",
                                    "6": "Included VAT"
                                },
                                {
                                    "0": "PO6400032",
                                    "1": "2564-01-22",
                                    "2": "640122-1",
                                    "3": "MATANEEPAN CO.,LTD",
                                    "4": "Pimprapai",
                                    "5": "112350.00",
                                    "6": "Included VAT"
                                },
                                {
                                    "0": "PO6400033",
                                    "1": "2564-01-25",
                                    "2": "640125-1",
                                    "3": "UNITIS CO., LTD.",
                                    "4": "Praepat",
                                    "5": "1530.00",
                                    "6": "Included VAT"
                                },
                                {
                                    "0": "PO6400034",
                                    "1": "2564-01-27",
                                    "2": "640127-2",
                                    "3": "Atom-mic power Co.,Ltd.",
                                    "4": "K.Oab",
                                    "5": "10646.50",
                                    "6": "Included VAT"
                                },
                                {
                                    "0": "PO6400035",
                                    "1": "2564-01-29",
                                    "2": "640129-1",
                                    "3": "H.T.(Bangkok) Trading Co., Ltd.",
                                    "4": "K.Yok",
                                    "5": "19608.10",
                                    "6": "Included VAT"
                                },
                                {
                                    "0": "PO6400036",
                                    "1": "2564-02-04",
                                    "2": "640204-3",
                                    "3": "BOON CHAROEN PORN METAL IMPORT COMPANY LIMITED",
                                    "4": "K.Bee",
                                    "5": "50251.10",
                                    "6": "Included VAT"
                                },
                                {
                                    "0": "PO6400037",
                                    "1": "2564-02-09",
                                    "2": "640209-1",
                                    "3": "Palawatr Co., Ltd.",
                                    "4": "K.Prae",
                                    "5": "20062.50",
                                    "6": "Included VAT"
                                },
                                {
                                    "0": "PO6400038",
                                    "1": "2564-02-09",
                                    "2": "640209-3",
                                    "3": "RS Components Co. Ltd.",
                                    "4": "Wachira",
                                    "5": "81619.50",
                                    "6": "Included VAT"
                                },
                                {
                                    "0": "PO6400039",
                                    "1": "2564-02-10",
                                    "2": "640210-5",
                                    "3": "RS Components Co. Ltd.",
                                    "4": "Wachira",
                                    "5": "4601.00",
                                    "6": "Included VAT"
                                },
                                {
                                    "0": "PO6400040",
                                    "1": "2564-02-10",
                                    "2": "640210-8",
                                    "3": "Estel Company Limited",
                                    "4": "K.Rut",
                                    "5": "2000.00",
                                    "6": "Included VAT"
                                },
                                {
                                    "0": "PO6400041",
                                    "1": "2564-02-10",
                                    "2": "640210-9",
                                    "3": "Vanich Group",
                                    "4": "Naveekit",
                                    "5": "16799.00",
                                    "6": "Included VAT"
                                },
                                {
                                    "0": "PO6400042",
                                    "1": "2564-02-11",
                                    "2": "640211-3",
                                    "3": "K.D.V. (THAILAND) CO.,LTD.",
                                    "4": "Sanchai",
                                    "5": "3659.50",
                                    "6": "Included VAT"
                                },
                                {
                                    "0": "PO6400043",
                                    "1": "2564-02-11",
                                    "2": "640211-4",
                                    "3": "K.D.V. (THAILAND) CO.,LTD.",
                                    "4": "Sanchai",
                                    "5": "8731.20",
                                    "6": "Included VAT"
                                },
                                {
                                    "0": "PO6400044",
                                    "1": "2564-02-16",
                                    "2": "640216-1",
                                    "3": "Unite Industrial Co.,Ltd.",
                                    "4": "K.Wut",
                                    "5": "20865.00",
                                    "6": "Included VAT"
                                },
                                {
                                    "0": "PO6400045",
                                    "1": "2564-02-16",
                                    "2": "640216-2",
                                    "3": "Asia Kendy Co.,LTD.",
                                    "4": "K.Ao",
                                    "5": "84500.00",
                                    "6": "Included VAT"
                                },
                                {
                                    "0": "PO6400046",
                                    "1": "2564-02-16",
                                    "2": "640216-3",
                                    "3": "Asia Kendy Co.,LTD.",
                                    "4": "K.Ao",
                                    "5": "4167.00",
                                    "6": "Included VAT"
                                },
                                {
                                    "0": "PO6400047",
                                    "1": "2564-02-17",
                                    "2": "640217-1",
                                    "3": "Sonic Automation Co.,Ltd",
                                    "4": "Kelvin",
                                    "5": "66732.69",
                                    "6": "Included VAT"
                                },
                                {
                                    "0": "PO6400048",
                                    "1": "2564-02-17",
                                    "2": "640217-2",
                                    "3": "BananaIT Central Pinklao",
                                    "4": "Wanwipa",
                                    "5": "4708.54",
                                    "6": "Included VAT"
                                },
                                {
                                    "0": "PO6400049",
                                    "1": "2564-02-18",
                                    "2": "640218-1",
                                    "3": "B.B.S. Supply and Service",
                                    "4": "Worrapoj",
                                    "5": "2878.30",
                                    "6": "Included VAT"
                                },
                                {
                                    "0": "PO6400050",
                                    "1": "2564-02-23",
                                    "2": "640223-7",
                                    "3": "Pakorn Bearing",
                                    "4": "K.Aom",
                                    "5": "984.40",
                                    "6": "Included VAT"
                                },
                                {
                                    "0": "PO6400051",
                                    "1": "2564-02-23",
                                    "2": "640223-8",
                                    "3": "Factomart",
                                    "4": "Natcharaporn",
                                    "5": "2413.92",
                                    "6": "Included VAT"
                                },
                                {
                                    "0": "PO6400052",
                                    "1": "2564-02-25",
                                    "2": "640225-2",
                                    "3": "Abex Hydraulics & Engineering Co., Ltd",
                                    "4": "Apinya",
                                    "5": "334268.00",
                                    "6": "Included VAT"
                                }
                            ]
                        },
                        "text/html": [
                            "<table>",
                            "<tr><th>po_num</th><th>date</th><th>q_num</th><th>company_name</th><th>contact_name</th><th>buy_price</th><th>description</th></tr>",
                            "<tr><td>PO6400001</td><td>2564-01-04</td><td>640104-1</td><td>Encoder Products Company</td><td>Dawn</td><td>13485.00</td><td>Included VAT</td></tr>",
                            "<tr><td>PO6400002</td><td>2564-01-04</td><td>640104-4</td><td>WAM Bulk Handling Equipment Industry (Thailand) Co.,Ltd.</td><td>Jirawadee</td><td>2354.00</td><td>Included VAT</td></tr>",
                            "<tr><td>PO6400003</td><td>2564-01-04</td><td>640104-5</td><td>Tang Kieng Nguan</td><td>Po</td><td>1350.00</td><td>Included VAT</td></tr>",
                            "<tr><td>PO6400004</td><td>2564-01-04</td><td>640104-6</td><td>RS Components Co. Ltd.</td><td>Wachira</td><td>5350.00</td><td>Included VAT</td></tr>",
                            "<tr><td>PO6400005</td><td>2564-01-06</td><td>640106-1</td><td>ASIA KENDY CO., LTD</td><td>Isara</td><td>97370.00</td><td>Included VAT</td></tr>",
                            "<tr><td>PO6400006</td><td>2564-01-06</td><td>640106-3</td><td>Alibaba.com</td><td>Shenzhen</td><td>467.00</td><td>Included VAT</td></tr>",
                            "<tr><td>PO6400007</td><td>2564-01-06</td><td>640106-5</td><td>Hilti (Thailand) Ltd.</td><td>Parada</td><td>49814.49</td><td>Included VAT</td></tr>",
                            "<tr><td>PO6400008</td><td>2564-01-06</td><td>640106-8</td><td>RS Components Co. Ltd.</td><td>Wachira</td><td>1952.75</td><td>Included VAT</td></tr>",
                            "<tr><td>PO6400009</td><td>2564-01-07</td><td>640107-2</td><td>RS Components Co. Ltd.</td><td>Wachira</td><td>45043.26</td><td>Included VAT</td></tr>",
                            "<tr><td>PO6400010</td><td>2564-01-11</td><td>640111-2</td><td>RS Components Co. Ltd.</td><td>Wachira</td><td>19022.35</td><td>Included VAT</td></tr>",
                            "<tr><td>PO6400011</td><td>2564-01-12</td><td>640112-1</td><td>Lohakarn Machinery Limited Partnership</td><td>K.Tee</td><td>5300.00</td><td>Included VAT</td></tr>",
                            "<tr><td>PO6400012</td><td>2564-01-12</td><td>640112-2</td><td>YUH Machine Tools</td><td>K.Aew</td><td>12000.00</td><td>Included VAT</td></tr>",
                            "<tr><td>PO6400013</td><td>2564-01-12</td><td>640112-4</td><td>Borneo Technical (Thailand) Limited</td><td>Chatcawan</td><td>44298.00</td><td>Included VAT</td></tr>",
                            "<tr><td>PO6400014</td><td>2564-01-12</td><td>640112-6</td><td>Tang Jib Seng Bakery Wares</td><td>Natthased</td><td>73958.40</td><td>Included VAT</td></tr>",
                            "<tr><td>PO6400015</td><td>2564-01-13</td><td>640113-1</td><td>Lohakarn Machinery Limited Partnership</td><td>K.Tee</td><td>5299.99</td><td>Included VAT</td></tr>",
                            "<tr><td>PO6400016</td><td>2564-01-13</td><td>640113-2</td><td>PSA Service and Supply Co.,Ltd</td><td>K.Tee(PSA)</td><td>15836.00</td><td>Included VAT</td></tr>",
                            "<tr><td>PO6400017</td><td>2564-01-13</td><td>640113-3</td><td>CST Supply Co.Ltd</td><td>K.Fon</td><td>23486.50</td><td>Included VAT</td></tr>",
                            "<tr><td>PO6400018</td><td>2564-01-13</td><td>640113-5</td><td>King Care Group Co., Ltd.</td><td>K.Nueng</td><td>37878.00</td><td>Included VAT</td></tr>",
                            "<tr><td>PO6400019</td><td>2564-01-13</td><td>640113-6</td><td>Lohakarn Machinery Limited Partnership</td><td>K.Tee</td><td>5300.00</td><td>Included VAT</td></tr>",
                            "<tr><td>PO6400020</td><td>2564-01-15</td><td>640115-1</td><td>Mullergroup (Thailand) Co.,Ltd</td><td>K.Kwang</td><td>19795.00</td><td>Included VAT</td></tr>",
                            "<tr><td>PO6400021</td><td>2564-01-15</td><td>640115-5</td><td>TANG NGUAN SENG co., Ltd.</td><td>K.Aek</td><td>480.00</td><td>Included VAT</td></tr>",
                            "<tr><td>PO6400022</td><td>2564-01-15</td><td>640115-6</td><td>Hafele (Thailand) Ltd.</td><td>K.Kai</td><td>15515.00</td><td>Included VAT</td></tr>",
                            "<tr><td>PO6400023</td><td>2564-01-19</td><td>640119-2</td><td>RS Components Co. Ltd.</td><td>Wachira</td><td>2070.45</td><td>Included VAT</td></tr>",
                            "<tr><td>PO6400024</td><td>2564-01-19</td><td>640119-7</td><td>RS Components Co. Ltd.</td><td>Wachira</td><td>2381.52</td><td>Included VAT</td></tr>",
                            "<tr><td>PO6400025</td><td>2564-01-19</td><td>640119-8</td><td>Mobile2you</td><td>K.boy</td><td>19474.00</td><td>Included VAT</td></tr>",
                            "<tr><td>PO6400026</td><td>2564-01-19</td><td>640119-9</td><td>Khin Nam Huat Co., Ltd.</td><td>K.Kat</td><td>38520.00</td><td>Included VAT</td></tr>",
                            "<tr><td>PO6400027</td><td>2564-01-19</td><td>640119-10</td><td>RS Components Co. Ltd.</td><td>Wachira</td><td>4653.05</td><td>Included VAT</td></tr>",
                            "<tr><td>PO6400028</td><td>2564-01-19</td><td>640119-11</td><td>UNION CABLE CO., LTD.</td><td>K.Ploy</td><td>375425.55</td><td>Included VAT</td></tr>",
                            "<tr><td>PO6400029</td><td>2564-01-20</td><td>640120-3</td><td>RS Components Co. Ltd.</td><td>Wachira</td><td>9526.10</td><td>Included VAT</td></tr>",
                            "<tr><td>PO6400030</td><td>2564-01-21</td><td>640121-2</td><td>RS Components Co. Ltd.</td><td>Wachira</td><td>4763.05</td><td>Included VAT</td></tr>",
                            "<tr><td>PO6400031</td><td>2564-01-21</td><td>640121-4</td><td>Palawatr Co., Ltd.</td><td>K.Prae</td><td>24761.95</td><td>Included VAT</td></tr>",
                            "<tr><td>PO6400032</td><td>2564-01-22</td><td>640122-1</td><td>MATANEEPAN CO.,LTD</td><td>Pimprapai</td><td>112350.00</td><td>Included VAT</td></tr>",
                            "<tr><td>PO6400033</td><td>2564-01-25</td><td>640125-1</td><td>UNITIS CO., LTD.</td><td>Praepat</td><td>1530.00</td><td>Included VAT</td></tr>",
                            "<tr><td>PO6400034</td><td>2564-01-27</td><td>640127-2</td><td>Atom-mic power Co.,Ltd.</td><td>K.Oab</td><td>10646.50</td><td>Included VAT</td></tr>",
                            "<tr><td>PO6400035</td><td>2564-01-29</td><td>640129-1</td><td>H.T.(Bangkok) Trading Co., Ltd.</td><td>K.Yok</td><td>19608.10</td><td>Included VAT</td></tr>",
                            "<tr><td>PO6400036</td><td>2564-02-04</td><td>640204-3</td><td>BOON CHAROEN PORN METAL IMPORT COMPANY LIMITED</td><td>K.Bee</td><td>50251.10</td><td>Included VAT</td></tr>",
                            "<tr><td>PO6400037</td><td>2564-02-09</td><td>640209-1</td><td>Palawatr Co., Ltd.</td><td>K.Prae</td><td>20062.50</td><td>Included VAT</td></tr>",
                            "<tr><td>PO6400038</td><td>2564-02-09</td><td>640209-3</td><td>RS Components Co. Ltd.</td><td>Wachira</td><td>81619.50</td><td>Included VAT</td></tr>",
                            "<tr><td>PO6400039</td><td>2564-02-10</td><td>640210-5</td><td>RS Components Co. Ltd.</td><td>Wachira</td><td>4601.00</td><td>Included VAT</td></tr>",
                            "<tr><td>PO6400040</td><td>2564-02-10</td><td>640210-8</td><td>Estel Company Limited</td><td>K.Rut</td><td>2000.00</td><td>Included VAT</td></tr>",
                            "<tr><td>PO6400041</td><td>2564-02-10</td><td>640210-9</td><td>Vanich Group</td><td>Naveekit</td><td>16799.00</td><td>Included VAT</td></tr>",
                            "<tr><td>PO6400042</td><td>2564-02-11</td><td>640211-3</td><td>K.D.V. (THAILAND) CO.,LTD.</td><td>Sanchai</td><td>3659.50</td><td>Included VAT</td></tr>",
                            "<tr><td>PO6400043</td><td>2564-02-11</td><td>640211-4</td><td>K.D.V. (THAILAND) CO.,LTD.</td><td>Sanchai</td><td>8731.20</td><td>Included VAT</td></tr>",
                            "<tr><td>PO6400044</td><td>2564-02-16</td><td>640216-1</td><td>Unite Industrial Co.,Ltd.</td><td>K.Wut</td><td>20865.00</td><td>Included VAT</td></tr>",
                            "<tr><td>PO6400045</td><td>2564-02-16</td><td>640216-2</td><td>Asia Kendy Co.,LTD.</td><td>K.Ao</td><td>84500.00</td><td>Included VAT</td></tr>",
                            "<tr><td>PO6400046</td><td>2564-02-16</td><td>640216-3</td><td>Asia Kendy Co.,LTD.</td><td>K.Ao</td><td>4167.00</td><td>Included VAT</td></tr>",
                            "<tr><td>PO6400047</td><td>2564-02-17</td><td>640217-1</td><td>Sonic Automation Co.,Ltd</td><td>Kelvin</td><td>66732.69</td><td>Included VAT</td></tr>",
                            "<tr><td>PO6400048</td><td>2564-02-17</td><td>640217-2</td><td>BananaIT Central Pinklao</td><td>Wanwipa</td><td>4708.54</td><td>Included VAT</td></tr>",
                            "<tr><td>PO6400049</td><td>2564-02-18</td><td>640218-1</td><td>B.B.S. Supply and Service</td><td>Worrapoj</td><td>2878.30</td><td>Included VAT</td></tr>",
                            "<tr><td>PO6400050</td><td>2564-02-23</td><td>640223-7</td><td>Pakorn Bearing</td><td>K.Aom</td><td>984.40</td><td>Included VAT</td></tr>",
                            "<tr><td>PO6400051</td><td>2564-02-23</td><td>640223-8</td><td>Factomart</td><td>Natcharaporn</td><td>2413.92</td><td>Included VAT</td></tr>",
                            "<tr><td>PO6400052</td><td>2564-02-25</td><td>640225-2</td><td>Abex Hydraulics &amp; Engineering Co., Ltd</td><td>Apinya</td><td>334268.00</td><td>Included VAT</td></tr>",
                            "</table>"
                        ]
                    }
                }
            ],
            "execution_count": 43
        },
        {
            "cell_type": "code",
            "source": [
                "/*Show total profit and profit margin in year */\n",
                "SELECT DATEPART(YEAR, quotation.Date) AS Closing_Year ,SUM(sell_price-buy_price) as Profit, sum(sell_price-buy_price)/sum(quotation.sell_price/100) as Profit_margin\n",
                "FROM quotation,purchase_order \n",
                "WHERE purchase_order.q_num = quotation.q_num\n",
                "GROUP BY DATEPART(year ,quotation.Date);"
            ],
            "metadata": {
                "azdata_cell_guid": "e559b992-efa5-43cf-95ce-0a3a0c99718b"
            },
            "outputs": [
                {
                    "output_type": "display_data",
                    "data": {
                        "text/html": "(1 row affected)"
                    },
                    "metadata": {}
                },
                {
                    "output_type": "display_data",
                    "data": {
                        "text/html": "Total execution time: 00:00:00.064"
                    },
                    "metadata": {}
                },
                {
                    "output_type": "execute_result",
                    "metadata": {},
                    "execution_count": 44,
                    "data": {
                        "application/vnd.dataresource+json": {
                            "schema": {
                                "fields": [
                                    {
                                        "name": "Closing_Year"
                                    },
                                    {
                                        "name": "Profit"
                                    },
                                    {
                                        "name": "Profit_margin"
                                    }
                                ]
                            },
                            "data": [
                                {
                                    "0": "2564",
                                    "1": "1074845.61",
                                    "2": "36.997896"
                                }
                            ]
                        },
                        "text/html": [
                            "<table>",
                            "<tr><th>Closing_Year</th><th>Profit</th><th>Profit_margin</th></tr>",
                            "<tr><td>2564</td><td>1074845.61</td><td>36.997896</td></tr>",
                            "</table>"
                        ]
                    }
                }
            ],
            "execution_count": 44
        },
        {
            "cell_type": "code",
            "source": [
                "/*Show total profit and profit margin in month */\n",
                "SELECT DATEPART(Month, quotation.Date) AS Closing_Month ,SUM(sell_price-buy_price) as Profit, sum(sell_price-buy_price)/sum(quotation.sell_price/100) as Profit_margin\n",
                "FROM quotation,purchase_order \n",
                "WHERE purchase_order.q_num = quotation.q_num\n",
                "GROUP BY DATEPART(Month ,quotation.Date);"
            ],
            "metadata": {
                "azdata_cell_guid": "9c698264-8427-4c5d-aae5-7f89a3b716d8"
            },
            "outputs": [
                {
                    "output_type": "display_data",
                    "data": {
                        "text/html": "(2 rows affected)"
                    },
                    "metadata": {}
                },
                {
                    "output_type": "display_data",
                    "data": {
                        "text/html": "Total execution time: 00:00:00.023"
                    },
                    "metadata": {}
                },
                {
                    "output_type": "execute_result",
                    "metadata": {},
                    "execution_count": 45,
                    "data": {
                        "application/vnd.dataresource+json": {
                            "schema": {
                                "fields": [
                                    {
                                        "name": "Closing_Month"
                                    },
                                    {
                                        "name": "Profit"
                                    },
                                    {
                                        "name": "Profit_margin"
                                    }
                                ]
                            },
                            "data": [
                                {
                                    "0": "1",
                                    "1": "782278.36",
                                    "2": "41.100200"
                                },
                                {
                                    "0": "2",
                                    "1": "292567.25",
                                    "2": "29.203898"
                                }
                            ]
                        },
                        "text/html": [
                            "<table>",
                            "<tr><th>Closing_Month</th><th>Profit</th><th>Profit_margin</th></tr>",
                            "<tr><td>1</td><td>782278.36</td><td>41.100200</td></tr>",
                            "<tr><td>2</td><td>292567.25</td><td>29.203898</td></tr>",
                            "</table>"
                        ]
                    }
                }
            ],
            "execution_count": 45
        },
        {
            "cell_type": "code",
            "source": [
                "/*Show number of order, total income and total profit from each company */\n",
                "SELECT Company.company_name,count(quotation.qr_num) as Count_QR, sum(quotation.sell_price) as Total_income, sum(quotation.sell_price-purchase_order.buy_price) as Total_profit\n",
                "FROM quotation,Quotation_request ,Company, purchase_order\n",
                "WHERE quotation.qr_num = Quotation_request.qr_num and Quotation_request.company_name = Company.company_name and purchase_order.q_num = quotation.q_num\n",
                "GROUP BY Company.company_name\n",
                "ORDER by Count_QR desc"
            ],
            "metadata": {
                "azdata_cell_guid": "1bafd276-e96a-4be4-bd17-fe5badd228b2",
                "tags": []
            },
            "outputs": [
                {
                    "output_type": "display_data",
                    "data": {
                        "text/html": "(11 rows affected)"
                    },
                    "metadata": {}
                },
                {
                    "output_type": "display_data",
                    "data": {
                        "text/html": "Total execution time: 00:00:00.037"
                    },
                    "metadata": {}
                },
                {
                    "output_type": "execute_result",
                    "metadata": {},
                    "execution_count": 46,
                    "data": {
                        "application/vnd.dataresource+json": {
                            "schema": {
                                "fields": [
                                    {
                                        "name": "company_name"
                                    },
                                    {
                                        "name": "Count_QR"
                                    },
                                    {
                                        "name": "Total_income"
                                    },
                                    {
                                        "name": "Total_profit"
                                    }
                                ]
                            },
                            "data": [
                                {
                                    "0": "Michelin Siam Co., Ltd (Hat Yai)",
                                    "1": "27",
                                    "2": "1444949.95",
                                    "3": "588892.15"
                                },
                                {
                                    "0": "Michelin Siam Co., Ltd (Nongkhae)",
                                    "1": "11",
                                    "2": "366089.80",
                                    "3": "97176.87"
                                },
                                {
                                    "0": "Michelin Siam Co., Ltd (Laem Chabang)",
                                    "1": "4",
                                    "2": "312397.20",
                                    "3": "150886.69"
                                },
                                {
                                    "0": "Michelin Siam Co., Ltd (Pradaeng)",
                                    "1": "3",
                                    "2": "43495.50",
                                    "3": "31240.50"
                                },
                                {
                                    "0": "Michelin Thailand (Bangkok Head Office)",
                                    "1": "1",
                                    "2": "34775.00",
                                    "3": "15301.00"
                                },
                                {
                                    "0": "N.H.K. Supply LTD.Part.",
                                    "1": "1",
                                    "2": "83888.00",
                                    "3": "2268.50"
                                },
                                {
                                    "0": "Retro Power Co.,Ltd",
                                    "1": "1",
                                    "2": "2996.00",
                                    "3": "614.48"
                                },
                                {
                                    "0": "SIME DARBY OILS MORAKOT PUBLIC COMPANY LIMITED",
                                    "1": "1",
                                    "2": "29960.00",
                                    "3": "29493.00"
                                },
                                {
                                    "0": "V2S Engineering Co Ltd",
                                    "1": "1",
                                    "2": "154080.00",
                                    "3": "103828.90"
                                },
                                {
                                    "0": "ACS Technology (Thailand) Co.,Ltd",
                                    "1": "1",
                                    "2": "7704.00",
                                    "3": "5751.25"
                                },
                                {
                                    "0": "Aditya Birla Chemicals (Thailand) Ltd.",
                                    "1": "1",
                                    "2": "424817.82",
                                    "3": "49392.27"
                                }
                            ]
                        },
                        "text/html": [
                            "<table>",
                            "<tr><th>company_name</th><th>Count_QR</th><th>Total_income</th><th>Total_profit</th></tr>",
                            "<tr><td>Michelin Siam Co., Ltd (Hat Yai)</td><td>27</td><td>1444949.95</td><td>588892.15</td></tr>",
                            "<tr><td>Michelin Siam Co., Ltd (Nongkhae)</td><td>11</td><td>366089.80</td><td>97176.87</td></tr>",
                            "<tr><td>Michelin Siam Co., Ltd (Laem Chabang)</td><td>4</td><td>312397.20</td><td>150886.69</td></tr>",
                            "<tr><td>Michelin Siam Co., Ltd (Pradaeng)</td><td>3</td><td>43495.50</td><td>31240.50</td></tr>",
                            "<tr><td>Michelin Thailand (Bangkok Head Office)</td><td>1</td><td>34775.00</td><td>15301.00</td></tr>",
                            "<tr><td>N.H.K. Supply LTD.Part.</td><td>1</td><td>83888.00</td><td>2268.50</td></tr>",
                            "<tr><td>Retro Power Co.,Ltd</td><td>1</td><td>2996.00</td><td>614.48</td></tr>",
                            "<tr><td>SIME DARBY OILS MORAKOT PUBLIC COMPANY LIMITED</td><td>1</td><td>29960.00</td><td>29493.00</td></tr>",
                            "<tr><td>V2S Engineering Co Ltd</td><td>1</td><td>154080.00</td><td>103828.90</td></tr>",
                            "<tr><td>ACS Technology (Thailand) Co.,Ltd</td><td>1</td><td>7704.00</td><td>5751.25</td></tr>",
                            "<tr><td>Aditya Birla Chemicals (Thailand) Ltd.</td><td>1</td><td>424817.82</td><td>49392.27</td></tr>",
                            "</table>"
                        ]
                    }
                }
            ],
            "execution_count": 46
        },
        {
            "cell_type": "code",
            "source": [
                "/*Show number of order and Total profit of each contact name */\n",
                "SELECT Quotation_request.contact_name, count(Quotation_request.qr_num) as count_order, sum(quotation.sell_price-purchase_order.buy_price) as Total_profit\n",
                "FROM Quotation_request, quotation, purchase_order\n",
                "where Quotation_request.qr_num = quotation.qr_num and purchase_order.q_num = quotation.q_num\n",
                "GROUP BY Quotation_request.contact_name\n",
                "ORDER by Total_profit desc"
            ],
            "metadata": {
                "azdata_cell_guid": "e151ba4e-63dd-404a-95a4-86f10d18631e"
            },
            "outputs": [
                {
                    "output_type": "display_data",
                    "data": {
                        "text/html": "(20 rows affected)"
                    },
                    "metadata": {}
                },
                {
                    "output_type": "display_data",
                    "data": {
                        "text/html": "Total execution time: 00:00:00.091"
                    },
                    "metadata": {}
                },
                {
                    "output_type": "execute_result",
                    "metadata": {},
                    "execution_count": 47,
                    "data": {
                        "application/vnd.dataresource+json": {
                            "schema": {
                                "fields": [
                                    {
                                        "name": "contact_name"
                                    },
                                    {
                                        "name": "count_order"
                                    },
                                    {
                                        "name": "Total_profit"
                                    }
                                ]
                            },
                            "data": [
                                {
                                    "0": "Kuntida",
                                    "1": "27",
                                    "2": "588892.15"
                                },
                                {
                                    "0": "Wanna",
                                    "1": "1",
                                    "2": "103828.90"
                                },
                                {
                                    "0": "Samai",
                                    "1": "1",
                                    "2": "77471.74"
                                },
                                {
                                    "0": "Kattariya",
                                    "1": "2",
                                    "2": "69710.50"
                                },
                                {
                                    "0": "Panrattana",
                                    "1": "1",
                                    "2": "49392.27"
                                },
                                {
                                    "0": "Surapong",
                                    "1": "1",
                                    "2": "32100.00"
                                },
                                {
                                    "0": "Kanya",
                                    "1": "2",
                                    "2": "30706.00"
                                },
                                {
                                    "0": "Vekit",
                                    "1": "1",
                                    "2": "29493.00"
                                },
                                {
                                    "0": "Wannaya",
                                    "1": "2",
                                    "2": "28351.50"
                                },
                                {
                                    "0": "Tana",
                                    "1": "2",
                                    "2": "17331.85"
                                },
                                {
                                    "0": "Chatpol",
                                    "1": "1",
                                    "2": "15301.00"
                                },
                                {
                                    "0": "Ekkasit",
                                    "1": "1",
                                    "2": "14171.51"
                                },
                                {
                                    "0": "Amporn",
                                    "1": "1",
                                    "2": "5751.25"
                                },
                                {
                                    "0": "Nara",
                                    "1": "1",
                                    "2": "3704.45"
                                },
                                {
                                    "0": "Supphasit",
                                    "1": "1",
                                    "2": "2889.00"
                                },
                                {
                                    "0": "K.Pink",
                                    "1": "1",
                                    "2": "2268.50"
                                },
                                {
                                    "0": "Supaporn",
                                    "1": "1",
                                    "2": "2001.00"
                                },
                                {
                                    "0": "Sanya",
                                    "1": "1",
                                    "2": "1655.00"
                                },
                                {
                                    "0": "Rachata",
                                    "1": "1",
                                    "2": "614.48"
                                },
                                {
                                    "0": "Sitthichai",
                                    "1": "3",
                                    "2": "-788.49"
                                }
                            ]
                        },
                        "text/html": [
                            "<table>",
                            "<tr><th>contact_name</th><th>count_order</th><th>Total_profit</th></tr>",
                            "<tr><td>Kuntida</td><td>27</td><td>588892.15</td></tr>",
                            "<tr><td>Wanna</td><td>1</td><td>103828.90</td></tr>",
                            "<tr><td>Samai</td><td>1</td><td>77471.74</td></tr>",
                            "<tr><td>Kattariya</td><td>2</td><td>69710.50</td></tr>",
                            "<tr><td>Panrattana</td><td>1</td><td>49392.27</td></tr>",
                            "<tr><td>Surapong</td><td>1</td><td>32100.00</td></tr>",
                            "<tr><td>Kanya</td><td>2</td><td>30706.00</td></tr>",
                            "<tr><td>Vekit</td><td>1</td><td>29493.00</td></tr>",
                            "<tr><td>Wannaya</td><td>2</td><td>28351.50</td></tr>",
                            "<tr><td>Tana</td><td>2</td><td>17331.85</td></tr>",
                            "<tr><td>Chatpol</td><td>1</td><td>15301.00</td></tr>",
                            "<tr><td>Ekkasit</td><td>1</td><td>14171.51</td></tr>",
                            "<tr><td>Amporn</td><td>1</td><td>5751.25</td></tr>",
                            "<tr><td>Nara</td><td>1</td><td>3704.45</td></tr>",
                            "<tr><td>Supphasit</td><td>1</td><td>2889.00</td></tr>",
                            "<tr><td>K.Pink</td><td>1</td><td>2268.50</td></tr>",
                            "<tr><td>Supaporn</td><td>1</td><td>2001.00</td></tr>",
                            "<tr><td>Sanya</td><td>1</td><td>1655.00</td></tr>",
                            "<tr><td>Rachata</td><td>1</td><td>614.48</td></tr>",
                            "<tr><td>Sitthichai</td><td>3</td><td>-788.49</td></tr>",
                            "</table>"
                        ]
                    }
                }
            ],
            "execution_count": 47
        },
        {
            "cell_type": "code",
            "source": [
                "/*Find supplier detail and old price by quotation number */\n",
                "SELECT Purchase_order.company_name, Company.tel_num, Company.fax_num, Purchase_order.contact_name, Purchase_order.buy_price\n",
                "FROM Purchase_order, Company\n",
                "WHERE Purchase_order.company_name = Company.company_name and \n",
                "\n",
                "Purchase_order.q_num = '640104-5'"
            ],
            "metadata": {
                "azdata_cell_guid": "d5896f52-96a5-4f71-b783-d7c8045744ea",
                "tags": []
            },
            "outputs": [
                {
                    "output_type": "display_data",
                    "data": {
                        "text/html": "(1 row affected)"
                    },
                    "metadata": {}
                },
                {
                    "output_type": "display_data",
                    "data": {
                        "text/html": "Total execution time: 00:00:00.033"
                    },
                    "metadata": {}
                },
                {
                    "output_type": "execute_result",
                    "metadata": {},
                    "execution_count": 48,
                    "data": {
                        "application/vnd.dataresource+json": {
                            "schema": {
                                "fields": [
                                    {
                                        "name": "company_name"
                                    },
                                    {
                                        "name": "tel_num"
                                    },
                                    {
                                        "name": "fax_num"
                                    },
                                    {
                                        "name": "contact_name"
                                    },
                                    {
                                        "name": "buy_price"
                                    }
                                ]
                            },
                            "data": [
                                {
                                    "0": "Tang Kieng Nguan",
                                    "1": "+66222327424",
                                    "2": "+6622253906",
                                    "3": "Po",
                                    "4": "1350.00"
                                }
                            ]
                        },
                        "text/html": [
                            "<table>",
                            "<tr><th>company_name</th><th>tel_num</th><th>fax_num</th><th>contact_name</th><th>buy_price</th></tr>",
                            "<tr><td>Tang Kieng Nguan</td><td>+66222327424</td><td>+6622253906</td><td>Po</td><td>1350.00</td></tr>",
                            "</table>"
                        ]
                    }
                }
            ],
            "execution_count": 48
        },
        {
            "cell_type": "code",
            "source": [
                "/*Find supplier detail, old_buy_price, old_sell_price and Date by part number */\n",
                "SELECT Purchase_order.company_name as supplier_company, Company.tel_num, Company.fax_num, Purchase_order.contact_name, Purchase_order.buy_price as old_buy_price, Quotation.sell_price as old_sell_price ,Purchase_order.date\n",
                "FROM Purchase_order, Company ,Quotation_request ,Quotation\n",
                "WHERE Quotation.qr_num = Quotation_request.qr_num and \n",
                "Quotation.q_num = Purchase_order.q_num and\n",
                "Purchase_order.company_name = Company.company_name and \n",
                "\n",
                "Quotation_request.part_num = 'PN410338823'"
            ],
            "metadata": {
                "azdata_cell_guid": "73978fa2-0dc0-4bbe-929c-f7d394d1b8e5"
            },
            "outputs": [
                {
                    "output_type": "display_data",
                    "data": {
                        "text/html": "(1 row affected)"
                    },
                    "metadata": {}
                },
                {
                    "output_type": "display_data",
                    "data": {
                        "text/html": "Total execution time: 00:00:00.102"
                    },
                    "metadata": {}
                },
                {
                    "output_type": "execute_result",
                    "metadata": {},
                    "execution_count": 49,
                    "data": {
                        "application/vnd.dataresource+json": {
                            "schema": {
                                "fields": [
                                    {
                                        "name": "supplier_company"
                                    },
                                    {
                                        "name": "tel_num"
                                    },
                                    {
                                        "name": "fax_num"
                                    },
                                    {
                                        "name": "contact_name"
                                    },
                                    {
                                        "name": "old_buy_price"
                                    },
                                    {
                                        "name": "old_sell_price"
                                    },
                                    {
                                        "name": "date"
                                    }
                                ]
                            },
                            "data": [
                                {
                                    "0": "Encoder Products Company",
                                    "1": "+12082638541",
                                    "2": "+12082630541",
                                    "3": "Dawn",
                                    "4": "13485.00",
                                    "5": "32635.00",
                                    "6": "2564-01-04"
                                }
                            ]
                        },
                        "text/html": [
                            "<table>",
                            "<tr><th>supplier_company</th><th>tel_num</th><th>fax_num</th><th>contact_name</th><th>old_buy_price</th><th>old_sell_price</th><th>date</th></tr>",
                            "<tr><td>Encoder Products Company</td><td>+12082638541</td><td>+12082630541</td><td>Dawn</td><td>13485.00</td><td>32635.00</td><td>2564-01-04</td></tr>",
                            "</table>"
                        ]
                    }
                }
            ],
            "execution_count": 49
        },
        {
            "cell_type": "code",
            "source": [
                "/*Find product detail by part number*/\n",
                "SELECT part_num, product_name, description\n",
                "FROM Product\n",
                "WHERE part_num = 'PN410338823'"
            ],
            "metadata": {
                "azdata_cell_guid": "83cf8e48-128e-4b38-b41b-a970b82abdc5"
            },
            "outputs": [
                {
                    "output_type": "display_data",
                    "data": {
                        "text/html": "(1 row affected)"
                    },
                    "metadata": {}
                },
                {
                    "output_type": "display_data",
                    "data": {
                        "text/html": "Total execution time: 00:00:00.039"
                    },
                    "metadata": {}
                },
                {
                    "output_type": "execute_result",
                    "metadata": {},
                    "execution_count": 50,
                    "data": {
                        "application/vnd.dataresource+json": {
                            "schema": {
                                "fields": [
                                    {
                                        "name": "part_num"
                                    },
                                    {
                                        "name": "product_name"
                                    },
                                    {
                                        "name": "description"
                                    }
                                ]
                            },
                            "data": [
                                {
                                    "0": "PN410338823",
                                    "1": "ACCU-CODER",
                                    "2": "INCREMENTAL ENCODER MOODEL:725N-S-S-1000-Q-PP-I-F-1-EG-N-N"
                                }
                            ]
                        },
                        "text/html": [
                            "<table>",
                            "<tr><th>part_num</th><th>product_name</th><th>description</th></tr>",
                            "<tr><td>PN410338823</td><td>ACCU-CODER</td><td>INCREMENTAL ENCODER MOODEL:725N-S-S-1000-Q-PP-I-F-1-EG-N-N</td></tr>",
                            "</table>"
                        ]
                    }
                }
            ],
            "execution_count": 50
        },
        {
            "cell_type": "code",
            "source": [
                "/*Find all contact from this company name*/\n",
                "SELECT contact_name, email\n",
                "FROM Contact\n",
                "WHERE company_name = 'Michelin Siam Co., Ltd (Nongkhae)'"
            ],
            "metadata": {
                "azdata_cell_guid": "12c65a09-01df-4fe1-9c6e-901334c80636"
            },
            "outputs": [
                {
                    "output_type": "display_data",
                    "data": {
                        "text/html": "(7 rows affected)"
                    },
                    "metadata": {}
                },
                {
                    "output_type": "display_data",
                    "data": {
                        "text/html": "Total execution time: 00:00:00.033"
                    },
                    "metadata": {}
                },
                {
                    "output_type": "execute_result",
                    "metadata": {},
                    "execution_count": 51,
                    "data": {
                        "application/vnd.dataresource+json": {
                            "schema": {
                                "fields": [
                                    {
                                        "name": "contact_name"
                                    },
                                    {
                                        "name": "email"
                                    }
                                ]
                            },
                            "data": [
                                {
                                    "0": "Ekkasit",
                                    "1": "ekkasit.nongkhae@michelin.com"
                                },
                                {
                                    "0": "Kanya",
                                    "1": "choothum.kanya@michelin.com"
                                },
                                {
                                    "0": "Sanya",
                                    "1": "warakid.sanya@michelin.com"
                                },
                                {
                                    "0": "Sitthichai",
                                    "1": "arunlertsiri.sitthichai@michelin.com"
                                },
                                {
                                    "0": "Supaporn",
                                    "1": "lainumngoen.supaporn@michelin.com"
                                },
                                {
                                    "0": "Surapong",
                                    "1": "surapong.nongkhae@michelin.com"
                                },
                                {
                                    "0": "Tana",
                                    "1": "Tana.maladang@michelin.com"
                                }
                            ]
                        },
                        "text/html": [
                            "<table>",
                            "<tr><th>contact_name</th><th>email</th></tr>",
                            "<tr><td>Ekkasit</td><td>ekkasit.nongkhae@michelin.com</td></tr>",
                            "<tr><td>Kanya</td><td>choothum.kanya@michelin.com</td></tr>",
                            "<tr><td>Sanya</td><td>warakid.sanya@michelin.com</td></tr>",
                            "<tr><td>Sitthichai</td><td>arunlertsiri.sitthichai@michelin.com</td></tr>",
                            "<tr><td>Supaporn</td><td>lainumngoen.supaporn@michelin.com</td></tr>",
                            "<tr><td>Surapong</td><td>surapong.nongkhae@michelin.com</td></tr>",
                            "<tr><td>Tana</td><td>Tana.maladang@michelin.com</td></tr>",
                            "</table>"
                        ]
                    }
                }
            ],
            "execution_count": 51
        }
    ]
}